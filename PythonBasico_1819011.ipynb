{
 "cells": [
  {
   "cell_type": "markdown",
   "metadata": {},
   "source": [
    "Fernando Isaí González Castillo 1819011  Grupo 002"
   ]
  },
  {
   "cell_type": "markdown",
   "metadata": {},
   "source": [
    "- Programa 1 Hola mundo"
   ]
  },
  {
   "cell_type": "code",
   "execution_count": 122,
   "metadata": {},
   "outputs": [
    {
     "name": "stdout",
     "output_type": "stream",
     "text": [
      "Hola mundo!!\n"
     ]
    }
   ],
   "source": [
    "print(\"Hola mundo!!\")"
   ]
  },
  {
   "cell_type": "markdown",
   "metadata": {},
   "source": [
    "### Ejercicio 1:\n",
    "Realiza una variable con tu matricula y realiza una secuencia de imprimir con tu nombre y tu matricula concatenados.\n"
   ]
  },
  {
   "cell_type": "code",
   "execution_count": 123,
   "metadata": {},
   "outputs": [],
   "source": [
    "matricula=1819011\n",
    "nombre= \"Fernando Isai Gonzalez Castillo\""
   ]
  },
  {
   "cell_type": "code",
   "execution_count": 124,
   "metadata": {},
   "outputs": [
    {
     "name": "stdout",
     "output_type": "stream",
     "text": [
      "Fernando Isai Gonzalez Castillo 1819011\n"
     ]
    }
   ],
   "source": [
    "datos=nombre + ' '+ str(matricula)\n",
    "print(datos)"
   ]
  },
  {
   "cell_type": "markdown",
   "metadata": {},
   "source": [
    "- Programa 2: Matemáticas sencillas"
   ]
  },
  {
   "cell_type": "code",
   "execution_count": 4,
   "metadata": {},
   "outputs": [
    {
     "name": "stdout",
     "output_type": "stream",
     "text": [
      "10 54 2926\n"
     ]
    }
   ],
   "source": [
    "a= 10\n",
    "b= 54\n",
    "\n",
    "c=a+b**2\n",
    "print(a,b,c)"
   ]
  },
  {
   "cell_type": "markdown",
   "metadata": {},
   "source": [
    "- Programa 3: Input del usuario"
   ]
  },
  {
   "cell_type": "code",
   "execution_count": 125,
   "metadata": {},
   "outputs": [
    {
     "name": "stdout",
     "output_type": "stream",
     "text": [
      "Introduce un número: 15\n",
      "Introduce otro número: 20\n"
     ]
    }
   ],
   "source": [
    "a1= int(input(\"Introduce un número: \"))\n",
    "b1= int(input(\"Introduce otro número: \"))"
   ]
  },
  {
   "cell_type": "code",
   "execution_count": 126,
   "metadata": {},
   "outputs": [
    {
     "name": "stdout",
     "output_type": "stream",
     "text": [
      "Primer número:  15\n",
      "Segundo número:  20\n"
     ]
    }
   ],
   "source": [
    "print(\"Primer número: \", a1)\n",
    "print(\"Segundo número: \", b1)"
   ]
  },
  {
   "cell_type": "markdown",
   "metadata": {},
   "source": [
    "### Ejercicio 2:\n",
    "Pidiendo el input del usuario pide dos números y crea una pequeña calculadora con los operadores básicos de suma, resta, multiplicación, división, y exponente."
   ]
  },
  {
   "cell_type": "code",
   "execution_count": 127,
   "metadata": {},
   "outputs": [
    {
     "name": "stdout",
     "output_type": "stream",
     "text": [
      "Teclea el primer número: 5\n",
      "Teclea el segundo número: 3\n"
     ]
    }
   ],
   "source": [
    "num1=int(input(\"Teclea el primer número: \"))\n",
    "num2=int(input(\"Teclea el segundo número: \"))"
   ]
  },
  {
   "cell_type": "code",
   "execution_count": 128,
   "metadata": {},
   "outputs": [],
   "source": [
    "suma= num1+num2\n",
    "resta1=num1-num2\n",
    "resta2= num2-num1\n",
    "multiplicacion=num1*num2\n",
    "division=num1/num2\n",
    "potencia=num1**num2"
   ]
  },
  {
   "cell_type": "code",
   "execution_count": 129,
   "metadata": {},
   "outputs": [
    {
     "name": "stdout",
     "output_type": "stream",
     "text": [
      "La suma de 5 + 3 es 8\n",
      "La resta de 5 - 3 es 2\n",
      "La resta de 3 - 5 es -2\n",
      "La multiplicación de 5 * 3 es 15\n",
      "La division de 5 / 3 es 1.6666666666666667\n",
      "La potencia de 5 ^ 3 es 125\n"
     ]
    }
   ],
   "source": [
    "print(\"La suma de\", num1, \"+\",num2, \"es\", suma)\n",
    "print(\"La resta de\", num1, \"-\", num2, \"es\", resta1)\n",
    "print(\"La resta de\", num2, \"-\", num1, \"es\", resta2)\n",
    "print(\"La multiplicación de\", num1, \"*\",num2, \"es\", multiplicacion)\n",
    "print(\"La division de\", num1, \"/\",num2, \"es\", division)\n",
    "print(\"La potencia de\", num1, \"^\",num2, \"es\", potencia)"
   ]
  },
  {
   "cell_type": "markdown",
   "metadata": {},
   "source": [
    "- Programa 4: Utilizando el loop de while"
   ]
  },
  {
   "cell_type": "code",
   "execution_count": 130,
   "metadata": {},
   "outputs": [
    {
     "name": "stdout",
     "output_type": "stream",
     "text": [
      "1\n",
      "2\n",
      "3\n",
      "4\n",
      "5\n",
      "6\n",
      "7\n",
      "8\n",
      "9\n",
      "10\n"
     ]
    }
   ],
   "source": [
    "i=1\n",
    "while i<=10:\n",
    "    print(i)\n",
    "    i=i+1"
   ]
  },
  {
   "cell_type": "markdown",
   "metadata": {},
   "source": [
    "- Programa 5: Utilizando la función de range"
   ]
  },
  {
   "cell_type": "code",
   "execution_count": 131,
   "metadata": {},
   "outputs": [
    {
     "name": "stdout",
     "output_type": "stream",
     "text": [
      "range(10)--> [0, 1, 2, 3, 4, 5, 6, 7, 8, 9]\n",
      "range(0,20)--> [0, 1, 2, 3, 4, 5, 6, 7, 8, 9, 10, 11, 12, 13, 14, 15, 16, 17, 18, 19]\n",
      "range(10,20)--> [10, 11, 12, 13, 14, 15, 16, 17, 18, 19]\n",
      "range(0,20,2)--> [0, 2, 4, 6, 8, 10, 12, 14, 16, 18]\n",
      "range(-10,-20,2)--> []\n",
      "range(-10,-20,-2)--> [-10, -12, -14, -16, -18]\n"
     ]
    }
   ],
   "source": [
    "print(\"range(10)-->\", list(range(10)))\n",
    "print(\"range(0,20)-->\", list(range(0,20)))\n",
    "print(\"range(10,20)-->\", list(range(10,20)))\n",
    "print(\"range(0,20,2)-->\", list(range(0,20,2)))\n",
    "print(\"range(-10,-20,2)-->\", list(range(-10,-20,2)))\n",
    "print(\"range(-10,-20,-2)-->\", list(range(-10,-20,-2)))"
   ]
  },
  {
   "cell_type": "markdown",
   "metadata": {},
   "source": [
    "- Programa 6: Utilizando la funcion de range en el loop de for"
   ]
  },
  {
   "cell_type": "code",
   "execution_count": 132,
   "metadata": {},
   "outputs": [
    {
     "name": "stdout",
     "output_type": "stream",
     "text": [
      "0\n",
      "1\n",
      "2\n",
      "3\n",
      "4\n",
      "5\n",
      "6\n",
      "7\n",
      "8\n",
      "9\n"
     ]
    }
   ],
   "source": [
    "for i in range(0,10):\n",
    "    print(i)"
   ]
  },
  {
   "cell_type": "code",
   "execution_count": 133,
   "metadata": {},
   "outputs": [
    {
     "name": "stdout",
     "output_type": "stream",
     "text": [
      "5  *  1  =  5\n",
      "5  *  2  =  10\n",
      "5  *  3  =  15\n",
      "5  *  4  =  20\n",
      "5  *  5  =  25\n",
      "5  *  6  =  30\n",
      "5  *  7  =  35\n",
      "5  *  8  =  40\n",
      "5  *  9  =  45\n",
      "5  *  10  =  50\n"
     ]
    }
   ],
   "source": [
    "for i in range(1,11):\n",
    "    print (5,\" * \", i , \" = \", i * 5)"
   ]
  },
  {
   "cell_type": "markdown",
   "metadata": {},
   "source": [
    "### Ejercicio 3:\n",
    "Con loop while o for, realiza una lista de 10 numeros multiplos de 3, y después realiza una función de loop que sume todos los números dentro del arreglo."
   ]
  },
  {
   "cell_type": "code",
   "execution_count": 134,
   "metadata": {},
   "outputs": [],
   "source": [
    "lista=[]\n"
   ]
  },
  {
   "cell_type": "code",
   "execution_count": 135,
   "metadata": {},
   "outputs": [
    {
     "name": "stdout",
     "output_type": "stream",
     "text": [
      "[3, 6, 9, 12, 15, 18, 21, 24, 27, 30]\n"
     ]
    }
   ],
   "source": [
    "for i in range(1,11):\n",
    "    lista.append(3*i)\n",
    "print(lista)"
   ]
  },
  {
   "cell_type": "code",
   "execution_count": 136,
   "metadata": {},
   "outputs": [
    {
     "name": "stdout",
     "output_type": "stream",
     "text": [
      "165\n"
     ]
    }
   ],
   "source": [
    "suma=0\n",
    "j=1\n",
    "while j<=10:\n",
    "    suma=suma+lista[j-1]\n",
    "    j=j+1\n",
    "    \n",
    "print(suma)"
   ]
  },
  {
   "cell_type": "markdown",
   "metadata": {},
   "source": [
    "- Programa 7: If else"
   ]
  },
  {
   "cell_type": "code",
   "execution_count": 137,
   "metadata": {},
   "outputs": [
    {
     "name": "stdout",
     "output_type": "stream",
     "text": [
      "Introduce primer número: 20\n",
      "Introduce segundo número: 40\n",
      "20  <  40\n"
     ]
    }
   ],
   "source": [
    "a = int(input(\"Introduce primer número: \"))\n",
    "b = int(input(\"Introduce segundo número: \"))\n",
    "if  a > b: \n",
    "    print (a,\" > \",b)\n",
    "else:\n",
    "    print (a,\" < \",b)"
   ]
  },
  {
   "cell_type": "markdown",
   "metadata": {},
   "source": [
    "### Ejercicio 4\n",
    "- Con una función de if else, revisar si un número es par o es impar."
   ]
  },
  {
   "cell_type": "code",
   "execution_count": 138,
   "metadata": {},
   "outputs": [
    {
     "name": "stdout",
     "output_type": "stream",
     "text": [
      "Teclee un número: 10\n",
      "El numero 10 es par\n"
     ]
    }
   ],
   "source": [
    "numero=int(input(\"Teclee un número: \"))\n",
    "numero\n",
    "if numero%2==0:\n",
    "    print(\"El numero\", numero, \"es par\")\n",
    "else:\n",
    "    print(\"El numero\", numero, \"es impar\")\n"
   ]
  },
  {
   "cell_type": "markdown",
   "metadata": {},
   "source": [
    "- Con una función de if else, revisar si un número es primo o no."
   ]
  },
  {
   "cell_type": "code",
   "execution_count": 140,
   "metadata": {},
   "outputs": [
    {
     "name": "stdout",
     "output_type": "stream",
     "text": [
      "Teclee un número: -5\n",
      "Teclee un número: 33\n",
      "El numero 33 no es primo\n"
     ]
    }
   ],
   "source": [
    "positivo=-1\n",
    "\n",
    "#Determinar si es positivo o negativo\n",
    "while positivo<0:\n",
    "    numero=int(input(\"Teclee un número: \"))\n",
    "    positivo=numero\n",
    "    \n",
    "numero\n",
    "bandera=0\n",
    "for i in range(1, numero+1):\n",
    "    modulo=numero%i\n",
    "    if(numero%i==0):\n",
    "        bandera=bandera+1\n",
    "    else:\n",
    "        bandera=bandera+0\n",
    "\n",
    "if bandera==2:\n",
    "    print(\"El numero\", numero, \"es primo\")\n",
    "    #2 porque conto que solo se dividio entre 1 y el mismo\n",
    "\n",
    "else:\n",
    "    print(\"El numero\", numero, \"no es primo\")\n"
   ]
  },
  {
   "cell_type": "markdown",
   "metadata": {},
   "source": [
    "Programa 8: Uso de funciones en Python"
   ]
  },
  {
   "cell_type": "code",
   "execution_count": 142,
   "metadata": {},
   "outputs": [
    {
     "name": "stdout",
     "output_type": "stream",
     "text": [
      "Suma(10,20) --> 30\n",
      "Suma(20,50) --> 70\n",
      "Suma(80,200) --> 280\n"
     ]
    }
   ],
   "source": [
    "def Suma(a,b):\n",
    "    c=a+b\n",
    "    return c\n",
    "print (\"Suma(10,20) -->\", Suma(10,20))\n",
    "print (\"Suma(20,50) -->\", Suma(20,50)) \n",
    "print (\"Suma(80,200) -->\", Suma(80,200))\n"
   ]
  },
  {
   "cell_type": "markdown",
   "metadata": {},
   "source": [
    "### Ejercicio 5\n",
    "Utilizando diferentes clases en python, crea una calculadora con los operadores básicos de suma, resta, multiplicación, división, y exponente."
   ]
  },
  {
   "cell_type": "code",
   "execution_count": 1,
   "metadata": {},
   "outputs": [
    {
     "name": "stdout",
     "output_type": "stream",
     "text": [
      "Teclee un numero: 10\n",
      "Teclee un numero: 5.5\n",
      "La suma de  10 + 5.5 es 15.5\n",
      "La resta de 10 - 5.5 es 4.5\n",
      "La multiplicación de 10 * 5.5 es 55.0\n",
      "La division de 10 / 5.5 es 1.8181818181818181\n",
      "La potencia de 10 ^ 5.5 es 316227.7660168379\n",
      "\n",
      "La suma de  5.5 + 10 es 15.5\n",
      "La resta de 5.5 - 10 es -4.5\n",
      "La multiplicación de 5.5 * 10 es 55.0\n",
      "La division de 5.5 / 10 es 0.55\n",
      "La potencia de 5.5 ^ 10 es 25329516.211914062\n"
     ]
    }
   ],
   "source": [
    "numero1=int(input(\"Teclee un numero: \"))\n",
    "numero2=float(input(\"Teclee un numero: \"))\n",
    "numero1\n",
    "numero2\n",
    "class calculadora1():\n",
    "    def __init__(self, numero1, numero2):\n",
    "        self.numero1=numero1\n",
    "        self.numero2=numero2\n",
    "        \n",
    "    def operaciones(self):\n",
    "        suma=self.numero1+self.numero2\n",
    "        resta=self.numero1-self.numero2\n",
    "        multiplicacion=self.numero1*self.numero2\n",
    "        division=self.numero1/self.numero2\n",
    "        potencia=self.numero1**self.numero2\n",
    "        print(\"La suma de \", self.numero1  , \"+\",self.numero2, \"es\", suma)\n",
    "        print(\"La resta de\", self.numero1, \"-\", self.numero2, \"es\", resta)\n",
    "        print(\"La multiplicación de\", self.numero1, \"*\",self.numero2, \"es\", multiplicacion)\n",
    "        print(\"La division de\", self.numero1, \"/\",self.numero2, \"es\", division)\n",
    "        print(\"La potencia de\", self.numero1, \"^\",self.numero2, \"es\", potencia)\n",
    "        \n",
    "class calculadora2():\n",
    "    def __init__(self, numero1, numero2):\n",
    "        self.numero1=numero1\n",
    "        self.numero2=numero2\n",
    "        \n",
    "    def operaciones(self):\n",
    "        suma1=self.numero2+self.numero1\n",
    "        resta1=self.numero2-self.numero1\n",
    "        multiplicacion1=self.numero2*self.numero1\n",
    "        division1=self.numero2/self.numero1\n",
    "        potencia1=self.numero2**self.numero1\n",
    "        print(\"\\nLa suma de \", self.numero2  , \"+\",self.numero1, \"es\", suma1)\n",
    "        print(\"La resta de\", self.numero2, \"-\", self.numero1, \"es\", resta1)\n",
    "        print(\"La multiplicación de\", self.numero2, \"*\",self.numero1, \"es\", multiplicacion1)\n",
    "        print(\"La division de\", self.numero2, \"/\",self.numero1, \"es\", division1)\n",
    "        print(\"La potencia de\", self.numero2, \"^\",self.numero1, \"es\", potencia1)\n",
    "\n",
    "          \n",
    "cal=calculadora1(numero1,numero2)\n",
    "cal.operaciones()\n",
    "calcu=calculadora2(numero1,numero2)\n",
    "calcu.operaciones()"
   ]
  },
  {
   "cell_type": "markdown",
   "metadata": {},
   "source": [
    "- Funciones matemáticas en la libreria de math en python"
   ]
  },
  {
   "cell_type": "code",
   "execution_count": 144,
   "metadata": {},
   "outputs": [
    {
     "name": "stdout",
     "output_type": "stream",
     "text": [
      "Función exponencial -->  1.3838965267367376e-87\n",
      "Log -->  6.643856189774725\n",
      "Log  -->  2.0\n",
      "Log 10 -->  2.0\n",
      "Coseno -->  0.15425144988758405\n",
      "Seno -->  -0.9880316240928618\n",
      "Tangente -->  -6.405331196646276\n",
      "Raiz cuadrada -->  18.0\n",
      "Valor techo -->  90\n",
      "Valor piso -->  89\n"
     ]
    }
   ],
   "source": [
    "import math as m\n",
    "\n",
    "print (\"Función exponencial --> \", m.exp(-200))  \n",
    "print (\"Log --> \", m.log(100,2)) \n",
    "print (\"Log  --> \", m.log(100,10))\n",
    "print (\"Log 10 --> \", m.log10(100))\n",
    "print (\"Coseno --> \", m.cos(30))\n",
    "print (\"Seno --> \", m.sin(30))\n",
    "print (\"Tangente --> \", m.tan(30))\n",
    "print (\"Raiz cuadrada --> \", m.sqrt(324))\n",
    "print (\"Valor techo --> \", m.ceil(89.9))\n",
    "print (\"Valor piso --> \", m.floor(89.9))"
   ]
  },
  {
   "cell_type": "markdown",
   "metadata": {},
   "source": [
    "- Como utilizar variables de string como listas para buscar elementos:"
   ]
  },
  {
   "cell_type": "code",
   "execution_count": 145,
   "metadata": {},
   "outputs": [
    {
     "name": "stdout",
     "output_type": "stream",
     "text": [
      "var1 --> Hola mundo!\n",
      "var2 --> Programas de python\n",
      "var1[0] --> H\n",
      "var2[1:5] --> rogr\n",
      "var2[:-5] --> Programas de p\n"
     ]
    }
   ],
   "source": [
    "var1 = 'Hola mundo!'\n",
    "var2 = \"Programas de python\"\n",
    " \n",
    "print (\"var1 -->\", var1)\n",
    "print (\"var2 -->\",var2)\n",
    "print (\"var1[0] -->\", var1[0])\n",
    "print (\"var2[1:5] -->\", var2[1:5])\n",
    "print (\"var2[:-5] -->\", var2[:-5])"
   ]
  },
  {
   "cell_type": "code",
   "execution_count": 148,
   "metadata": {
    "scrolled": true
   },
   "outputs": [
    {
     "name": "stdout",
     "output_type": "stream",
     "text": [
      "var1 -->  Hola mundo!\n",
      "var2 -->  Programas de python\n",
      "\n",
      "Tamaño de var1 --> :  11\n",
      "Tamaño de var2 --> :  19\n",
      "\n",
      "Uppercase para var1 --> :  HOLA MUNDO!\n",
      "Upper case para var2 --> :  PROGRAMAS DE PYTHON\n",
      "\n",
      "Lower case para var1 --> :  hola mundo!\n",
      "Lower case para var2 --> :  programas de python\n"
     ]
    }
   ],
   "source": [
    "var1 = 'Hola mundo!'\n",
    "var2 = \"Programas de python\"\n",
    "\n",
    "print (\"var1 --> \", var1)\n",
    "print (\"var2 --> \",var2)\n",
    "\n",
    "print (\"\\nTamaño de var1 --> : \", len(var1))\n",
    "print (\"Tamaño de var2 --> : \", len(var2))\n",
    "\n",
    "print (\"\\nUppercase para var1 --> : \", var1.upper())\n",
    "print (\"Upper case para var2 --> : \", var2.upper())\n",
    "\n",
    "print (\"\\nLower case para var1 --> : \", var1.lower())\n",
    "print (\"Lower case para var2 --> : \", var2.lower())"
   ]
  },
  {
   "cell_type": "markdown",
   "metadata": {},
   "source": [
    "Con input del usuario, revisar como introducir valores de numeros, letras y flotantes dentro de un print:"
   ]
  },
  {
   "cell_type": "code",
   "execution_count": 149,
   "metadata": {},
   "outputs": [
    {
     "name": "stdout",
     "output_type": "stream",
     "text": [
      "Introduce tu nombre: Fernando\n",
      "Introduce tu edad: 20\n",
      "Precio de tu item: 50\n",
      "Tu nombre es FERNANDO, edad es 20 y el precio de tu item es 50.000000\n"
     ]
    }
   ],
   "source": [
    "name=input(\"Introduce tu nombre: \")\n",
    "age=int(input(\"Introduce tu edad: \"))\n",
    "price=float(input(\"Precio de tu item: \"))\n",
    "s=\"Tu nombre es %s, edad es %d y el precio de tu item es %f\" %(name.upper(),age,price)\n",
    "print (s)"
   ]
  },
  {
   "cell_type": "markdown",
   "metadata": {},
   "source": [
    "Introducción para el manejo de errores en Python:"
   ]
  },
  {
   "cell_type": "code",
   "execution_count": 150,
   "metadata": {},
   "outputs": [
    {
     "name": "stdout",
     "output_type": "stream",
     "text": [
      "100/ -5  -->  -20.0\n",
      "100/ -4  -->  -25.0\n",
      "100/ -3  -->  -33.333333333333336\n",
      "100/ -2  -->  -50.0\n",
      "100/ -1  -->  -100.0\n"
     ]
    },
    {
     "ename": "ZeroDivisionError",
     "evalue": "division by zero",
     "output_type": "error",
     "traceback": [
      "\u001b[1;31m---------------------------------------------------------------------------\u001b[0m",
      "\u001b[1;31mZeroDivisionError\u001b[0m                         Traceback (most recent call last)",
      "\u001b[1;32m<ipython-input-150-62296f2c0744>\u001b[0m in \u001b[0;36m<module>\u001b[1;34m\u001b[0m\n\u001b[0;32m      1\u001b[0m \u001b[1;32mfor\u001b[0m \u001b[0mi\u001b[0m \u001b[1;32min\u001b[0m \u001b[0mrange\u001b[0m\u001b[1;33m(\u001b[0m\u001b[1;33m-\u001b[0m\u001b[1;36m5\u001b[0m\u001b[1;33m,\u001b[0m\u001b[1;36m6\u001b[0m\u001b[1;33m)\u001b[0m\u001b[1;33m:\u001b[0m\u001b[1;33m\u001b[0m\u001b[1;33m\u001b[0m\u001b[0m\n\u001b[1;32m----> 2\u001b[1;33m     \u001b[0mprint\u001b[0m \u001b[1;33m(\u001b[0m\u001b[1;34m\"100/\"\u001b[0m\u001b[1;33m,\u001b[0m\u001b[0mi\u001b[0m\u001b[1;33m,\u001b[0m\u001b[1;34m\" --> \"\u001b[0m\u001b[1;33m,\u001b[0m \u001b[1;36m100\u001b[0m\u001b[1;33m/\u001b[0m\u001b[0mi\u001b[0m\u001b[1;33m)\u001b[0m\u001b[1;33m\u001b[0m\u001b[1;33m\u001b[0m\u001b[0m\n\u001b[0m",
      "\u001b[1;31mZeroDivisionError\u001b[0m: division by zero"
     ]
    }
   ],
   "source": [
    "for i in range(-5,6):\n",
    "    print (\"100/\",i,\" --> \", 100/i)"
   ]
  },
  {
   "cell_type": "code",
   "execution_count": 151,
   "metadata": {
    "scrolled": true
   },
   "outputs": [
    {
     "name": "stdout",
     "output_type": "stream",
     "text": [
      "100/ -5  -->  -20.0\n",
      "100/ -4  -->  -25.0\n",
      "100/ -3  -->  -33.333333333333336\n",
      "100/ -2  -->  -50.0\n",
      "100/ -1  -->  -100.0\n",
      "100/ 0 es error\n",
      "100/ 1  -->  100.0\n",
      "100/ 2  -->  50.0\n",
      "100/ 3  -->  33.333333333333336\n",
      "100/ 4  -->  25.0\n",
      "100/ 5  -->  20.0\n"
     ]
    }
   ],
   "source": [
    "for i in range(-5,6):\n",
    "    try:\n",
    "        print (\"100/\",i,\" --> \", 100/i)\n",
    "    except:\n",
    "        print (\"100/\",i ,\"es error\")"
   ]
  },
  {
   "cell_type": "code",
   "execution_count": 2,
   "metadata": {},
   "outputs": [
    {
     "name": "stdout",
     "output_type": "stream",
     "text": [
      "Introduce el nombre del archivo: hola\n"
     ]
    },
    {
     "ename": "FileNotFoundError",
     "evalue": "[Errno 2] No such file or directory: 'hola'",
     "output_type": "error",
     "traceback": [
      "\u001b[1;31m---------------------------------------------------------------------------\u001b[0m",
      "\u001b[1;31mFileNotFoundError\u001b[0m                         Traceback (most recent call last)",
      "\u001b[1;32m<ipython-input-2-0516b617e37f>\u001b[0m in \u001b[0;36m<module>\u001b[1;34m\u001b[0m\n\u001b[0;32m      1\u001b[0m \u001b[0marchivo\u001b[0m\u001b[1;33m=\u001b[0m\u001b[0minput\u001b[0m\u001b[1;33m(\u001b[0m\u001b[1;34m\"Introduce el nombre del archivo: \"\u001b[0m\u001b[1;33m)\u001b[0m\u001b[1;33m\u001b[0m\u001b[1;33m\u001b[0m\u001b[0m\n\u001b[1;32m----> 2\u001b[1;33m \u001b[0mfp\u001b[0m\u001b[1;33m=\u001b[0m\u001b[0mopen\u001b[0m\u001b[1;33m(\u001b[0m\u001b[0marchivo\u001b[0m\u001b[1;33m)\u001b[0m\u001b[1;33m\u001b[0m\u001b[1;33m\u001b[0m\u001b[0m\n\u001b[0m\u001b[0;32m      3\u001b[0m \u001b[0mfp\u001b[0m\u001b[1;33m.\u001b[0m\u001b[0mclose\u001b[0m\u001b[1;33m(\u001b[0m\u001b[1;33m)\u001b[0m\u001b[1;33m\u001b[0m\u001b[1;33m\u001b[0m\u001b[0m\n\u001b[0;32m      4\u001b[0m \u001b[0mprint\u001b[0m \u001b[1;33m(\u001b[0m\u001b[1;34m\"Terminado\"\u001b[0m\u001b[1;33m)\u001b[0m\u001b[1;33m\u001b[0m\u001b[1;33m\u001b[0m\u001b[0m\n",
      "\u001b[1;31mFileNotFoundError\u001b[0m: [Errno 2] No such file or directory: 'hola'"
     ]
    }
   ],
   "source": [
    "archivo=input(\"Introduce el nombre del archivo: \")\n",
    "fp=open(archivo)\n",
    "fp.close()\n",
    "print (\"Terminado\")"
   ]
  },
  {
   "cell_type": "code",
   "execution_count": 3,
   "metadata": {},
   "outputs": [
    {
     "name": "stdout",
     "output_type": "stream",
     "text": [
      "Introduce el nombre del archivo: hola\n",
      "Error !! Archivo no encontrado\n",
      "Terminado\n"
     ]
    }
   ],
   "source": [
    "archivo=input(\"Introduce el nombre del archivo: \")\n",
    "try:\n",
    "    fp=open(archivo)\n",
    "    fp.close()\n",
    "except:\n",
    "    print (\"Error !! Archivo no encontrado\")\n",
    "\n",
    "print (\"Terminado\")"
   ]
  },
  {
   "cell_type": "code",
   "execution_count": 154,
   "metadata": {},
   "outputs": [
    {
     "name": "stdout",
     "output_type": "stream",
     "text": [
      "0  -->  1\n",
      "1  -->  2\n",
      "2  -->  3\n",
      "3  -->  4\n",
      "4  -->  5\n",
      "error\n",
      "error\n",
      "error\n"
     ]
    },
    {
     "data": {
      "text/plain": [
       "5"
      ]
     },
     "execution_count": 154,
     "metadata": {},
     "output_type": "execute_result"
    }
   ],
   "source": [
    "lista1 = [1,2,3,4,5]\n",
    "\n",
    "for i in range(8):\n",
    "    try:\n",
    "        print (i,\" --> \", lista1[i])\n",
    "    except:\n",
    "        print (\"error\")\n",
    "\n",
    "    \n",
    "len(lista1)"
   ]
  },
  {
   "cell_type": "code",
   "execution_count": 155,
   "metadata": {},
   "outputs": [
    {
     "name": "stdout",
     "output_type": "stream",
     "text": [
      "0 --> 1\n",
      "1 --> 2\n",
      "2 --> 3\n",
      "3 --> 4\n",
      "4 --> 5\n",
      "5 --> 6\n",
      "6 --> 7\n"
     ]
    }
   ],
   "source": [
    "lista1 = [1, 2, 3, 4, 5, 6, 7]\n",
    "\n",
    "for i in range(len(lista1)):\n",
    "    try:\n",
    "        print(i, \"-->\", lista1[i])\n",
    "    except:\n",
    "        print(\"Error\")"
   ]
  },
  {
   "cell_type": "markdown",
   "metadata": {},
   "source": [
    "- Creación de numeros aleatorios"
   ]
  },
  {
   "cell_type": "code",
   "execution_count": 156,
   "metadata": {},
   "outputs": [
    {
     "name": "stdout",
     "output_type": "stream",
     "text": [
      "0.17618156680324426\n",
      "38\n",
      "47.723044888281635\n",
      "[2, 8, 1, 4]\n"
     ]
    }
   ],
   "source": [
    "import random as r\n",
    "print (r.random())\n",
    "print (r.randint(1, 100))\n",
    "print (r.uniform(1, 100))\n",
    "\n",
    "A=[1, 2, 3, 4, 5, 6, 7, 8, 9, 10]\n",
    "print (r.sample(A, 4))"
   ]
  },
  {
   "cell_type": "markdown",
   "metadata": {},
   "source": [
    "### Ejercicios con estructuras basicas de python\n",
    "#### Tupla\n",
    "- Crear una variable flotante, integer, boleana y compleja e imprimir el tipo de variable que es"
   ]
  },
  {
   "cell_type": "code",
   "execution_count": 157,
   "metadata": {},
   "outputs": [],
   "source": [
    "f=0.5\n",
    "i=10\n",
    "b= True\n",
    "c= 4j"
   ]
  },
  {
   "cell_type": "code",
   "execution_count": 158,
   "metadata": {},
   "outputs": [
    {
     "name": "stdout",
     "output_type": "stream",
     "text": [
      "<class 'float'>\n",
      "<class 'int'>\n",
      "<class 'bool'>\n",
      "<class 'complex'>\n"
     ]
    }
   ],
   "source": [
    "print(type(f))\n",
    "print(type(i))\n",
    "print(type(b))\n",
    "print(type(c))"
   ]
  },
  {
   "cell_type": "markdown",
   "metadata": {},
   "source": [
    "- Crear una tupla con valores enteros imprimir el primer y ultimo valor."
   ]
  },
  {
   "cell_type": "code",
   "execution_count": 5,
   "metadata": {},
   "outputs": [],
   "source": [
    "tupla1=(1, 'hola', 2, 'adios', True)"
   ]
  },
  {
   "cell_type": "markdown",
   "metadata": {},
   "source": [
    "Valor inicial:"
   ]
  },
  {
   "cell_type": "code",
   "execution_count": 6,
   "metadata": {},
   "outputs": [
    {
     "data": {
      "text/plain": [
       "1"
      ]
     },
     "execution_count": 6,
     "metadata": {},
     "output_type": "execute_result"
    }
   ],
   "source": [
    "tupla1[0] "
   ]
  },
  {
   "cell_type": "code",
   "execution_count": 7,
   "metadata": {},
   "outputs": [
    {
     "data": {
      "text/plain": [
       "5"
      ]
     },
     "execution_count": 7,
     "metadata": {},
     "output_type": "execute_result"
    }
   ],
   "source": [
    "n=len(tupla1)\n",
    "n"
   ]
  },
  {
   "cell_type": "markdown",
   "metadata": {},
   "source": [
    "Valor final:"
   ]
  },
  {
   "cell_type": "code",
   "execution_count": 8,
   "metadata": {},
   "outputs": [
    {
     "data": {
      "text/plain": [
       "True"
      ]
     },
     "execution_count": 8,
     "metadata": {},
     "output_type": "execute_result"
    }
   ],
   "source": [
    "tupla1[n-1]"
   ]
  },
  {
   "cell_type": "markdown",
   "metadata": {},
   "source": [
    "- Añadir 3 valores de string a la tupla."
   ]
  },
  {
   "cell_type": "code",
   "execution_count": 165,
   "metadata": {},
   "outputs": [],
   "source": [
    "tupla1 = tupla1.__add__(('abc', 'def', 'ghi', ))"
   ]
  },
  {
   "cell_type": "code",
   "execution_count": 166,
   "metadata": {},
   "outputs": [
    {
     "data": {
      "text/plain": [
       "(1, 'hola', 2, 'adios', True, 'abc', 'def', 'ghi')"
      ]
     },
     "execution_count": 166,
     "metadata": {},
     "output_type": "execute_result"
    }
   ],
   "source": [
    "tupla1"
   ]
  },
  {
   "cell_type": "markdown",
   "metadata": {},
   "source": [
    "- Verificar si una variable existe dentro de la tupla."
   ]
  },
  {
   "cell_type": "code",
   "execution_count": 167,
   "metadata": {},
   "outputs": [
    {
     "data": {
      "text/plain": [
       "True"
      ]
     },
     "execution_count": 167,
     "metadata": {},
     "output_type": "execute_result"
    }
   ],
   "source": [
    "'hola' in tupla1"
   ]
  },
  {
   "cell_type": "code",
   "execution_count": 168,
   "metadata": {},
   "outputs": [
    {
     "data": {
      "text/plain": [
       "False"
      ]
     },
     "execution_count": 168,
     "metadata": {},
     "output_type": "execute_result"
    }
   ],
   "source": [
    "'Fernando' in tupla1"
   ]
  },
  {
   "cell_type": "markdown",
   "metadata": {},
   "source": [
    "#### Listas"
   ]
  },
  {
   "cell_type": "markdown",
   "metadata": {},
   "source": [
    "- Crear una lista con 40 elementos aleatorios enteros"
   ]
  },
  {
   "cell_type": "code",
   "execution_count": 184,
   "metadata": {},
   "outputs": [],
   "source": [
    "import random as r\n",
    "lista1=[]"
   ]
  },
  {
   "cell_type": "code",
   "execution_count": 185,
   "metadata": {},
   "outputs": [
    {
     "name": "stdout",
     "output_type": "stream",
     "text": [
      "[56, 36, 5, 96, 46, 23, 1, 51, 37, 65, 67, 48, 63, 86, 17, 28, 93, 70, 14, 19, 63, 56, 30, 83, 21, 6, 35, 98, 79, 62, 58, 1, 57, 33, 66, 26, 47, 1, 4, 24]\n"
     ]
    }
   ],
   "source": [
    "for i in range(1,41):\n",
    "    x=r.randint(1, 100)\n",
    "    lista1.append(x)\n",
    "print(lista1)\n"
   ]
  },
  {
   "cell_type": "code",
   "execution_count": 186,
   "metadata": {},
   "outputs": [
    {
     "data": {
      "text/plain": [
       "40"
      ]
     },
     "execution_count": 186,
     "metadata": {},
     "output_type": "execute_result"
    }
   ],
   "source": [
    "len(lista1)\n"
   ]
  },
  {
   "cell_type": "markdown",
   "metadata": {},
   "source": [
    "- Con una funcion (def) crear dos listas nuevas a partir de la lista creada por numeros aleatorios, en la cual en una esten los elementos pares, y en la otra los elementos impares."
   ]
  },
  {
   "cell_type": "code",
   "execution_count": 187,
   "metadata": {},
   "outputs": [],
   "source": [
    "par=[]\n",
    "impar=[]\n",
    "def ParImpar(lista):\n",
    "    for i in range(0,40):\n",
    "        if(lista[i]%2==0):\n",
    "            par.append(lista[i])\n",
    "        else:\n",
    "            impar.append(lista[i])\n",
    "            "
   ]
  },
  {
   "cell_type": "code",
   "execution_count": 188,
   "metadata": {},
   "outputs": [],
   "source": [
    "ParImpar(lista1)"
   ]
  },
  {
   "cell_type": "code",
   "execution_count": 189,
   "metadata": {},
   "outputs": [
    {
     "name": "stdout",
     "output_type": "stream",
     "text": [
      "[56, 36, 96, 46, 48, 86, 28, 70, 14, 56, 30, 6, 98, 62, 58, 66, 26, 4, 24]\n"
     ]
    }
   ],
   "source": [
    "print(par)"
   ]
  },
  {
   "cell_type": "code",
   "execution_count": 190,
   "metadata": {},
   "outputs": [
    {
     "name": "stdout",
     "output_type": "stream",
     "text": [
      "[5, 23, 1, 51, 37, 65, 67, 63, 17, 93, 19, 63, 83, 21, 35, 79, 1, 57, 33, 47, 1]\n"
     ]
    }
   ],
   "source": [
    "print(impar)"
   ]
  },
  {
   "cell_type": "code",
   "execution_count": 191,
   "metadata": {},
   "outputs": [
    {
     "data": {
      "text/plain": [
       "40"
      ]
     },
     "execution_count": 191,
     "metadata": {},
     "output_type": "execute_result"
    }
   ],
   "source": [
    "len(par)+len(impar)"
   ]
  },
  {
   "cell_type": "markdown",
   "metadata": {},
   "source": [
    "- Crear dos variables con la longitud de ambas listas nuevas e imprimir las variables."
   ]
  },
  {
   "cell_type": "code",
   "execution_count": 192,
   "metadata": {},
   "outputs": [
    {
     "name": "stdout",
     "output_type": "stream",
     "text": [
      "19\n"
     ]
    }
   ],
   "source": [
    "n=len(par)\n",
    "print(n)\n"
   ]
  },
  {
   "cell_type": "code",
   "execution_count": 193,
   "metadata": {},
   "outputs": [
    {
     "name": "stdout",
     "output_type": "stream",
     "text": [
      "21\n"
     ]
    }
   ],
   "source": [
    "m=len(impar)\n",
    "print( m)\n"
   ]
  },
  {
   "cell_type": "markdown",
   "metadata": {},
   "source": [
    "- Ordenar los elementos de la lista par de mayor a menor, y los de la lista impar de menor a mayor."
   ]
  },
  {
   "cell_type": "code",
   "execution_count": 194,
   "metadata": {},
   "outputs": [],
   "source": [
    "bandera=0\n",
    "while(bandera==0):\n",
    "    bandera=1\n",
    "    for i in range(0, n-1):\n",
    "        if par[i]<par[i+1]:\n",
    "            aux=par[i]\n",
    "            par[i]=par[i+1]\n",
    "            par[i+1]=aux\n",
    "            bandera=0\n",
    "        "
   ]
  },
  {
   "cell_type": "code",
   "execution_count": 195,
   "metadata": {},
   "outputs": [
    {
     "name": "stdout",
     "output_type": "stream",
     "text": [
      "[98, 96, 86, 70, 66, 62, 58, 56, 56, 48, 46, 36, 30, 28, 26, 24, 14, 6, 4]\n"
     ]
    }
   ],
   "source": [
    "print(par)"
   ]
  },
  {
   "cell_type": "code",
   "execution_count": 197,
   "metadata": {},
   "outputs": [],
   "source": [
    "bandera=0\n",
    "while(bandera==0):\n",
    "    bandera=1\n",
    "    for i in range(0, m-1):\n",
    "        if impar[i]>impar[i+1]:\n",
    "            aux=impar[i]\n",
    "            impar[i]=impar[i+1]\n",
    "            impar[i+1]=aux\n",
    "            bandera=0\n",
    "        "
   ]
  },
  {
   "cell_type": "code",
   "execution_count": 198,
   "metadata": {},
   "outputs": [
    {
     "name": "stdout",
     "output_type": "stream",
     "text": [
      "[1, 1, 1, 5, 17, 19, 21, 23, 33, 35, 37, 47, 51, 57, 63, 63, 65, 67, 79, 83, 93]\n"
     ]
    }
   ],
   "source": [
    "print(impar)"
   ]
  },
  {
   "cell_type": "markdown",
   "metadata": {},
   "source": [
    "- Utilizar al menos cuatro de las funciones de listas en python en la lista original de 40 elementos."
   ]
  },
  {
   "cell_type": "code",
   "execution_count": 199,
   "metadata": {
    "scrolled": true
   },
   "outputs": [
    {
     "data": {
      "text/plain": [
       "[56,\n",
       " 36,\n",
       " 5,\n",
       " 96,\n",
       " 46,\n",
       " 23,\n",
       " 1,\n",
       " 51,\n",
       " 37,\n",
       " 65,\n",
       " 67,\n",
       " 48,\n",
       " 63,\n",
       " 86,\n",
       " 17,\n",
       " 28,\n",
       " 93,\n",
       " 70,\n",
       " 14,\n",
       " 19,\n",
       " 63,\n",
       " 56,\n",
       " 30,\n",
       " 83,\n",
       " 21,\n",
       " 6,\n",
       " 35,\n",
       " 98,\n",
       " 79,\n",
       " 62,\n",
       " 58,\n",
       " 1,\n",
       " 57,\n",
       " 33,\n",
       " 66,\n",
       " 26,\n",
       " 47,\n",
       " 1,\n",
       " 4,\n",
       " 24]"
      ]
     },
     "execution_count": 199,
     "metadata": {},
     "output_type": "execute_result"
    }
   ],
   "source": [
    "lista1"
   ]
  },
  {
   "cell_type": "markdown",
   "metadata": {},
   "source": [
    "Agregar un dato a la lista, en este caso el numero 1"
   ]
  },
  {
   "cell_type": "code",
   "execution_count": 200,
   "metadata": {},
   "outputs": [
    {
     "name": "stdout",
     "output_type": "stream",
     "text": [
      "[56, 36, 5, 96, 46, 23, 1, 51, 37, 65, 67, 48, 63, 86, 17, 28, 93, 70, 14, 19, 63, 56, 30, 83, 21, 6, 35, 98, 79, 62, 58, 1, 57, 33, 66, 26, 47, 1, 4, 24, 1]\n"
     ]
    }
   ],
   "source": [
    "lista1.append(1) \n",
    "print(lista1)"
   ]
  },
  {
   "cell_type": "markdown",
   "metadata": {},
   "source": [
    "Cambia el orden de la lista"
   ]
  },
  {
   "cell_type": "code",
   "execution_count": 201,
   "metadata": {},
   "outputs": [
    {
     "data": {
      "text/plain": [
       "[1,\n",
       " 24,\n",
       " 4,\n",
       " 1,\n",
       " 47,\n",
       " 26,\n",
       " 66,\n",
       " 33,\n",
       " 57,\n",
       " 1,\n",
       " 58,\n",
       " 62,\n",
       " 79,\n",
       " 98,\n",
       " 35,\n",
       " 6,\n",
       " 21,\n",
       " 83,\n",
       " 30,\n",
       " 56,\n",
       " 63,\n",
       " 19,\n",
       " 14,\n",
       " 70,\n",
       " 93,\n",
       " 28,\n",
       " 17,\n",
       " 86,\n",
       " 63,\n",
       " 48,\n",
       " 67,\n",
       " 65,\n",
       " 37,\n",
       " 51,\n",
       " 1,\n",
       " 23,\n",
       " 46,\n",
       " 96,\n",
       " 5,\n",
       " 36,\n",
       " 56]"
      ]
     },
     "execution_count": 201,
     "metadata": {},
     "output_type": "execute_result"
    }
   ],
   "source": [
    "lista1.reverse() \n",
    "lista1"
   ]
  },
  {
   "cell_type": "markdown",
   "metadata": {},
   "source": [
    "Elimina el dato de nuestro ultimo elemento"
   ]
  },
  {
   "cell_type": "code",
   "execution_count": 202,
   "metadata": {},
   "outputs": [
    {
     "data": {
      "text/plain": [
       "[1,\n",
       " 24,\n",
       " 4,\n",
       " 1,\n",
       " 47,\n",
       " 26,\n",
       " 66,\n",
       " 33,\n",
       " 57,\n",
       " 1,\n",
       " 58,\n",
       " 62,\n",
       " 79,\n",
       " 98,\n",
       " 35,\n",
       " 6,\n",
       " 21,\n",
       " 83,\n",
       " 30,\n",
       " 56,\n",
       " 63,\n",
       " 19,\n",
       " 14,\n",
       " 70,\n",
       " 93,\n",
       " 28,\n",
       " 17,\n",
       " 86,\n",
       " 63,\n",
       " 48,\n",
       " 67,\n",
       " 65,\n",
       " 37,\n",
       " 51,\n",
       " 1,\n",
       " 23,\n",
       " 46,\n",
       " 96,\n",
       " 5,\n",
       " 36]"
      ]
     },
     "execution_count": 202,
     "metadata": {},
     "output_type": "execute_result"
    }
   ],
   "source": [
    "lista1.pop()\n",
    "lista1"
   ]
  },
  {
   "cell_type": "markdown",
   "metadata": {},
   "source": [
    "Ordena de menor a mayor nuestra lista:"
   ]
  },
  {
   "cell_type": "code",
   "execution_count": 204,
   "metadata": {},
   "outputs": [
    {
     "data": {
      "text/plain": [
       "[1,\n",
       " 1,\n",
       " 1,\n",
       " 1,\n",
       " 4,\n",
       " 5,\n",
       " 6,\n",
       " 14,\n",
       " 17,\n",
       " 19,\n",
       " 21,\n",
       " 23,\n",
       " 24,\n",
       " 26,\n",
       " 28,\n",
       " 30,\n",
       " 33,\n",
       " 35,\n",
       " 36,\n",
       " 37,\n",
       " 46,\n",
       " 47,\n",
       " 48,\n",
       " 51,\n",
       " 56,\n",
       " 57,\n",
       " 58,\n",
       " 62,\n",
       " 63,\n",
       " 63,\n",
       " 65,\n",
       " 66,\n",
       " 67,\n",
       " 70,\n",
       " 79,\n",
       " 83,\n",
       " 86,\n",
       " 93,\n",
       " 96,\n",
       " 98]"
      ]
     },
     "execution_count": 204,
     "metadata": {},
     "output_type": "execute_result"
    }
   ],
   "source": [
    "lista1.sort()\n",
    "lista1"
   ]
  },
  {
   "cell_type": "markdown",
   "metadata": {},
   "source": [
    "Combinar dos listas diferentes:"
   ]
  },
  {
   "cell_type": "code",
   "execution_count": 205,
   "metadata": {},
   "outputs": [
    {
     "data": {
      "text/plain": [
       "[1,\n",
       " 1,\n",
       " 1,\n",
       " 1,\n",
       " 4,\n",
       " 5,\n",
       " 6,\n",
       " 14,\n",
       " 17,\n",
       " 19,\n",
       " 21,\n",
       " 23,\n",
       " 24,\n",
       " 26,\n",
       " 28,\n",
       " 30,\n",
       " 33,\n",
       " 35,\n",
       " 36,\n",
       " 37,\n",
       " 46,\n",
       " 47,\n",
       " 48,\n",
       " 51,\n",
       " 56,\n",
       " 57,\n",
       " 58,\n",
       " 62,\n",
       " 63,\n",
       " 63,\n",
       " 65,\n",
       " 66,\n",
       " 67,\n",
       " 70,\n",
       " 79,\n",
       " 83,\n",
       " 86,\n",
       " 93,\n",
       " 96,\n",
       " 98,\n",
       " 101,\n",
       " 102,\n",
       " 103]"
      ]
     },
     "execution_count": 205,
     "metadata": {},
     "output_type": "execute_result"
    }
   ],
   "source": [
    "lista1.extend([101, 102, 103])\n",
    "lista1"
   ]
  },
  {
   "cell_type": "markdown",
   "metadata": {},
   "source": [
    "#### Diccionarios"
   ]
  },
  {
   "cell_type": "markdown",
   "metadata": {},
   "source": [
    "- Crear un diccionario de 6 personas que conozcas con su primer nombre y su edad."
   ]
  },
  {
   "cell_type": "code",
   "execution_count": 9,
   "metadata": {},
   "outputs": [],
   "source": [
    "personas= {'Laura': 47, 'Daniel': 21, 'Fatima': 20, 'Aurora': 49, 'Elizabeth': 50, 'Flavio': 54}"
   ]
  },
  {
   "cell_type": "markdown",
   "metadata": {},
   "source": [
    "- Crear una lista con los valores de la edad y reacomodar la lista de menor a mayor valor."
   ]
  },
  {
   "cell_type": "code",
   "execution_count": 12,
   "metadata": {},
   "outputs": [
    {
     "name": "stdout",
     "output_type": "stream",
     "text": [
      "[47, 21, 20, 49, 50, 54]\n",
      "\n",
      "La lista con los valores de edad ordenados:\n",
      "[20, 21, 47, 49, 50, 54]\n"
     ]
    }
   ],
   "source": [
    "edades=list(personas.values())\n",
    "print(edades)\n",
    "k=len(edades)\n",
    "\n",
    "bandera=0\n",
    "while(bandera==0):\n",
    "    bandera=1\n",
    "    for i in range(0, k-1):\n",
    "        if edades[i]>edades[i+1]:\n",
    "            aux=edades[i]\n",
    "            edades[i]=edades[i+1]\n",
    "            edades[i+1]=aux\n",
    "            bandera=0\n",
    "print(\"\\nLa lista con los valores de edad ordenados:\")\n",
    "print(edades)"
   ]
  },
  {
   "cell_type": "markdown",
   "metadata": {},
   "source": [
    "- Usando el diccionario y un loop, imprimir solo los nombres"
   ]
  },
  {
   "cell_type": "code",
   "execution_count": 13,
   "metadata": {},
   "outputs": [
    {
     "name": "stdout",
     "output_type": "stream",
     "text": [
      "Laura\n",
      "Daniel\n",
      "Fatima\n",
      "Aurora\n",
      "Elizabeth\n",
      "Flavio\n"
     ]
    }
   ],
   "source": [
    "for i in personas:\n",
    "    print(i)"
   ]
  },
  {
   "cell_type": "markdown",
   "metadata": {},
   "source": [
    "- Añadir dos personas nuevas a tu diccionario, incluyendo edad."
   ]
  },
  {
   "cell_type": "code",
   "execution_count": 14,
   "metadata": {},
   "outputs": [
    {
     "name": "stdout",
     "output_type": "stream",
     "text": [
      "{'Laura': 47, 'Daniel': 21, 'Fatima': 20, 'Aurora': 49, 'Elizabeth': 50, 'Flavio': 54, 'Esteban': 20, 'Fabiola': 24}\n"
     ]
    }
   ],
   "source": [
    "personas['Esteban']=20\n",
    "personas['Fabiola']=24\n",
    "\n",
    "print(personas)"
   ]
  },
  {
   "cell_type": "markdown",
   "metadata": {},
   "source": [
    "#### Sets\n",
    "- Crea un set con 100 numeros aleatorios enteros del 1 al 25."
   ]
  },
  {
   "cell_type": "code",
   "execution_count": 113,
   "metadata": {},
   "outputs": [
    {
     "data": {
      "text/plain": [
       "{1,\n",
       " 2,\n",
       " 3,\n",
       " 4,\n",
       " 6,\n",
       " 7,\n",
       " 8,\n",
       " 9,\n",
       " 10,\n",
       " 11,\n",
       " 12,\n",
       " 13,\n",
       " 14,\n",
       " 15,\n",
       " 16,\n",
       " 17,\n",
       " 18,\n",
       " 19,\n",
       " 20,\n",
       " 21,\n",
       " 22,\n",
       " 23,\n",
       " 24}"
      ]
     },
     "execution_count": 113,
     "metadata": {},
     "output_type": "execute_result"
    }
   ],
   "source": [
    "import numpy as np\n",
    "numeros=set()\n",
    "for i in range(0,100):\n",
    "    numeros.add(np.random.randint(1,25))\n",
    "numeros"
   ]
  },
  {
   "cell_type": "markdown",
   "metadata": {},
   "source": [
    "- Comprueba la longitud de tu set.\n",
    "\n"
   ]
  },
  {
   "cell_type": "code",
   "execution_count": 114,
   "metadata": {},
   "outputs": [
    {
     "data": {
      "text/plain": [
       "23"
      ]
     },
     "execution_count": 114,
     "metadata": {},
     "output_type": "execute_result"
    }
   ],
   "source": [
    "len(numeros)"
   ]
  },
  {
   "cell_type": "markdown",
   "metadata": {},
   "source": [
    "- Crea una lista de 5 numeros aleatorios del 1 al 10 y comprueba si cada valor aparece en el set inicial.\n",
    "\n"
   ]
  },
  {
   "cell_type": "code",
   "execution_count": 115,
   "metadata": {},
   "outputs": [
    {
     "name": "stdout",
     "output_type": "stream",
     "text": [
      "[7, 9, 2, 5, 8]\n"
     ]
    }
   ],
   "source": [
    "aleatorio=list()\n",
    "for i in range(1,6):\n",
    "    aleatorio.append(np.random.randint(1,10))\n",
    "    \n",
    "print(aleatorio)"
   ]
  },
  {
   "cell_type": "code",
   "execution_count": 118,
   "metadata": {},
   "outputs": [
    {
     "name": "stdout",
     "output_type": "stream",
     "text": [
      "el numero 7 esta en el set: True\n",
      "el numero 9 esta en el set: True\n",
      "el numero 2 esta en el set: True\n",
      "el numero 5 esta en el set: False\n",
      "el numero 8 esta en el set: True\n"
     ]
    }
   ],
   "source": [
    "for i in range(0,len(aleatorio)):\n",
    "    print(\"el numero\", aleatorio[i], \"esta en el set:\" ,aleatorio[i] in numeros)\n",
    "    "
   ]
  },
  {
   "cell_type": "code",
   "execution_count": null,
   "metadata": {},
   "outputs": [],
   "source": []
  }
 ],
 "metadata": {
  "kernelspec": {
   "display_name": "Python 3",
   "language": "python",
   "name": "python3"
  },
  "language_info": {
   "codemirror_mode": {
    "name": "ipython",
    "version": 3
   },
   "file_extension": ".py",
   "mimetype": "text/x-python",
   "name": "python",
   "nbconvert_exporter": "python",
   "pygments_lexer": "ipython3",
   "version": "3.8.3"
  }
 },
 "nbformat": 4,
 "nbformat_minor": 4
}

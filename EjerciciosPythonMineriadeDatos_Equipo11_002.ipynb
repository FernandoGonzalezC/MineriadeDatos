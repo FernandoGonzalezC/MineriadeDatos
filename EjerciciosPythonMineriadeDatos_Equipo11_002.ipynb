{
 "cells": [
  {
   "cell_type": "markdown",
   "metadata": {},
   "source": [
    "Equipo: 11 \n",
    "\n",
    "Grupo: 002, miercoles 7:00-10:00 pm \n",
    "\n",
    "Integrantes: \n",
    "\n",
    "1819011, González Castillo Fernando Isaí \n",
    "\n",
    "1563836, Sanabria Martínez Daniela Monserrat\n",
    "             \n",
    "1887939, Llanos Morales Alfonso"
   ]
  },
  {
   "cell_type": "markdown",
   "metadata": {},
   "source": [
    "## Preparación, limpieza y visualización de los datos"
   ]
  },
  {
   "cell_type": "markdown",
   "metadata": {},
   "source": [
    "Titulo de la Base de Datos: Mushroom Classification"
   ]
  },
  {
   "cell_type": "markdown",
   "metadata": {},
   "source": [
    "Descripción de los datos: \n",
    "\n",
    "a) Nuestra base de datos incluye descripciones de muestras hipotéticas correspondientes a 23 especies de hongos laminados de las familias Agaricus y Lepiota, donde cada especie se identifica como venenosa o comestible.\n",
    "\n",
    "b) Nuestra base de datos está conformada por 23 columnas que representan las caracteristicas que diferencia a cada hongo, como el color, la textura o la forma; todas las variables de la base son de tipo cualitativa y tienen el valor de un solo caracter; la base tiene 8124 filas, por lo que su tamaño sería de (8124 X 23)."
   ]
  },
  {
   "cell_type": "markdown",
   "metadata": {},
   "source": [
    "Justificación del uso de datos:\n",
    "\n",
    "a) La base de datos es muy descriptiva referente a las características de los hongos, contamos con columnas que nos muestran desde su forma, tamaño y color hasta el tipo de zona donde es más común encontrarlo.Al estar los datos recopilados de esta manera consideramos que sería más sencillo trabajar con ella y también nos daba una idea más clara de que tipo de técnica de minería utilizar.\n",
    "\n",
    "b) El tipo de datos con los que vamos a trabajar es más intuitivo con relación al tipo de técnica de minería que podemos utilizar, también nos pareció importante el formato de texto para describir las variables, que es en forma categórica, ya que todas ellas están representadas por una letra y creemos que esto nos facilitará las operaciones."
   ]
  },
  {
   "cell_type": "markdown",
   "metadata": {},
   "source": [
    "Objetivos:\n",
    "\n",
    "Saber cuáles son las principales características que determinan si un hongo es venenoso o comestible, así como la probabilidad de que un hongo en específico sea venenoso solamente describiendo sus atributos y detectarlo en el menor tiempo posible."
   ]
  },
  {
   "cell_type": "markdown",
   "metadata": {},
   "source": [
    "### 1. Preparación y limpieza de los datos."
   ]
  },
  {
   "cell_type": "markdown",
   "metadata": {},
   "source": [
    "a) Mostrar los datos sin manipulación"
   ]
  },
  {
   "cell_type": "code",
   "execution_count": 1,
   "metadata": {},
   "outputs": [],
   "source": [
    "import pandas as pd\n",
    "import numpy as np"
   ]
  },
  {
   "cell_type": "code",
   "execution_count": 2,
   "metadata": {},
   "outputs": [],
   "source": [
    "hongos = pd.read_csv(\"mushrooms.csv\")"
   ]
  },
  {
   "cell_type": "markdown",
   "metadata": {},
   "source": [
    "### Visualización de la base de datos"
   ]
  },
  {
   "cell_type": "code",
   "execution_count": 3,
   "metadata": {},
   "outputs": [
    {
     "data": {
      "text/html": [
       "<div>\n",
       "<style scoped>\n",
       "    .dataframe tbody tr th:only-of-type {\n",
       "        vertical-align: middle;\n",
       "    }\n",
       "\n",
       "    .dataframe tbody tr th {\n",
       "        vertical-align: top;\n",
       "    }\n",
       "\n",
       "    .dataframe thead th {\n",
       "        text-align: right;\n",
       "    }\n",
       "</style>\n",
       "<table border=\"1\" class=\"dataframe\">\n",
       "  <thead>\n",
       "    <tr style=\"text-align: right;\">\n",
       "      <th></th>\n",
       "      <th>class</th>\n",
       "      <th>cap-shape</th>\n",
       "      <th>cap-surface</th>\n",
       "      <th>cap-color</th>\n",
       "      <th>bruises</th>\n",
       "      <th>odor</th>\n",
       "      <th>gill-attachment</th>\n",
       "      <th>gill-spacing</th>\n",
       "      <th>gill-size</th>\n",
       "      <th>gill-color</th>\n",
       "      <th>...</th>\n",
       "      <th>stalk-surface-below-ring</th>\n",
       "      <th>stalk-color-above-ring</th>\n",
       "      <th>stalk-color-below-ring</th>\n",
       "      <th>veil-type</th>\n",
       "      <th>veil-color</th>\n",
       "      <th>ring-number</th>\n",
       "      <th>ring-type</th>\n",
       "      <th>spore-print-color</th>\n",
       "      <th>population</th>\n",
       "      <th>habitat</th>\n",
       "    </tr>\n",
       "  </thead>\n",
       "  <tbody>\n",
       "    <tr>\n",
       "      <th>0</th>\n",
       "      <td>p</td>\n",
       "      <td>x</td>\n",
       "      <td>s</td>\n",
       "      <td>n</td>\n",
       "      <td>t</td>\n",
       "      <td>p</td>\n",
       "      <td>f</td>\n",
       "      <td>c</td>\n",
       "      <td>n</td>\n",
       "      <td>k</td>\n",
       "      <td>...</td>\n",
       "      <td>s</td>\n",
       "      <td>w</td>\n",
       "      <td>w</td>\n",
       "      <td>p</td>\n",
       "      <td>w</td>\n",
       "      <td>o</td>\n",
       "      <td>p</td>\n",
       "      <td>k</td>\n",
       "      <td>s</td>\n",
       "      <td>u</td>\n",
       "    </tr>\n",
       "    <tr>\n",
       "      <th>1</th>\n",
       "      <td>e</td>\n",
       "      <td>x</td>\n",
       "      <td>s</td>\n",
       "      <td>y</td>\n",
       "      <td>t</td>\n",
       "      <td>a</td>\n",
       "      <td>f</td>\n",
       "      <td>c</td>\n",
       "      <td>b</td>\n",
       "      <td>k</td>\n",
       "      <td>...</td>\n",
       "      <td>s</td>\n",
       "      <td>w</td>\n",
       "      <td>w</td>\n",
       "      <td>p</td>\n",
       "      <td>w</td>\n",
       "      <td>o</td>\n",
       "      <td>p</td>\n",
       "      <td>n</td>\n",
       "      <td>n</td>\n",
       "      <td>g</td>\n",
       "    </tr>\n",
       "    <tr>\n",
       "      <th>2</th>\n",
       "      <td>e</td>\n",
       "      <td>b</td>\n",
       "      <td>s</td>\n",
       "      <td>w</td>\n",
       "      <td>t</td>\n",
       "      <td>l</td>\n",
       "      <td>f</td>\n",
       "      <td>c</td>\n",
       "      <td>b</td>\n",
       "      <td>n</td>\n",
       "      <td>...</td>\n",
       "      <td>s</td>\n",
       "      <td>w</td>\n",
       "      <td>w</td>\n",
       "      <td>p</td>\n",
       "      <td>w</td>\n",
       "      <td>o</td>\n",
       "      <td>p</td>\n",
       "      <td>n</td>\n",
       "      <td>n</td>\n",
       "      <td>m</td>\n",
       "    </tr>\n",
       "    <tr>\n",
       "      <th>3</th>\n",
       "      <td>p</td>\n",
       "      <td>x</td>\n",
       "      <td>y</td>\n",
       "      <td>w</td>\n",
       "      <td>t</td>\n",
       "      <td>p</td>\n",
       "      <td>f</td>\n",
       "      <td>c</td>\n",
       "      <td>n</td>\n",
       "      <td>n</td>\n",
       "      <td>...</td>\n",
       "      <td>s</td>\n",
       "      <td>w</td>\n",
       "      <td>w</td>\n",
       "      <td>p</td>\n",
       "      <td>w</td>\n",
       "      <td>o</td>\n",
       "      <td>p</td>\n",
       "      <td>k</td>\n",
       "      <td>s</td>\n",
       "      <td>u</td>\n",
       "    </tr>\n",
       "    <tr>\n",
       "      <th>4</th>\n",
       "      <td>e</td>\n",
       "      <td>x</td>\n",
       "      <td>s</td>\n",
       "      <td>g</td>\n",
       "      <td>f</td>\n",
       "      <td>n</td>\n",
       "      <td>f</td>\n",
       "      <td>w</td>\n",
       "      <td>b</td>\n",
       "      <td>k</td>\n",
       "      <td>...</td>\n",
       "      <td>s</td>\n",
       "      <td>w</td>\n",
       "      <td>w</td>\n",
       "      <td>p</td>\n",
       "      <td>w</td>\n",
       "      <td>o</td>\n",
       "      <td>e</td>\n",
       "      <td>n</td>\n",
       "      <td>a</td>\n",
       "      <td>g</td>\n",
       "    </tr>\n",
       "    <tr>\n",
       "      <th>...</th>\n",
       "      <td>...</td>\n",
       "      <td>...</td>\n",
       "      <td>...</td>\n",
       "      <td>...</td>\n",
       "      <td>...</td>\n",
       "      <td>...</td>\n",
       "      <td>...</td>\n",
       "      <td>...</td>\n",
       "      <td>...</td>\n",
       "      <td>...</td>\n",
       "      <td>...</td>\n",
       "      <td>...</td>\n",
       "      <td>...</td>\n",
       "      <td>...</td>\n",
       "      <td>...</td>\n",
       "      <td>...</td>\n",
       "      <td>...</td>\n",
       "      <td>...</td>\n",
       "      <td>...</td>\n",
       "      <td>...</td>\n",
       "      <td>...</td>\n",
       "    </tr>\n",
       "    <tr>\n",
       "      <th>8119</th>\n",
       "      <td>e</td>\n",
       "      <td>k</td>\n",
       "      <td>s</td>\n",
       "      <td>n</td>\n",
       "      <td>f</td>\n",
       "      <td>n</td>\n",
       "      <td>a</td>\n",
       "      <td>c</td>\n",
       "      <td>b</td>\n",
       "      <td>y</td>\n",
       "      <td>...</td>\n",
       "      <td>s</td>\n",
       "      <td>o</td>\n",
       "      <td>o</td>\n",
       "      <td>p</td>\n",
       "      <td>o</td>\n",
       "      <td>o</td>\n",
       "      <td>p</td>\n",
       "      <td>b</td>\n",
       "      <td>c</td>\n",
       "      <td>l</td>\n",
       "    </tr>\n",
       "    <tr>\n",
       "      <th>8120</th>\n",
       "      <td>e</td>\n",
       "      <td>x</td>\n",
       "      <td>s</td>\n",
       "      <td>n</td>\n",
       "      <td>f</td>\n",
       "      <td>n</td>\n",
       "      <td>a</td>\n",
       "      <td>c</td>\n",
       "      <td>b</td>\n",
       "      <td>y</td>\n",
       "      <td>...</td>\n",
       "      <td>s</td>\n",
       "      <td>o</td>\n",
       "      <td>o</td>\n",
       "      <td>p</td>\n",
       "      <td>n</td>\n",
       "      <td>o</td>\n",
       "      <td>p</td>\n",
       "      <td>b</td>\n",
       "      <td>v</td>\n",
       "      <td>l</td>\n",
       "    </tr>\n",
       "    <tr>\n",
       "      <th>8121</th>\n",
       "      <td>e</td>\n",
       "      <td>f</td>\n",
       "      <td>s</td>\n",
       "      <td>n</td>\n",
       "      <td>f</td>\n",
       "      <td>n</td>\n",
       "      <td>a</td>\n",
       "      <td>c</td>\n",
       "      <td>b</td>\n",
       "      <td>n</td>\n",
       "      <td>...</td>\n",
       "      <td>s</td>\n",
       "      <td>o</td>\n",
       "      <td>o</td>\n",
       "      <td>p</td>\n",
       "      <td>o</td>\n",
       "      <td>o</td>\n",
       "      <td>p</td>\n",
       "      <td>b</td>\n",
       "      <td>c</td>\n",
       "      <td>l</td>\n",
       "    </tr>\n",
       "    <tr>\n",
       "      <th>8122</th>\n",
       "      <td>p</td>\n",
       "      <td>k</td>\n",
       "      <td>y</td>\n",
       "      <td>n</td>\n",
       "      <td>f</td>\n",
       "      <td>y</td>\n",
       "      <td>f</td>\n",
       "      <td>c</td>\n",
       "      <td>n</td>\n",
       "      <td>b</td>\n",
       "      <td>...</td>\n",
       "      <td>k</td>\n",
       "      <td>w</td>\n",
       "      <td>w</td>\n",
       "      <td>p</td>\n",
       "      <td>w</td>\n",
       "      <td>o</td>\n",
       "      <td>e</td>\n",
       "      <td>w</td>\n",
       "      <td>v</td>\n",
       "      <td>l</td>\n",
       "    </tr>\n",
       "    <tr>\n",
       "      <th>8123</th>\n",
       "      <td>e</td>\n",
       "      <td>x</td>\n",
       "      <td>s</td>\n",
       "      <td>n</td>\n",
       "      <td>f</td>\n",
       "      <td>n</td>\n",
       "      <td>a</td>\n",
       "      <td>c</td>\n",
       "      <td>b</td>\n",
       "      <td>y</td>\n",
       "      <td>...</td>\n",
       "      <td>s</td>\n",
       "      <td>o</td>\n",
       "      <td>o</td>\n",
       "      <td>p</td>\n",
       "      <td>o</td>\n",
       "      <td>o</td>\n",
       "      <td>p</td>\n",
       "      <td>o</td>\n",
       "      <td>c</td>\n",
       "      <td>l</td>\n",
       "    </tr>\n",
       "  </tbody>\n",
       "</table>\n",
       "<p>8124 rows × 23 columns</p>\n",
       "</div>"
      ],
      "text/plain": [
       "     class cap-shape cap-surface cap-color bruises odor gill-attachment  \\\n",
       "0        p         x           s         n       t    p               f   \n",
       "1        e         x           s         y       t    a               f   \n",
       "2        e         b           s         w       t    l               f   \n",
       "3        p         x           y         w       t    p               f   \n",
       "4        e         x           s         g       f    n               f   \n",
       "...    ...       ...         ...       ...     ...  ...             ...   \n",
       "8119     e         k           s         n       f    n               a   \n",
       "8120     e         x           s         n       f    n               a   \n",
       "8121     e         f           s         n       f    n               a   \n",
       "8122     p         k           y         n       f    y               f   \n",
       "8123     e         x           s         n       f    n               a   \n",
       "\n",
       "     gill-spacing gill-size gill-color  ... stalk-surface-below-ring  \\\n",
       "0               c         n          k  ...                        s   \n",
       "1               c         b          k  ...                        s   \n",
       "2               c         b          n  ...                        s   \n",
       "3               c         n          n  ...                        s   \n",
       "4               w         b          k  ...                        s   \n",
       "...           ...       ...        ...  ...                      ...   \n",
       "8119            c         b          y  ...                        s   \n",
       "8120            c         b          y  ...                        s   \n",
       "8121            c         b          n  ...                        s   \n",
       "8122            c         n          b  ...                        k   \n",
       "8123            c         b          y  ...                        s   \n",
       "\n",
       "     stalk-color-above-ring stalk-color-below-ring veil-type veil-color  \\\n",
       "0                         w                      w         p          w   \n",
       "1                         w                      w         p          w   \n",
       "2                         w                      w         p          w   \n",
       "3                         w                      w         p          w   \n",
       "4                         w                      w         p          w   \n",
       "...                     ...                    ...       ...        ...   \n",
       "8119                      o                      o         p          o   \n",
       "8120                      o                      o         p          n   \n",
       "8121                      o                      o         p          o   \n",
       "8122                      w                      w         p          w   \n",
       "8123                      o                      o         p          o   \n",
       "\n",
       "     ring-number ring-type spore-print-color population habitat  \n",
       "0              o         p                 k          s       u  \n",
       "1              o         p                 n          n       g  \n",
       "2              o         p                 n          n       m  \n",
       "3              o         p                 k          s       u  \n",
       "4              o         e                 n          a       g  \n",
       "...          ...       ...               ...        ...     ...  \n",
       "8119           o         p                 b          c       l  \n",
       "8120           o         p                 b          v       l  \n",
       "8121           o         p                 b          c       l  \n",
       "8122           o         e                 w          v       l  \n",
       "8123           o         p                 o          c       l  \n",
       "\n",
       "[8124 rows x 23 columns]"
      ]
     },
     "execution_count": 3,
     "metadata": {},
     "output_type": "execute_result"
    }
   ],
   "source": [
    "hongos"
   ]
  },
  {
   "cell_type": "code",
   "execution_count": 4,
   "metadata": {},
   "outputs": [
    {
     "data": {
      "text/plain": [
       "(8124, 23)"
      ]
     },
     "execution_count": 4,
     "metadata": {},
     "output_type": "execute_result"
    }
   ],
   "source": [
    "hongos.shape"
   ]
  },
  {
   "cell_type": "code",
   "execution_count": 5,
   "metadata": {},
   "outputs": [
    {
     "data": {
      "text/html": [
       "<div>\n",
       "<style scoped>\n",
       "    .dataframe tbody tr th:only-of-type {\n",
       "        vertical-align: middle;\n",
       "    }\n",
       "\n",
       "    .dataframe tbody tr th {\n",
       "        vertical-align: top;\n",
       "    }\n",
       "\n",
       "    .dataframe thead th {\n",
       "        text-align: right;\n",
       "    }\n",
       "</style>\n",
       "<table border=\"1\" class=\"dataframe\">\n",
       "  <thead>\n",
       "    <tr style=\"text-align: right;\">\n",
       "      <th></th>\n",
       "      <th>class</th>\n",
       "      <th>cap-shape</th>\n",
       "      <th>cap-surface</th>\n",
       "      <th>cap-color</th>\n",
       "      <th>bruises</th>\n",
       "      <th>odor</th>\n",
       "      <th>gill-attachment</th>\n",
       "      <th>gill-spacing</th>\n",
       "      <th>gill-size</th>\n",
       "      <th>gill-color</th>\n",
       "      <th>...</th>\n",
       "      <th>stalk-surface-below-ring</th>\n",
       "      <th>stalk-color-above-ring</th>\n",
       "      <th>stalk-color-below-ring</th>\n",
       "      <th>veil-type</th>\n",
       "      <th>veil-color</th>\n",
       "      <th>ring-number</th>\n",
       "      <th>ring-type</th>\n",
       "      <th>spore-print-color</th>\n",
       "      <th>population</th>\n",
       "      <th>habitat</th>\n",
       "    </tr>\n",
       "  </thead>\n",
       "  <tbody>\n",
       "    <tr>\n",
       "      <th>0</th>\n",
       "      <td>p</td>\n",
       "      <td>x</td>\n",
       "      <td>s</td>\n",
       "      <td>n</td>\n",
       "      <td>t</td>\n",
       "      <td>p</td>\n",
       "      <td>f</td>\n",
       "      <td>c</td>\n",
       "      <td>n</td>\n",
       "      <td>k</td>\n",
       "      <td>...</td>\n",
       "      <td>s</td>\n",
       "      <td>w</td>\n",
       "      <td>w</td>\n",
       "      <td>p</td>\n",
       "      <td>w</td>\n",
       "      <td>o</td>\n",
       "      <td>p</td>\n",
       "      <td>k</td>\n",
       "      <td>s</td>\n",
       "      <td>u</td>\n",
       "    </tr>\n",
       "    <tr>\n",
       "      <th>1</th>\n",
       "      <td>e</td>\n",
       "      <td>x</td>\n",
       "      <td>s</td>\n",
       "      <td>y</td>\n",
       "      <td>t</td>\n",
       "      <td>a</td>\n",
       "      <td>f</td>\n",
       "      <td>c</td>\n",
       "      <td>b</td>\n",
       "      <td>k</td>\n",
       "      <td>...</td>\n",
       "      <td>s</td>\n",
       "      <td>w</td>\n",
       "      <td>w</td>\n",
       "      <td>p</td>\n",
       "      <td>w</td>\n",
       "      <td>o</td>\n",
       "      <td>p</td>\n",
       "      <td>n</td>\n",
       "      <td>n</td>\n",
       "      <td>g</td>\n",
       "    </tr>\n",
       "    <tr>\n",
       "      <th>2</th>\n",
       "      <td>e</td>\n",
       "      <td>b</td>\n",
       "      <td>s</td>\n",
       "      <td>w</td>\n",
       "      <td>t</td>\n",
       "      <td>l</td>\n",
       "      <td>f</td>\n",
       "      <td>c</td>\n",
       "      <td>b</td>\n",
       "      <td>n</td>\n",
       "      <td>...</td>\n",
       "      <td>s</td>\n",
       "      <td>w</td>\n",
       "      <td>w</td>\n",
       "      <td>p</td>\n",
       "      <td>w</td>\n",
       "      <td>o</td>\n",
       "      <td>p</td>\n",
       "      <td>n</td>\n",
       "      <td>n</td>\n",
       "      <td>m</td>\n",
       "    </tr>\n",
       "    <tr>\n",
       "      <th>3</th>\n",
       "      <td>p</td>\n",
       "      <td>x</td>\n",
       "      <td>y</td>\n",
       "      <td>w</td>\n",
       "      <td>t</td>\n",
       "      <td>p</td>\n",
       "      <td>f</td>\n",
       "      <td>c</td>\n",
       "      <td>n</td>\n",
       "      <td>n</td>\n",
       "      <td>...</td>\n",
       "      <td>s</td>\n",
       "      <td>w</td>\n",
       "      <td>w</td>\n",
       "      <td>p</td>\n",
       "      <td>w</td>\n",
       "      <td>o</td>\n",
       "      <td>p</td>\n",
       "      <td>k</td>\n",
       "      <td>s</td>\n",
       "      <td>u</td>\n",
       "    </tr>\n",
       "    <tr>\n",
       "      <th>4</th>\n",
       "      <td>e</td>\n",
       "      <td>x</td>\n",
       "      <td>s</td>\n",
       "      <td>g</td>\n",
       "      <td>f</td>\n",
       "      <td>n</td>\n",
       "      <td>f</td>\n",
       "      <td>w</td>\n",
       "      <td>b</td>\n",
       "      <td>k</td>\n",
       "      <td>...</td>\n",
       "      <td>s</td>\n",
       "      <td>w</td>\n",
       "      <td>w</td>\n",
       "      <td>p</td>\n",
       "      <td>w</td>\n",
       "      <td>o</td>\n",
       "      <td>e</td>\n",
       "      <td>n</td>\n",
       "      <td>a</td>\n",
       "      <td>g</td>\n",
       "    </tr>\n",
       "  </tbody>\n",
       "</table>\n",
       "<p>5 rows × 23 columns</p>\n",
       "</div>"
      ],
      "text/plain": [
       "  class cap-shape cap-surface cap-color bruises odor gill-attachment  \\\n",
       "0     p         x           s         n       t    p               f   \n",
       "1     e         x           s         y       t    a               f   \n",
       "2     e         b           s         w       t    l               f   \n",
       "3     p         x           y         w       t    p               f   \n",
       "4     e         x           s         g       f    n               f   \n",
       "\n",
       "  gill-spacing gill-size gill-color  ... stalk-surface-below-ring  \\\n",
       "0            c         n          k  ...                        s   \n",
       "1            c         b          k  ...                        s   \n",
       "2            c         b          n  ...                        s   \n",
       "3            c         n          n  ...                        s   \n",
       "4            w         b          k  ...                        s   \n",
       "\n",
       "  stalk-color-above-ring stalk-color-below-ring veil-type veil-color  \\\n",
       "0                      w                      w         p          w   \n",
       "1                      w                      w         p          w   \n",
       "2                      w                      w         p          w   \n",
       "3                      w                      w         p          w   \n",
       "4                      w                      w         p          w   \n",
       "\n",
       "  ring-number ring-type spore-print-color population habitat  \n",
       "0           o         p                 k          s       u  \n",
       "1           o         p                 n          n       g  \n",
       "2           o         p                 n          n       m  \n",
       "3           o         p                 k          s       u  \n",
       "4           o         e                 n          a       g  \n",
       "\n",
       "[5 rows x 23 columns]"
      ]
     },
     "execution_count": 5,
     "metadata": {},
     "output_type": "execute_result"
    }
   ],
   "source": [
    "hongos.head()"
   ]
  },
  {
   "cell_type": "code",
   "execution_count": 6,
   "metadata": {},
   "outputs": [
    {
     "data": {
      "text/html": [
       "<div>\n",
       "<style scoped>\n",
       "    .dataframe tbody tr th:only-of-type {\n",
       "        vertical-align: middle;\n",
       "    }\n",
       "\n",
       "    .dataframe tbody tr th {\n",
       "        vertical-align: top;\n",
       "    }\n",
       "\n",
       "    .dataframe thead th {\n",
       "        text-align: right;\n",
       "    }\n",
       "</style>\n",
       "<table border=\"1\" class=\"dataframe\">\n",
       "  <thead>\n",
       "    <tr style=\"text-align: right;\">\n",
       "      <th></th>\n",
       "      <th>class</th>\n",
       "      <th>cap-shape</th>\n",
       "      <th>cap-surface</th>\n",
       "      <th>cap-color</th>\n",
       "      <th>bruises</th>\n",
       "      <th>odor</th>\n",
       "      <th>gill-attachment</th>\n",
       "      <th>gill-spacing</th>\n",
       "      <th>gill-size</th>\n",
       "      <th>gill-color</th>\n",
       "      <th>...</th>\n",
       "      <th>stalk-surface-below-ring</th>\n",
       "      <th>stalk-color-above-ring</th>\n",
       "      <th>stalk-color-below-ring</th>\n",
       "      <th>veil-type</th>\n",
       "      <th>veil-color</th>\n",
       "      <th>ring-number</th>\n",
       "      <th>ring-type</th>\n",
       "      <th>spore-print-color</th>\n",
       "      <th>population</th>\n",
       "      <th>habitat</th>\n",
       "    </tr>\n",
       "  </thead>\n",
       "  <tbody>\n",
       "    <tr>\n",
       "      <th>8119</th>\n",
       "      <td>e</td>\n",
       "      <td>k</td>\n",
       "      <td>s</td>\n",
       "      <td>n</td>\n",
       "      <td>f</td>\n",
       "      <td>n</td>\n",
       "      <td>a</td>\n",
       "      <td>c</td>\n",
       "      <td>b</td>\n",
       "      <td>y</td>\n",
       "      <td>...</td>\n",
       "      <td>s</td>\n",
       "      <td>o</td>\n",
       "      <td>o</td>\n",
       "      <td>p</td>\n",
       "      <td>o</td>\n",
       "      <td>o</td>\n",
       "      <td>p</td>\n",
       "      <td>b</td>\n",
       "      <td>c</td>\n",
       "      <td>l</td>\n",
       "    </tr>\n",
       "    <tr>\n",
       "      <th>8120</th>\n",
       "      <td>e</td>\n",
       "      <td>x</td>\n",
       "      <td>s</td>\n",
       "      <td>n</td>\n",
       "      <td>f</td>\n",
       "      <td>n</td>\n",
       "      <td>a</td>\n",
       "      <td>c</td>\n",
       "      <td>b</td>\n",
       "      <td>y</td>\n",
       "      <td>...</td>\n",
       "      <td>s</td>\n",
       "      <td>o</td>\n",
       "      <td>o</td>\n",
       "      <td>p</td>\n",
       "      <td>n</td>\n",
       "      <td>o</td>\n",
       "      <td>p</td>\n",
       "      <td>b</td>\n",
       "      <td>v</td>\n",
       "      <td>l</td>\n",
       "    </tr>\n",
       "    <tr>\n",
       "      <th>8121</th>\n",
       "      <td>e</td>\n",
       "      <td>f</td>\n",
       "      <td>s</td>\n",
       "      <td>n</td>\n",
       "      <td>f</td>\n",
       "      <td>n</td>\n",
       "      <td>a</td>\n",
       "      <td>c</td>\n",
       "      <td>b</td>\n",
       "      <td>n</td>\n",
       "      <td>...</td>\n",
       "      <td>s</td>\n",
       "      <td>o</td>\n",
       "      <td>o</td>\n",
       "      <td>p</td>\n",
       "      <td>o</td>\n",
       "      <td>o</td>\n",
       "      <td>p</td>\n",
       "      <td>b</td>\n",
       "      <td>c</td>\n",
       "      <td>l</td>\n",
       "    </tr>\n",
       "    <tr>\n",
       "      <th>8122</th>\n",
       "      <td>p</td>\n",
       "      <td>k</td>\n",
       "      <td>y</td>\n",
       "      <td>n</td>\n",
       "      <td>f</td>\n",
       "      <td>y</td>\n",
       "      <td>f</td>\n",
       "      <td>c</td>\n",
       "      <td>n</td>\n",
       "      <td>b</td>\n",
       "      <td>...</td>\n",
       "      <td>k</td>\n",
       "      <td>w</td>\n",
       "      <td>w</td>\n",
       "      <td>p</td>\n",
       "      <td>w</td>\n",
       "      <td>o</td>\n",
       "      <td>e</td>\n",
       "      <td>w</td>\n",
       "      <td>v</td>\n",
       "      <td>l</td>\n",
       "    </tr>\n",
       "    <tr>\n",
       "      <th>8123</th>\n",
       "      <td>e</td>\n",
       "      <td>x</td>\n",
       "      <td>s</td>\n",
       "      <td>n</td>\n",
       "      <td>f</td>\n",
       "      <td>n</td>\n",
       "      <td>a</td>\n",
       "      <td>c</td>\n",
       "      <td>b</td>\n",
       "      <td>y</td>\n",
       "      <td>...</td>\n",
       "      <td>s</td>\n",
       "      <td>o</td>\n",
       "      <td>o</td>\n",
       "      <td>p</td>\n",
       "      <td>o</td>\n",
       "      <td>o</td>\n",
       "      <td>p</td>\n",
       "      <td>o</td>\n",
       "      <td>c</td>\n",
       "      <td>l</td>\n",
       "    </tr>\n",
       "  </tbody>\n",
       "</table>\n",
       "<p>5 rows × 23 columns</p>\n",
       "</div>"
      ],
      "text/plain": [
       "     class cap-shape cap-surface cap-color bruises odor gill-attachment  \\\n",
       "8119     e         k           s         n       f    n               a   \n",
       "8120     e         x           s         n       f    n               a   \n",
       "8121     e         f           s         n       f    n               a   \n",
       "8122     p         k           y         n       f    y               f   \n",
       "8123     e         x           s         n       f    n               a   \n",
       "\n",
       "     gill-spacing gill-size gill-color  ... stalk-surface-below-ring  \\\n",
       "8119            c         b          y  ...                        s   \n",
       "8120            c         b          y  ...                        s   \n",
       "8121            c         b          n  ...                        s   \n",
       "8122            c         n          b  ...                        k   \n",
       "8123            c         b          y  ...                        s   \n",
       "\n",
       "     stalk-color-above-ring stalk-color-below-ring veil-type veil-color  \\\n",
       "8119                      o                      o         p          o   \n",
       "8120                      o                      o         p          n   \n",
       "8121                      o                      o         p          o   \n",
       "8122                      w                      w         p          w   \n",
       "8123                      o                      o         p          o   \n",
       "\n",
       "     ring-number ring-type spore-print-color population habitat  \n",
       "8119           o         p                 b          c       l  \n",
       "8120           o         p                 b          v       l  \n",
       "8121           o         p                 b          c       l  \n",
       "8122           o         e                 w          v       l  \n",
       "8123           o         p                 o          c       l  \n",
       "\n",
       "[5 rows x 23 columns]"
      ]
     },
     "execution_count": 6,
     "metadata": {},
     "output_type": "execute_result"
    }
   ],
   "source": [
    "hongos.tail()"
   ]
  },
  {
   "cell_type": "code",
   "execution_count": 7,
   "metadata": {},
   "outputs": [
    {
     "data": {
      "text/plain": [
       "Index(['class', 'cap-shape', 'cap-surface', 'cap-color', 'bruises', 'odor',\n",
       "       'gill-attachment', 'gill-spacing', 'gill-size', 'gill-color',\n",
       "       'stalk-shape', 'stalk-root', 'stalk-surface-above-ring',\n",
       "       'stalk-surface-below-ring', 'stalk-color-above-ring',\n",
       "       'stalk-color-below-ring', 'veil-type', 'veil-color', 'ring-number',\n",
       "       'ring-type', 'spore-print-color', 'population', 'habitat'],\n",
       "      dtype='object')"
      ]
     },
     "execution_count": 7,
     "metadata": {},
     "output_type": "execute_result"
    }
   ],
   "source": [
    "hongos.columns"
   ]
  },
  {
   "cell_type": "code",
   "execution_count": 8,
   "metadata": {},
   "outputs": [
    {
     "data": {
      "text/plain": [
       "class                       object\n",
       "cap-shape                   object\n",
       "cap-surface                 object\n",
       "cap-color                   object\n",
       "bruises                     object\n",
       "odor                        object\n",
       "gill-attachment             object\n",
       "gill-spacing                object\n",
       "gill-size                   object\n",
       "gill-color                  object\n",
       "stalk-shape                 object\n",
       "stalk-root                  object\n",
       "stalk-surface-above-ring    object\n",
       "stalk-surface-below-ring    object\n",
       "stalk-color-above-ring      object\n",
       "stalk-color-below-ring      object\n",
       "veil-type                   object\n",
       "veil-color                  object\n",
       "ring-number                 object\n",
       "ring-type                   object\n",
       "spore-print-color           object\n",
       "population                  object\n",
       "habitat                     object\n",
       "dtype: object"
      ]
     },
     "execution_count": 8,
     "metadata": {},
     "output_type": "execute_result"
    }
   ],
   "source": [
    "hongos.dtypes"
   ]
  },
  {
   "cell_type": "markdown",
   "metadata": {},
   "source": [
    "#### Datos Nulos"
   ]
  },
  {
   "cell_type": "markdown",
   "metadata": {},
   "source": [
    "c) Correcta manipulación de los datos nulos dentro de la base de datos"
   ]
  },
  {
   "cell_type": "code",
   "execution_count": 9,
   "metadata": {},
   "outputs": [
    {
     "data": {
      "text/html": [
       "<div>\n",
       "<style scoped>\n",
       "    .dataframe tbody tr th:only-of-type {\n",
       "        vertical-align: middle;\n",
       "    }\n",
       "\n",
       "    .dataframe tbody tr th {\n",
       "        vertical-align: top;\n",
       "    }\n",
       "\n",
       "    .dataframe thead th {\n",
       "        text-align: right;\n",
       "    }\n",
       "</style>\n",
       "<table border=\"1\" class=\"dataframe\">\n",
       "  <thead>\n",
       "    <tr style=\"text-align: right;\">\n",
       "      <th></th>\n",
       "      <th>class</th>\n",
       "      <th>cap-shape</th>\n",
       "      <th>cap-surface</th>\n",
       "      <th>cap-color</th>\n",
       "      <th>bruises</th>\n",
       "      <th>odor</th>\n",
       "      <th>gill-attachment</th>\n",
       "      <th>gill-spacing</th>\n",
       "      <th>gill-size</th>\n",
       "      <th>gill-color</th>\n",
       "      <th>...</th>\n",
       "      <th>stalk-surface-below-ring</th>\n",
       "      <th>stalk-color-above-ring</th>\n",
       "      <th>stalk-color-below-ring</th>\n",
       "      <th>veil-type</th>\n",
       "      <th>veil-color</th>\n",
       "      <th>ring-number</th>\n",
       "      <th>ring-type</th>\n",
       "      <th>spore-print-color</th>\n",
       "      <th>population</th>\n",
       "      <th>habitat</th>\n",
       "    </tr>\n",
       "  </thead>\n",
       "  <tbody>\n",
       "    <tr>\n",
       "      <th>0</th>\n",
       "      <td>False</td>\n",
       "      <td>False</td>\n",
       "      <td>False</td>\n",
       "      <td>False</td>\n",
       "      <td>False</td>\n",
       "      <td>False</td>\n",
       "      <td>False</td>\n",
       "      <td>False</td>\n",
       "      <td>False</td>\n",
       "      <td>False</td>\n",
       "      <td>...</td>\n",
       "      <td>False</td>\n",
       "      <td>False</td>\n",
       "      <td>False</td>\n",
       "      <td>False</td>\n",
       "      <td>False</td>\n",
       "      <td>False</td>\n",
       "      <td>False</td>\n",
       "      <td>False</td>\n",
       "      <td>False</td>\n",
       "      <td>False</td>\n",
       "    </tr>\n",
       "    <tr>\n",
       "      <th>1</th>\n",
       "      <td>False</td>\n",
       "      <td>False</td>\n",
       "      <td>False</td>\n",
       "      <td>False</td>\n",
       "      <td>False</td>\n",
       "      <td>False</td>\n",
       "      <td>False</td>\n",
       "      <td>False</td>\n",
       "      <td>False</td>\n",
       "      <td>False</td>\n",
       "      <td>...</td>\n",
       "      <td>False</td>\n",
       "      <td>False</td>\n",
       "      <td>False</td>\n",
       "      <td>False</td>\n",
       "      <td>False</td>\n",
       "      <td>False</td>\n",
       "      <td>False</td>\n",
       "      <td>False</td>\n",
       "      <td>False</td>\n",
       "      <td>False</td>\n",
       "    </tr>\n",
       "    <tr>\n",
       "      <th>2</th>\n",
       "      <td>False</td>\n",
       "      <td>False</td>\n",
       "      <td>False</td>\n",
       "      <td>False</td>\n",
       "      <td>False</td>\n",
       "      <td>False</td>\n",
       "      <td>False</td>\n",
       "      <td>False</td>\n",
       "      <td>False</td>\n",
       "      <td>False</td>\n",
       "      <td>...</td>\n",
       "      <td>False</td>\n",
       "      <td>False</td>\n",
       "      <td>False</td>\n",
       "      <td>False</td>\n",
       "      <td>False</td>\n",
       "      <td>False</td>\n",
       "      <td>False</td>\n",
       "      <td>False</td>\n",
       "      <td>False</td>\n",
       "      <td>False</td>\n",
       "    </tr>\n",
       "    <tr>\n",
       "      <th>3</th>\n",
       "      <td>False</td>\n",
       "      <td>False</td>\n",
       "      <td>False</td>\n",
       "      <td>False</td>\n",
       "      <td>False</td>\n",
       "      <td>False</td>\n",
       "      <td>False</td>\n",
       "      <td>False</td>\n",
       "      <td>False</td>\n",
       "      <td>False</td>\n",
       "      <td>...</td>\n",
       "      <td>False</td>\n",
       "      <td>False</td>\n",
       "      <td>False</td>\n",
       "      <td>False</td>\n",
       "      <td>False</td>\n",
       "      <td>False</td>\n",
       "      <td>False</td>\n",
       "      <td>False</td>\n",
       "      <td>False</td>\n",
       "      <td>False</td>\n",
       "    </tr>\n",
       "    <tr>\n",
       "      <th>4</th>\n",
       "      <td>False</td>\n",
       "      <td>False</td>\n",
       "      <td>False</td>\n",
       "      <td>False</td>\n",
       "      <td>False</td>\n",
       "      <td>False</td>\n",
       "      <td>False</td>\n",
       "      <td>False</td>\n",
       "      <td>False</td>\n",
       "      <td>False</td>\n",
       "      <td>...</td>\n",
       "      <td>False</td>\n",
       "      <td>False</td>\n",
       "      <td>False</td>\n",
       "      <td>False</td>\n",
       "      <td>False</td>\n",
       "      <td>False</td>\n",
       "      <td>False</td>\n",
       "      <td>False</td>\n",
       "      <td>False</td>\n",
       "      <td>False</td>\n",
       "    </tr>\n",
       "    <tr>\n",
       "      <th>...</th>\n",
       "      <td>...</td>\n",
       "      <td>...</td>\n",
       "      <td>...</td>\n",
       "      <td>...</td>\n",
       "      <td>...</td>\n",
       "      <td>...</td>\n",
       "      <td>...</td>\n",
       "      <td>...</td>\n",
       "      <td>...</td>\n",
       "      <td>...</td>\n",
       "      <td>...</td>\n",
       "      <td>...</td>\n",
       "      <td>...</td>\n",
       "      <td>...</td>\n",
       "      <td>...</td>\n",
       "      <td>...</td>\n",
       "      <td>...</td>\n",
       "      <td>...</td>\n",
       "      <td>...</td>\n",
       "      <td>...</td>\n",
       "      <td>...</td>\n",
       "    </tr>\n",
       "    <tr>\n",
       "      <th>8119</th>\n",
       "      <td>False</td>\n",
       "      <td>False</td>\n",
       "      <td>False</td>\n",
       "      <td>False</td>\n",
       "      <td>False</td>\n",
       "      <td>False</td>\n",
       "      <td>False</td>\n",
       "      <td>False</td>\n",
       "      <td>False</td>\n",
       "      <td>False</td>\n",
       "      <td>...</td>\n",
       "      <td>False</td>\n",
       "      <td>False</td>\n",
       "      <td>False</td>\n",
       "      <td>False</td>\n",
       "      <td>False</td>\n",
       "      <td>False</td>\n",
       "      <td>False</td>\n",
       "      <td>False</td>\n",
       "      <td>False</td>\n",
       "      <td>False</td>\n",
       "    </tr>\n",
       "    <tr>\n",
       "      <th>8120</th>\n",
       "      <td>False</td>\n",
       "      <td>False</td>\n",
       "      <td>False</td>\n",
       "      <td>False</td>\n",
       "      <td>False</td>\n",
       "      <td>False</td>\n",
       "      <td>False</td>\n",
       "      <td>False</td>\n",
       "      <td>False</td>\n",
       "      <td>False</td>\n",
       "      <td>...</td>\n",
       "      <td>False</td>\n",
       "      <td>False</td>\n",
       "      <td>False</td>\n",
       "      <td>False</td>\n",
       "      <td>False</td>\n",
       "      <td>False</td>\n",
       "      <td>False</td>\n",
       "      <td>False</td>\n",
       "      <td>False</td>\n",
       "      <td>False</td>\n",
       "    </tr>\n",
       "    <tr>\n",
       "      <th>8121</th>\n",
       "      <td>False</td>\n",
       "      <td>False</td>\n",
       "      <td>False</td>\n",
       "      <td>False</td>\n",
       "      <td>False</td>\n",
       "      <td>False</td>\n",
       "      <td>False</td>\n",
       "      <td>False</td>\n",
       "      <td>False</td>\n",
       "      <td>False</td>\n",
       "      <td>...</td>\n",
       "      <td>False</td>\n",
       "      <td>False</td>\n",
       "      <td>False</td>\n",
       "      <td>False</td>\n",
       "      <td>False</td>\n",
       "      <td>False</td>\n",
       "      <td>False</td>\n",
       "      <td>False</td>\n",
       "      <td>False</td>\n",
       "      <td>False</td>\n",
       "    </tr>\n",
       "    <tr>\n",
       "      <th>8122</th>\n",
       "      <td>False</td>\n",
       "      <td>False</td>\n",
       "      <td>False</td>\n",
       "      <td>False</td>\n",
       "      <td>False</td>\n",
       "      <td>False</td>\n",
       "      <td>False</td>\n",
       "      <td>False</td>\n",
       "      <td>False</td>\n",
       "      <td>False</td>\n",
       "      <td>...</td>\n",
       "      <td>False</td>\n",
       "      <td>False</td>\n",
       "      <td>False</td>\n",
       "      <td>False</td>\n",
       "      <td>False</td>\n",
       "      <td>False</td>\n",
       "      <td>False</td>\n",
       "      <td>False</td>\n",
       "      <td>False</td>\n",
       "      <td>False</td>\n",
       "    </tr>\n",
       "    <tr>\n",
       "      <th>8123</th>\n",
       "      <td>False</td>\n",
       "      <td>False</td>\n",
       "      <td>False</td>\n",
       "      <td>False</td>\n",
       "      <td>False</td>\n",
       "      <td>False</td>\n",
       "      <td>False</td>\n",
       "      <td>False</td>\n",
       "      <td>False</td>\n",
       "      <td>False</td>\n",
       "      <td>...</td>\n",
       "      <td>False</td>\n",
       "      <td>False</td>\n",
       "      <td>False</td>\n",
       "      <td>False</td>\n",
       "      <td>False</td>\n",
       "      <td>False</td>\n",
       "      <td>False</td>\n",
       "      <td>False</td>\n",
       "      <td>False</td>\n",
       "      <td>False</td>\n",
       "    </tr>\n",
       "  </tbody>\n",
       "</table>\n",
       "<p>8124 rows × 23 columns</p>\n",
       "</div>"
      ],
      "text/plain": [
       "      class  cap-shape  cap-surface  cap-color  bruises   odor  \\\n",
       "0     False      False        False      False    False  False   \n",
       "1     False      False        False      False    False  False   \n",
       "2     False      False        False      False    False  False   \n",
       "3     False      False        False      False    False  False   \n",
       "4     False      False        False      False    False  False   \n",
       "...     ...        ...          ...        ...      ...    ...   \n",
       "8119  False      False        False      False    False  False   \n",
       "8120  False      False        False      False    False  False   \n",
       "8121  False      False        False      False    False  False   \n",
       "8122  False      False        False      False    False  False   \n",
       "8123  False      False        False      False    False  False   \n",
       "\n",
       "      gill-attachment  gill-spacing  gill-size  gill-color  ...  \\\n",
       "0               False         False      False       False  ...   \n",
       "1               False         False      False       False  ...   \n",
       "2               False         False      False       False  ...   \n",
       "3               False         False      False       False  ...   \n",
       "4               False         False      False       False  ...   \n",
       "...               ...           ...        ...         ...  ...   \n",
       "8119            False         False      False       False  ...   \n",
       "8120            False         False      False       False  ...   \n",
       "8121            False         False      False       False  ...   \n",
       "8122            False         False      False       False  ...   \n",
       "8123            False         False      False       False  ...   \n",
       "\n",
       "      stalk-surface-below-ring  stalk-color-above-ring  \\\n",
       "0                        False                   False   \n",
       "1                        False                   False   \n",
       "2                        False                   False   \n",
       "3                        False                   False   \n",
       "4                        False                   False   \n",
       "...                        ...                     ...   \n",
       "8119                     False                   False   \n",
       "8120                     False                   False   \n",
       "8121                     False                   False   \n",
       "8122                     False                   False   \n",
       "8123                     False                   False   \n",
       "\n",
       "      stalk-color-below-ring  veil-type  veil-color  ring-number  ring-type  \\\n",
       "0                      False      False       False        False      False   \n",
       "1                      False      False       False        False      False   \n",
       "2                      False      False       False        False      False   \n",
       "3                      False      False       False        False      False   \n",
       "4                      False      False       False        False      False   \n",
       "...                      ...        ...         ...          ...        ...   \n",
       "8119                   False      False       False        False      False   \n",
       "8120                   False      False       False        False      False   \n",
       "8121                   False      False       False        False      False   \n",
       "8122                   False      False       False        False      False   \n",
       "8123                   False      False       False        False      False   \n",
       "\n",
       "      spore-print-color  population  habitat  \n",
       "0                 False       False    False  \n",
       "1                 False       False    False  \n",
       "2                 False       False    False  \n",
       "3                 False       False    False  \n",
       "4                 False       False    False  \n",
       "...                 ...         ...      ...  \n",
       "8119              False       False    False  \n",
       "8120              False       False    False  \n",
       "8121              False       False    False  \n",
       "8122              False       False    False  \n",
       "8123              False       False    False  \n",
       "\n",
       "[8124 rows x 23 columns]"
      ]
     },
     "execution_count": 9,
     "metadata": {},
     "output_type": "execute_result"
    }
   ],
   "source": [
    "hongos.isnull()"
   ]
  },
  {
   "cell_type": "code",
   "execution_count": 10,
   "metadata": {},
   "outputs": [
    {
     "data": {
      "text/plain": [
       "class                       False\n",
       "cap-shape                   False\n",
       "cap-surface                 False\n",
       "cap-color                   False\n",
       "bruises                     False\n",
       "odor                        False\n",
       "gill-attachment             False\n",
       "gill-spacing                False\n",
       "gill-size                   False\n",
       "gill-color                  False\n",
       "stalk-shape                 False\n",
       "stalk-root                  False\n",
       "stalk-surface-above-ring    False\n",
       "stalk-surface-below-ring    False\n",
       "stalk-color-above-ring      False\n",
       "stalk-color-below-ring      False\n",
       "veil-type                   False\n",
       "veil-color                  False\n",
       "ring-number                 False\n",
       "ring-type                   False\n",
       "spore-print-color           False\n",
       "population                  False\n",
       "habitat                     False\n",
       "dtype: bool"
      ]
     },
     "execution_count": 10,
     "metadata": {},
     "output_type": "execute_result"
    }
   ],
   "source": [
    "hongos.isnull().any()"
   ]
  },
  {
   "cell_type": "code",
   "execution_count": 11,
   "metadata": {},
   "outputs": [
    {
     "data": {
      "text/plain": [
       "class                       0\n",
       "cap-shape                   0\n",
       "cap-surface                 0\n",
       "cap-color                   0\n",
       "bruises                     0\n",
       "odor                        0\n",
       "gill-attachment             0\n",
       "gill-spacing                0\n",
       "gill-size                   0\n",
       "gill-color                  0\n",
       "stalk-shape                 0\n",
       "stalk-root                  0\n",
       "stalk-surface-above-ring    0\n",
       "stalk-surface-below-ring    0\n",
       "stalk-color-above-ring      0\n",
       "stalk-color-below-ring      0\n",
       "veil-type                   0\n",
       "veil-color                  0\n",
       "ring-number                 0\n",
       "ring-type                   0\n",
       "spore-print-color           0\n",
       "population                  0\n",
       "habitat                     0\n",
       "dtype: int64"
      ]
     },
     "execution_count": 11,
     "metadata": {},
     "output_type": "execute_result"
    }
   ],
   "source": [
    "hongos.isnull().sum()"
   ]
  },
  {
   "cell_type": "markdown",
   "metadata": {},
   "source": [
    "Con las pruebas realzadas anteriormente podemos afirmar que no contamos con datos nulos, por lo que no tendríamos que manipular la base de datos en este punto."
   ]
  },
  {
   "cell_type": "code",
   "execution_count": 12,
   "metadata": {},
   "outputs": [],
   "source": [
    "hongos = hongos.rename(columns = {'class':'Clase', 'cap-shape':'Forma_Sombrero', 'cap-surface':'Superficie_Sombrero', 'cap-color':'Color_Sombrero', 'bruises':'Magulladura', 'odor':'Olor', 'gill-attachment':'Forma_Laminas', 'gill-spacing':'Espaciamiento_Laminas', 'gill-size':'Dimension_Laminas', 'gill-color':'Color_Laminas', 'stalk-shape':'Forma_Tallo', 'stalk-root':'Raiz_Tallo', 'stalk-surface-above-ring':'Superficie_tallo_sobre_anillo', 'stalk-surface-below-ring':'Superficie_tallo_bajo_anillo', 'stalk-color-above-ring':'Color_tallo_sobre_anillo', 'stalk-color-below-ring':'Color_tallo_bajo_anillo', 'veil-type':'Tipo_Velo', 'veil-color':'Color_Velo', 'ring-number':'Num_anillos', 'ring-type':'Tipo_anillo', 'spore-print-color':'Color_Espora', 'population':'Poblacion', 'habitat':'Habitat'})"
   ]
  },
  {
   "cell_type": "code",
   "execution_count": 13,
   "metadata": {},
   "outputs": [],
   "source": [
    "v1={\"b\":\"campana\",\"c\":\"conica\",\"x\":\"convexa\",\"f\":\"plana\",\"k\":\"mamelonado\",\"s\":\"hundido\"}\n",
    "hongos[\"Forma_Sombrero\"]=hongos[\"Forma_Sombrero\"].replace(v1)\n",
    "v2={\"f\": \"fibroso\", \"g\": \"asurcada\",\"y\":\"escamoso\",\"s\": \"liso\"}\n",
    "hongos[\"Superficie_Sombrero\"]=hongos[\"Superficie_Sombrero\"].replace(v2)\n",
    "v3={\"n\":\"marron\",\"b\":\"ante\",\"c\":\"canela\",\"g\":\"gris\",\"r\":\"verde\",\"p\":\"rosa\",\"u\":\"violeta\",\"e\":\"rojo\",\"w\":\"blanco\",\"y\":\"amarillo\"}\n",
    "hongos[\"Color_Sombrero\"]=hongos[\"Color_Sombrero\"].replace(v3)\n",
    "v4={\"a\":\"almendra\",\"l\":\"anis\",\"c\":\"creosota\",\"y\":\"pescado\",\"f\":\"sucio\",\"m\":\"mohoso\",\"n\":\"ninguno\",\"p\":\"acre\",\"s\":\"picante\"}\n",
    "hongos[\"Olor\"]=hongos[\"Olor\"].replace(v4)\n",
    "v5={\"a\":\"adherida\",\"f\":\"libre\", \"d\":\"descendente\", \"n\":\"con_muescas\"}\n",
    "hongos[\"Forma_Laminas\"]=hongos[\"Forma_Laminas\"].replace(v5)\n",
    "v6={\"c\":\"cercanas\",\"w\":\"apretadas\", \"d\":\"distantes\"}\n",
    "hongos[\"Espaciamiento_Laminas\"]=hongos[\"Espaciamiento_Laminas\"].replace(v6)\n",
    "v7={\"b\":\"ancho\",\"n\":\"estrecho\"}\n",
    "hongos[\"Dimension_Laminas\"]=hongos[\"Dimension_Laminas\"].replace(v7)\n",
    "v8={\"k\":\"negro\",\"b\":\"ante\",\"n\":\"marron\",\"h\":\"chocolate\",\"g\":\"gris\",\"r\":\"verde\",\"o\":\"naranja\",\"p\":\"rosa\",\"u\":\"violeta\",\"e\":\"rojo\",\"w\":\"blanco\",\"y\":\"amarillo\"}\n",
    "hongos[\"Color_Laminas\"]=hongos[\"Color_Laminas\"].replace(v8)\n",
    "v9={\"t\":\"estrechando\",\"e\":\"agrandando\"}\n",
    "hongos[\"Forma_Tallo\"]=hongos[\"Forma_Tallo\"].replace(v9)\n",
    "v10={\"b\":\"bulboso\",\"c\":\"garrote\",\"e\":\"iguales\",\"z\":\"rizomorfos\",\"r\":\"enraizado\",\"?\":\"faltante\"}\n",
    "hongos[\"Raiz_Tallo\"]=hongos[\"Raiz_Tallo\"].replace(v10)\n",
    "v11={\"s\":\"lisa\",\"k\":\"sedosa\",\"f\":\"fibrosa\",\"y\":\"escamosa\"}\n",
    "hongos[\"Superficie_tallo_sobre_anillo\"]=hongos[\"Superficie_tallo_sobre_anillo\"].replace(v11)\n",
    "hongos[\"Superficie_tallo_bajo_anillo\"]=hongos[\"Superficie_tallo_bajo_anillo\"].replace(v11)\n",
    "v12={\"n\":\"marron\",\"b\":\"ante\",\"c\":\"canela\",\"g\":\"gris\",\"p\":\"rosa\",\"e\":\"rojo\",\"w\":\"blanco\",\"y\":\"amarillo\",\"o\":\"naranja\"}\n",
    "hongos[\"Color_tallo_sobre_anillo\"]=hongos[\"Color_tallo_sobre_anillo\"].replace(v12)\n",
    "hongos[\"Color_tallo_bajo_anillo\"]=hongos[\"Color_tallo_bajo_anillo\"].replace(v12)\n",
    "v13={\"p\":\"parcial\",\"u\":\"universal\"} \n",
    "hongos[\"Tipo_Velo\"]=hongos[\"Tipo_Velo\"].replace(v13)\n",
    "v14={\"n\":\"marron\",\"o\":\"naranja\",\"w\":\"blanco\",\"y\":\"amarillo\"} \n",
    "hongos[\"Color_Velo\"]=hongos[\"Color_Velo\"].replace(v14)\n",
    "v15= {\"n\":\"ninguno\",\"o\":\"uno\",\"t\":\"dos\"}\n",
    "hongos[\"Num_anillos\"]=hongos[\"Num_anillos\"].replace(v15)\n",
    "v16={\"c\":\"cortina\",\"e\":\"evanescente\",\"f\":\"llamarada\",\"l\":\"grande\",\"n\":\"ninguno\",\"p\":\"colgante\",\"s\":\"ascendente\",\"z\":\"fugaz\"}\n",
    "hongos[\"Tipo_anillo\"]=hongos[\"Tipo_anillo\"].replace(v16)\n",
    "v17= {\"k\":\"negro\",\"n\":\"marron\",\"b\":\"ante\",\"h\":\"chocolate\",\"r\":\"verde\",\"o\":\"naranja\",\"u\":\"violeta\",\"w\":\"blanco\",\"y\":\"amarillo\"}\n",
    "hongos[\"Color_Espora\"]=hongos[\"Color_Espora\"].replace(v17)\n",
    "v18={\"a\":\"abundantes\",\"c\":\"agrupados\",\"n\":\"numerosos\",\"s\":\"dispersos\",\"v\":\"varios\",\"y\":\"solitario\"}\n",
    "hongos[\"Poblacion\"]=hongos[\"Poblacion\"].replace(v18)\n",
    "v19={\"g\":\"pastos\",\"l\":\"hojas\",\"m\":\"prados\",\"p\":\"caminos\",\"u\":\"zona_urbana\",\"w\":\"residuos\",\"d\":\"bosques\"}\n",
    "hongos[\"Habitat\"]=hongos[\"Habitat\"].replace(v19)\n",
    "v20={\"t\":\"tiene\",\"f\":\"no_tiene\"}\n",
    "hongos[\"Magulladura\"]=hongos[\"Magulladura\"].replace(v20)\n",
    "v21={\"p\":\"venenoso\", \"e\":\"comestible\"}\n",
    "hongos[\"Clase\"]=hongos[\"Clase\"].replace(v21)"
   ]
  },
  {
   "cell_type": "code",
   "execution_count": 14,
   "metadata": {},
   "outputs": [
    {
     "data": {
      "text/html": [
       "<div>\n",
       "<style scoped>\n",
       "    .dataframe tbody tr th:only-of-type {\n",
       "        vertical-align: middle;\n",
       "    }\n",
       "\n",
       "    .dataframe tbody tr th {\n",
       "        vertical-align: top;\n",
       "    }\n",
       "\n",
       "    .dataframe thead th {\n",
       "        text-align: right;\n",
       "    }\n",
       "</style>\n",
       "<table border=\"1\" class=\"dataframe\">\n",
       "  <thead>\n",
       "    <tr style=\"text-align: right;\">\n",
       "      <th></th>\n",
       "      <th>Clase</th>\n",
       "      <th>Forma_Sombrero</th>\n",
       "      <th>Superficie_Sombrero</th>\n",
       "      <th>Color_Sombrero</th>\n",
       "      <th>Magulladura</th>\n",
       "      <th>Olor</th>\n",
       "      <th>Forma_Laminas</th>\n",
       "      <th>Espaciamiento_Laminas</th>\n",
       "      <th>Dimension_Laminas</th>\n",
       "      <th>Color_Laminas</th>\n",
       "      <th>...</th>\n",
       "      <th>Superficie_tallo_bajo_anillo</th>\n",
       "      <th>Color_tallo_sobre_anillo</th>\n",
       "      <th>Color_tallo_bajo_anillo</th>\n",
       "      <th>Tipo_Velo</th>\n",
       "      <th>Color_Velo</th>\n",
       "      <th>Num_anillos</th>\n",
       "      <th>Tipo_anillo</th>\n",
       "      <th>Color_Espora</th>\n",
       "      <th>Poblacion</th>\n",
       "      <th>Habitat</th>\n",
       "    </tr>\n",
       "  </thead>\n",
       "  <tbody>\n",
       "    <tr>\n",
       "      <th>0</th>\n",
       "      <td>venenoso</td>\n",
       "      <td>convexa</td>\n",
       "      <td>liso</td>\n",
       "      <td>marron</td>\n",
       "      <td>tiene</td>\n",
       "      <td>acre</td>\n",
       "      <td>libre</td>\n",
       "      <td>cercanas</td>\n",
       "      <td>estrecho</td>\n",
       "      <td>negro</td>\n",
       "      <td>...</td>\n",
       "      <td>lisa</td>\n",
       "      <td>blanco</td>\n",
       "      <td>blanco</td>\n",
       "      <td>parcial</td>\n",
       "      <td>blanco</td>\n",
       "      <td>uno</td>\n",
       "      <td>colgante</td>\n",
       "      <td>negro</td>\n",
       "      <td>dispersos</td>\n",
       "      <td>zona_urbana</td>\n",
       "    </tr>\n",
       "    <tr>\n",
       "      <th>1</th>\n",
       "      <td>comestible</td>\n",
       "      <td>convexa</td>\n",
       "      <td>liso</td>\n",
       "      <td>amarillo</td>\n",
       "      <td>tiene</td>\n",
       "      <td>almendra</td>\n",
       "      <td>libre</td>\n",
       "      <td>cercanas</td>\n",
       "      <td>ancho</td>\n",
       "      <td>negro</td>\n",
       "      <td>...</td>\n",
       "      <td>lisa</td>\n",
       "      <td>blanco</td>\n",
       "      <td>blanco</td>\n",
       "      <td>parcial</td>\n",
       "      <td>blanco</td>\n",
       "      <td>uno</td>\n",
       "      <td>colgante</td>\n",
       "      <td>marron</td>\n",
       "      <td>numerosos</td>\n",
       "      <td>pastos</td>\n",
       "    </tr>\n",
       "    <tr>\n",
       "      <th>2</th>\n",
       "      <td>comestible</td>\n",
       "      <td>campana</td>\n",
       "      <td>liso</td>\n",
       "      <td>blanco</td>\n",
       "      <td>tiene</td>\n",
       "      <td>anis</td>\n",
       "      <td>libre</td>\n",
       "      <td>cercanas</td>\n",
       "      <td>ancho</td>\n",
       "      <td>marron</td>\n",
       "      <td>...</td>\n",
       "      <td>lisa</td>\n",
       "      <td>blanco</td>\n",
       "      <td>blanco</td>\n",
       "      <td>parcial</td>\n",
       "      <td>blanco</td>\n",
       "      <td>uno</td>\n",
       "      <td>colgante</td>\n",
       "      <td>marron</td>\n",
       "      <td>numerosos</td>\n",
       "      <td>prados</td>\n",
       "    </tr>\n",
       "    <tr>\n",
       "      <th>3</th>\n",
       "      <td>venenoso</td>\n",
       "      <td>convexa</td>\n",
       "      <td>escamoso</td>\n",
       "      <td>blanco</td>\n",
       "      <td>tiene</td>\n",
       "      <td>acre</td>\n",
       "      <td>libre</td>\n",
       "      <td>cercanas</td>\n",
       "      <td>estrecho</td>\n",
       "      <td>marron</td>\n",
       "      <td>...</td>\n",
       "      <td>lisa</td>\n",
       "      <td>blanco</td>\n",
       "      <td>blanco</td>\n",
       "      <td>parcial</td>\n",
       "      <td>blanco</td>\n",
       "      <td>uno</td>\n",
       "      <td>colgante</td>\n",
       "      <td>negro</td>\n",
       "      <td>dispersos</td>\n",
       "      <td>zona_urbana</td>\n",
       "    </tr>\n",
       "    <tr>\n",
       "      <th>4</th>\n",
       "      <td>comestible</td>\n",
       "      <td>convexa</td>\n",
       "      <td>liso</td>\n",
       "      <td>gris</td>\n",
       "      <td>no_tiene</td>\n",
       "      <td>ninguno</td>\n",
       "      <td>libre</td>\n",
       "      <td>apretadas</td>\n",
       "      <td>ancho</td>\n",
       "      <td>negro</td>\n",
       "      <td>...</td>\n",
       "      <td>lisa</td>\n",
       "      <td>blanco</td>\n",
       "      <td>blanco</td>\n",
       "      <td>parcial</td>\n",
       "      <td>blanco</td>\n",
       "      <td>uno</td>\n",
       "      <td>evanescente</td>\n",
       "      <td>marron</td>\n",
       "      <td>abundantes</td>\n",
       "      <td>pastos</td>\n",
       "    </tr>\n",
       "    <tr>\n",
       "      <th>...</th>\n",
       "      <td>...</td>\n",
       "      <td>...</td>\n",
       "      <td>...</td>\n",
       "      <td>...</td>\n",
       "      <td>...</td>\n",
       "      <td>...</td>\n",
       "      <td>...</td>\n",
       "      <td>...</td>\n",
       "      <td>...</td>\n",
       "      <td>...</td>\n",
       "      <td>...</td>\n",
       "      <td>...</td>\n",
       "      <td>...</td>\n",
       "      <td>...</td>\n",
       "      <td>...</td>\n",
       "      <td>...</td>\n",
       "      <td>...</td>\n",
       "      <td>...</td>\n",
       "      <td>...</td>\n",
       "      <td>...</td>\n",
       "      <td>...</td>\n",
       "    </tr>\n",
       "    <tr>\n",
       "      <th>8119</th>\n",
       "      <td>comestible</td>\n",
       "      <td>mamelonado</td>\n",
       "      <td>liso</td>\n",
       "      <td>marron</td>\n",
       "      <td>no_tiene</td>\n",
       "      <td>ninguno</td>\n",
       "      <td>adherida</td>\n",
       "      <td>cercanas</td>\n",
       "      <td>ancho</td>\n",
       "      <td>amarillo</td>\n",
       "      <td>...</td>\n",
       "      <td>lisa</td>\n",
       "      <td>naranja</td>\n",
       "      <td>naranja</td>\n",
       "      <td>parcial</td>\n",
       "      <td>naranja</td>\n",
       "      <td>uno</td>\n",
       "      <td>colgante</td>\n",
       "      <td>ante</td>\n",
       "      <td>agrupados</td>\n",
       "      <td>hojas</td>\n",
       "    </tr>\n",
       "    <tr>\n",
       "      <th>8120</th>\n",
       "      <td>comestible</td>\n",
       "      <td>convexa</td>\n",
       "      <td>liso</td>\n",
       "      <td>marron</td>\n",
       "      <td>no_tiene</td>\n",
       "      <td>ninguno</td>\n",
       "      <td>adherida</td>\n",
       "      <td>cercanas</td>\n",
       "      <td>ancho</td>\n",
       "      <td>amarillo</td>\n",
       "      <td>...</td>\n",
       "      <td>lisa</td>\n",
       "      <td>naranja</td>\n",
       "      <td>naranja</td>\n",
       "      <td>parcial</td>\n",
       "      <td>marron</td>\n",
       "      <td>uno</td>\n",
       "      <td>colgante</td>\n",
       "      <td>ante</td>\n",
       "      <td>varios</td>\n",
       "      <td>hojas</td>\n",
       "    </tr>\n",
       "    <tr>\n",
       "      <th>8121</th>\n",
       "      <td>comestible</td>\n",
       "      <td>plana</td>\n",
       "      <td>liso</td>\n",
       "      <td>marron</td>\n",
       "      <td>no_tiene</td>\n",
       "      <td>ninguno</td>\n",
       "      <td>adherida</td>\n",
       "      <td>cercanas</td>\n",
       "      <td>ancho</td>\n",
       "      <td>marron</td>\n",
       "      <td>...</td>\n",
       "      <td>lisa</td>\n",
       "      <td>naranja</td>\n",
       "      <td>naranja</td>\n",
       "      <td>parcial</td>\n",
       "      <td>naranja</td>\n",
       "      <td>uno</td>\n",
       "      <td>colgante</td>\n",
       "      <td>ante</td>\n",
       "      <td>agrupados</td>\n",
       "      <td>hojas</td>\n",
       "    </tr>\n",
       "    <tr>\n",
       "      <th>8122</th>\n",
       "      <td>venenoso</td>\n",
       "      <td>mamelonado</td>\n",
       "      <td>escamoso</td>\n",
       "      <td>marron</td>\n",
       "      <td>no_tiene</td>\n",
       "      <td>pescado</td>\n",
       "      <td>libre</td>\n",
       "      <td>cercanas</td>\n",
       "      <td>estrecho</td>\n",
       "      <td>ante</td>\n",
       "      <td>...</td>\n",
       "      <td>sedosa</td>\n",
       "      <td>blanco</td>\n",
       "      <td>blanco</td>\n",
       "      <td>parcial</td>\n",
       "      <td>blanco</td>\n",
       "      <td>uno</td>\n",
       "      <td>evanescente</td>\n",
       "      <td>blanco</td>\n",
       "      <td>varios</td>\n",
       "      <td>hojas</td>\n",
       "    </tr>\n",
       "    <tr>\n",
       "      <th>8123</th>\n",
       "      <td>comestible</td>\n",
       "      <td>convexa</td>\n",
       "      <td>liso</td>\n",
       "      <td>marron</td>\n",
       "      <td>no_tiene</td>\n",
       "      <td>ninguno</td>\n",
       "      <td>adherida</td>\n",
       "      <td>cercanas</td>\n",
       "      <td>ancho</td>\n",
       "      <td>amarillo</td>\n",
       "      <td>...</td>\n",
       "      <td>lisa</td>\n",
       "      <td>naranja</td>\n",
       "      <td>naranja</td>\n",
       "      <td>parcial</td>\n",
       "      <td>naranja</td>\n",
       "      <td>uno</td>\n",
       "      <td>colgante</td>\n",
       "      <td>naranja</td>\n",
       "      <td>agrupados</td>\n",
       "      <td>hojas</td>\n",
       "    </tr>\n",
       "  </tbody>\n",
       "</table>\n",
       "<p>8124 rows × 23 columns</p>\n",
       "</div>"
      ],
      "text/plain": [
       "           Clase Forma_Sombrero Superficie_Sombrero Color_Sombrero  \\\n",
       "0       venenoso        convexa                liso         marron   \n",
       "1     comestible        convexa                liso       amarillo   \n",
       "2     comestible        campana                liso         blanco   \n",
       "3       venenoso        convexa            escamoso         blanco   \n",
       "4     comestible        convexa                liso           gris   \n",
       "...          ...            ...                 ...            ...   \n",
       "8119  comestible     mamelonado                liso         marron   \n",
       "8120  comestible        convexa                liso         marron   \n",
       "8121  comestible          plana                liso         marron   \n",
       "8122    venenoso     mamelonado            escamoso         marron   \n",
       "8123  comestible        convexa                liso         marron   \n",
       "\n",
       "     Magulladura      Olor Forma_Laminas Espaciamiento_Laminas  \\\n",
       "0          tiene      acre         libre              cercanas   \n",
       "1          tiene  almendra         libre              cercanas   \n",
       "2          tiene      anis         libre              cercanas   \n",
       "3          tiene      acre         libre              cercanas   \n",
       "4       no_tiene   ninguno         libre             apretadas   \n",
       "...          ...       ...           ...                   ...   \n",
       "8119    no_tiene   ninguno      adherida              cercanas   \n",
       "8120    no_tiene   ninguno      adherida              cercanas   \n",
       "8121    no_tiene   ninguno      adherida              cercanas   \n",
       "8122    no_tiene   pescado         libre              cercanas   \n",
       "8123    no_tiene   ninguno      adherida              cercanas   \n",
       "\n",
       "     Dimension_Laminas Color_Laminas  ... Superficie_tallo_bajo_anillo  \\\n",
       "0             estrecho         negro  ...                         lisa   \n",
       "1                ancho         negro  ...                         lisa   \n",
       "2                ancho        marron  ...                         lisa   \n",
       "3             estrecho        marron  ...                         lisa   \n",
       "4                ancho         negro  ...                         lisa   \n",
       "...                ...           ...  ...                          ...   \n",
       "8119             ancho      amarillo  ...                         lisa   \n",
       "8120             ancho      amarillo  ...                         lisa   \n",
       "8121             ancho        marron  ...                         lisa   \n",
       "8122          estrecho          ante  ...                       sedosa   \n",
       "8123             ancho      amarillo  ...                         lisa   \n",
       "\n",
       "     Color_tallo_sobre_anillo Color_tallo_bajo_anillo Tipo_Velo Color_Velo  \\\n",
       "0                      blanco                  blanco   parcial     blanco   \n",
       "1                      blanco                  blanco   parcial     blanco   \n",
       "2                      blanco                  blanco   parcial     blanco   \n",
       "3                      blanco                  blanco   parcial     blanco   \n",
       "4                      blanco                  blanco   parcial     blanco   \n",
       "...                       ...                     ...       ...        ...   \n",
       "8119                  naranja                 naranja   parcial    naranja   \n",
       "8120                  naranja                 naranja   parcial     marron   \n",
       "8121                  naranja                 naranja   parcial    naranja   \n",
       "8122                   blanco                  blanco   parcial     blanco   \n",
       "8123                  naranja                 naranja   parcial    naranja   \n",
       "\n",
       "     Num_anillos  Tipo_anillo Color_Espora   Poblacion      Habitat  \n",
       "0            uno     colgante        negro   dispersos  zona_urbana  \n",
       "1            uno     colgante       marron   numerosos       pastos  \n",
       "2            uno     colgante       marron   numerosos       prados  \n",
       "3            uno     colgante        negro   dispersos  zona_urbana  \n",
       "4            uno  evanescente       marron  abundantes       pastos  \n",
       "...          ...          ...          ...         ...          ...  \n",
       "8119         uno     colgante         ante   agrupados        hojas  \n",
       "8120         uno     colgante         ante      varios        hojas  \n",
       "8121         uno     colgante         ante   agrupados        hojas  \n",
       "8122         uno  evanescente       blanco      varios        hojas  \n",
       "8123         uno     colgante      naranja   agrupados        hojas  \n",
       "\n",
       "[8124 rows x 23 columns]"
      ]
     },
     "execution_count": 14,
     "metadata": {},
     "output_type": "execute_result"
    }
   ],
   "source": [
    "hongos"
   ]
  },
  {
   "cell_type": "markdown",
   "metadata": {},
   "source": [
    "Decidimos traducir los nombres de las columnas y los valores al español para un mejor entendimiento."
   ]
  },
  {
   "cell_type": "markdown",
   "metadata": {},
   "source": [
    "b) Eliminar columnas no desadas"
   ]
  },
  {
   "cell_type": "code",
   "execution_count": 15,
   "metadata": {},
   "outputs": [
    {
     "data": {
      "text/plain": [
       "array(['parcial'], dtype=object)"
      ]
     },
     "execution_count": 15,
     "metadata": {},
     "output_type": "execute_result"
    }
   ],
   "source": [
    "hongos.Tipo_Velo.unique()"
   ]
  },
  {
   "cell_type": "markdown",
   "metadata": {},
   "source": [
    "Como la columna del tipo de velo solo contiene un único valor, el de \"parcial\", podemos eliminar dicha columna."
   ]
  },
  {
   "cell_type": "code",
   "execution_count": 16,
   "metadata": {},
   "outputs": [],
   "source": [
    "hongos = hongos.drop('Tipo_Velo', axis = 1)"
   ]
  },
  {
   "cell_type": "markdown",
   "metadata": {},
   "source": [
    "e) Crear un nuevo archivo con la base de datos editada"
   ]
  },
  {
   "cell_type": "code",
   "execution_count": 17,
   "metadata": {},
   "outputs": [],
   "source": [
    "hongos.to_csv(\"BD_hongos.csv\", index = False)"
   ]
  },
  {
   "cell_type": "code",
   "execution_count": 18,
   "metadata": {},
   "outputs": [
    {
     "data": {
      "text/html": [
       "<div>\n",
       "<style scoped>\n",
       "    .dataframe tbody tr th:only-of-type {\n",
       "        vertical-align: middle;\n",
       "    }\n",
       "\n",
       "    .dataframe tbody tr th {\n",
       "        vertical-align: top;\n",
       "    }\n",
       "\n",
       "    .dataframe thead th {\n",
       "        text-align: right;\n",
       "    }\n",
       "</style>\n",
       "<table border=\"1\" class=\"dataframe\">\n",
       "  <thead>\n",
       "    <tr style=\"text-align: right;\">\n",
       "      <th></th>\n",
       "      <th>Clase</th>\n",
       "      <th>Forma_Sombrero</th>\n",
       "      <th>Superficie_Sombrero</th>\n",
       "      <th>Color_Sombrero</th>\n",
       "      <th>Magulladura</th>\n",
       "      <th>Olor</th>\n",
       "      <th>Forma_Laminas</th>\n",
       "      <th>Espaciamiento_Laminas</th>\n",
       "      <th>Dimension_Laminas</th>\n",
       "      <th>Color_Laminas</th>\n",
       "      <th>...</th>\n",
       "      <th>Superficie_tallo_sobre_anillo</th>\n",
       "      <th>Superficie_tallo_bajo_anillo</th>\n",
       "      <th>Color_tallo_sobre_anillo</th>\n",
       "      <th>Color_tallo_bajo_anillo</th>\n",
       "      <th>Color_Velo</th>\n",
       "      <th>Num_anillos</th>\n",
       "      <th>Tipo_anillo</th>\n",
       "      <th>Color_Espora</th>\n",
       "      <th>Poblacion</th>\n",
       "      <th>Habitat</th>\n",
       "    </tr>\n",
       "  </thead>\n",
       "  <tbody>\n",
       "    <tr>\n",
       "      <th>0</th>\n",
       "      <td>venenoso</td>\n",
       "      <td>convexa</td>\n",
       "      <td>liso</td>\n",
       "      <td>marron</td>\n",
       "      <td>tiene</td>\n",
       "      <td>acre</td>\n",
       "      <td>libre</td>\n",
       "      <td>cercanas</td>\n",
       "      <td>estrecho</td>\n",
       "      <td>negro</td>\n",
       "      <td>...</td>\n",
       "      <td>lisa</td>\n",
       "      <td>lisa</td>\n",
       "      <td>blanco</td>\n",
       "      <td>blanco</td>\n",
       "      <td>blanco</td>\n",
       "      <td>uno</td>\n",
       "      <td>colgante</td>\n",
       "      <td>negro</td>\n",
       "      <td>dispersos</td>\n",
       "      <td>zona_urbana</td>\n",
       "    </tr>\n",
       "    <tr>\n",
       "      <th>1</th>\n",
       "      <td>comestible</td>\n",
       "      <td>convexa</td>\n",
       "      <td>liso</td>\n",
       "      <td>amarillo</td>\n",
       "      <td>tiene</td>\n",
       "      <td>almendra</td>\n",
       "      <td>libre</td>\n",
       "      <td>cercanas</td>\n",
       "      <td>ancho</td>\n",
       "      <td>negro</td>\n",
       "      <td>...</td>\n",
       "      <td>lisa</td>\n",
       "      <td>lisa</td>\n",
       "      <td>blanco</td>\n",
       "      <td>blanco</td>\n",
       "      <td>blanco</td>\n",
       "      <td>uno</td>\n",
       "      <td>colgante</td>\n",
       "      <td>marron</td>\n",
       "      <td>numerosos</td>\n",
       "      <td>pastos</td>\n",
       "    </tr>\n",
       "    <tr>\n",
       "      <th>2</th>\n",
       "      <td>comestible</td>\n",
       "      <td>campana</td>\n",
       "      <td>liso</td>\n",
       "      <td>blanco</td>\n",
       "      <td>tiene</td>\n",
       "      <td>anis</td>\n",
       "      <td>libre</td>\n",
       "      <td>cercanas</td>\n",
       "      <td>ancho</td>\n",
       "      <td>marron</td>\n",
       "      <td>...</td>\n",
       "      <td>lisa</td>\n",
       "      <td>lisa</td>\n",
       "      <td>blanco</td>\n",
       "      <td>blanco</td>\n",
       "      <td>blanco</td>\n",
       "      <td>uno</td>\n",
       "      <td>colgante</td>\n",
       "      <td>marron</td>\n",
       "      <td>numerosos</td>\n",
       "      <td>prados</td>\n",
       "    </tr>\n",
       "    <tr>\n",
       "      <th>3</th>\n",
       "      <td>venenoso</td>\n",
       "      <td>convexa</td>\n",
       "      <td>escamoso</td>\n",
       "      <td>blanco</td>\n",
       "      <td>tiene</td>\n",
       "      <td>acre</td>\n",
       "      <td>libre</td>\n",
       "      <td>cercanas</td>\n",
       "      <td>estrecho</td>\n",
       "      <td>marron</td>\n",
       "      <td>...</td>\n",
       "      <td>lisa</td>\n",
       "      <td>lisa</td>\n",
       "      <td>blanco</td>\n",
       "      <td>blanco</td>\n",
       "      <td>blanco</td>\n",
       "      <td>uno</td>\n",
       "      <td>colgante</td>\n",
       "      <td>negro</td>\n",
       "      <td>dispersos</td>\n",
       "      <td>zona_urbana</td>\n",
       "    </tr>\n",
       "    <tr>\n",
       "      <th>4</th>\n",
       "      <td>comestible</td>\n",
       "      <td>convexa</td>\n",
       "      <td>liso</td>\n",
       "      <td>gris</td>\n",
       "      <td>no_tiene</td>\n",
       "      <td>ninguno</td>\n",
       "      <td>libre</td>\n",
       "      <td>apretadas</td>\n",
       "      <td>ancho</td>\n",
       "      <td>negro</td>\n",
       "      <td>...</td>\n",
       "      <td>lisa</td>\n",
       "      <td>lisa</td>\n",
       "      <td>blanco</td>\n",
       "      <td>blanco</td>\n",
       "      <td>blanco</td>\n",
       "      <td>uno</td>\n",
       "      <td>evanescente</td>\n",
       "      <td>marron</td>\n",
       "      <td>abundantes</td>\n",
       "      <td>pastos</td>\n",
       "    </tr>\n",
       "    <tr>\n",
       "      <th>...</th>\n",
       "      <td>...</td>\n",
       "      <td>...</td>\n",
       "      <td>...</td>\n",
       "      <td>...</td>\n",
       "      <td>...</td>\n",
       "      <td>...</td>\n",
       "      <td>...</td>\n",
       "      <td>...</td>\n",
       "      <td>...</td>\n",
       "      <td>...</td>\n",
       "      <td>...</td>\n",
       "      <td>...</td>\n",
       "      <td>...</td>\n",
       "      <td>...</td>\n",
       "      <td>...</td>\n",
       "      <td>...</td>\n",
       "      <td>...</td>\n",
       "      <td>...</td>\n",
       "      <td>...</td>\n",
       "      <td>...</td>\n",
       "      <td>...</td>\n",
       "    </tr>\n",
       "    <tr>\n",
       "      <th>8119</th>\n",
       "      <td>comestible</td>\n",
       "      <td>mamelonado</td>\n",
       "      <td>liso</td>\n",
       "      <td>marron</td>\n",
       "      <td>no_tiene</td>\n",
       "      <td>ninguno</td>\n",
       "      <td>adherida</td>\n",
       "      <td>cercanas</td>\n",
       "      <td>ancho</td>\n",
       "      <td>amarillo</td>\n",
       "      <td>...</td>\n",
       "      <td>lisa</td>\n",
       "      <td>lisa</td>\n",
       "      <td>naranja</td>\n",
       "      <td>naranja</td>\n",
       "      <td>naranja</td>\n",
       "      <td>uno</td>\n",
       "      <td>colgante</td>\n",
       "      <td>ante</td>\n",
       "      <td>agrupados</td>\n",
       "      <td>hojas</td>\n",
       "    </tr>\n",
       "    <tr>\n",
       "      <th>8120</th>\n",
       "      <td>comestible</td>\n",
       "      <td>convexa</td>\n",
       "      <td>liso</td>\n",
       "      <td>marron</td>\n",
       "      <td>no_tiene</td>\n",
       "      <td>ninguno</td>\n",
       "      <td>adherida</td>\n",
       "      <td>cercanas</td>\n",
       "      <td>ancho</td>\n",
       "      <td>amarillo</td>\n",
       "      <td>...</td>\n",
       "      <td>lisa</td>\n",
       "      <td>lisa</td>\n",
       "      <td>naranja</td>\n",
       "      <td>naranja</td>\n",
       "      <td>marron</td>\n",
       "      <td>uno</td>\n",
       "      <td>colgante</td>\n",
       "      <td>ante</td>\n",
       "      <td>varios</td>\n",
       "      <td>hojas</td>\n",
       "    </tr>\n",
       "    <tr>\n",
       "      <th>8121</th>\n",
       "      <td>comestible</td>\n",
       "      <td>plana</td>\n",
       "      <td>liso</td>\n",
       "      <td>marron</td>\n",
       "      <td>no_tiene</td>\n",
       "      <td>ninguno</td>\n",
       "      <td>adherida</td>\n",
       "      <td>cercanas</td>\n",
       "      <td>ancho</td>\n",
       "      <td>marron</td>\n",
       "      <td>...</td>\n",
       "      <td>lisa</td>\n",
       "      <td>lisa</td>\n",
       "      <td>naranja</td>\n",
       "      <td>naranja</td>\n",
       "      <td>naranja</td>\n",
       "      <td>uno</td>\n",
       "      <td>colgante</td>\n",
       "      <td>ante</td>\n",
       "      <td>agrupados</td>\n",
       "      <td>hojas</td>\n",
       "    </tr>\n",
       "    <tr>\n",
       "      <th>8122</th>\n",
       "      <td>venenoso</td>\n",
       "      <td>mamelonado</td>\n",
       "      <td>escamoso</td>\n",
       "      <td>marron</td>\n",
       "      <td>no_tiene</td>\n",
       "      <td>pescado</td>\n",
       "      <td>libre</td>\n",
       "      <td>cercanas</td>\n",
       "      <td>estrecho</td>\n",
       "      <td>ante</td>\n",
       "      <td>...</td>\n",
       "      <td>lisa</td>\n",
       "      <td>sedosa</td>\n",
       "      <td>blanco</td>\n",
       "      <td>blanco</td>\n",
       "      <td>blanco</td>\n",
       "      <td>uno</td>\n",
       "      <td>evanescente</td>\n",
       "      <td>blanco</td>\n",
       "      <td>varios</td>\n",
       "      <td>hojas</td>\n",
       "    </tr>\n",
       "    <tr>\n",
       "      <th>8123</th>\n",
       "      <td>comestible</td>\n",
       "      <td>convexa</td>\n",
       "      <td>liso</td>\n",
       "      <td>marron</td>\n",
       "      <td>no_tiene</td>\n",
       "      <td>ninguno</td>\n",
       "      <td>adherida</td>\n",
       "      <td>cercanas</td>\n",
       "      <td>ancho</td>\n",
       "      <td>amarillo</td>\n",
       "      <td>...</td>\n",
       "      <td>lisa</td>\n",
       "      <td>lisa</td>\n",
       "      <td>naranja</td>\n",
       "      <td>naranja</td>\n",
       "      <td>naranja</td>\n",
       "      <td>uno</td>\n",
       "      <td>colgante</td>\n",
       "      <td>naranja</td>\n",
       "      <td>agrupados</td>\n",
       "      <td>hojas</td>\n",
       "    </tr>\n",
       "  </tbody>\n",
       "</table>\n",
       "<p>8124 rows × 22 columns</p>\n",
       "</div>"
      ],
      "text/plain": [
       "           Clase Forma_Sombrero Superficie_Sombrero Color_Sombrero  \\\n",
       "0       venenoso        convexa                liso         marron   \n",
       "1     comestible        convexa                liso       amarillo   \n",
       "2     comestible        campana                liso         blanco   \n",
       "3       venenoso        convexa            escamoso         blanco   \n",
       "4     comestible        convexa                liso           gris   \n",
       "...          ...            ...                 ...            ...   \n",
       "8119  comestible     mamelonado                liso         marron   \n",
       "8120  comestible        convexa                liso         marron   \n",
       "8121  comestible          plana                liso         marron   \n",
       "8122    venenoso     mamelonado            escamoso         marron   \n",
       "8123  comestible        convexa                liso         marron   \n",
       "\n",
       "     Magulladura      Olor Forma_Laminas Espaciamiento_Laminas  \\\n",
       "0          tiene      acre         libre              cercanas   \n",
       "1          tiene  almendra         libre              cercanas   \n",
       "2          tiene      anis         libre              cercanas   \n",
       "3          tiene      acre         libre              cercanas   \n",
       "4       no_tiene   ninguno         libre             apretadas   \n",
       "...          ...       ...           ...                   ...   \n",
       "8119    no_tiene   ninguno      adherida              cercanas   \n",
       "8120    no_tiene   ninguno      adherida              cercanas   \n",
       "8121    no_tiene   ninguno      adherida              cercanas   \n",
       "8122    no_tiene   pescado         libre              cercanas   \n",
       "8123    no_tiene   ninguno      adherida              cercanas   \n",
       "\n",
       "     Dimension_Laminas Color_Laminas  ... Superficie_tallo_sobre_anillo  \\\n",
       "0             estrecho         negro  ...                          lisa   \n",
       "1                ancho         negro  ...                          lisa   \n",
       "2                ancho        marron  ...                          lisa   \n",
       "3             estrecho        marron  ...                          lisa   \n",
       "4                ancho         negro  ...                          lisa   \n",
       "...                ...           ...  ...                           ...   \n",
       "8119             ancho      amarillo  ...                          lisa   \n",
       "8120             ancho      amarillo  ...                          lisa   \n",
       "8121             ancho        marron  ...                          lisa   \n",
       "8122          estrecho          ante  ...                          lisa   \n",
       "8123             ancho      amarillo  ...                          lisa   \n",
       "\n",
       "     Superficie_tallo_bajo_anillo Color_tallo_sobre_anillo  \\\n",
       "0                            lisa                   blanco   \n",
       "1                            lisa                   blanco   \n",
       "2                            lisa                   blanco   \n",
       "3                            lisa                   blanco   \n",
       "4                            lisa                   blanco   \n",
       "...                           ...                      ...   \n",
       "8119                         lisa                  naranja   \n",
       "8120                         lisa                  naranja   \n",
       "8121                         lisa                  naranja   \n",
       "8122                       sedosa                   blanco   \n",
       "8123                         lisa                  naranja   \n",
       "\n",
       "     Color_tallo_bajo_anillo Color_Velo Num_anillos  Tipo_anillo Color_Espora  \\\n",
       "0                     blanco     blanco         uno     colgante        negro   \n",
       "1                     blanco     blanco         uno     colgante       marron   \n",
       "2                     blanco     blanco         uno     colgante       marron   \n",
       "3                     blanco     blanco         uno     colgante        negro   \n",
       "4                     blanco     blanco         uno  evanescente       marron   \n",
       "...                      ...        ...         ...          ...          ...   \n",
       "8119                 naranja    naranja         uno     colgante         ante   \n",
       "8120                 naranja     marron         uno     colgante         ante   \n",
       "8121                 naranja    naranja         uno     colgante         ante   \n",
       "8122                  blanco     blanco         uno  evanescente       blanco   \n",
       "8123                 naranja    naranja         uno     colgante      naranja   \n",
       "\n",
       "       Poblacion      Habitat  \n",
       "0      dispersos  zona_urbana  \n",
       "1      numerosos       pastos  \n",
       "2      numerosos       prados  \n",
       "3      dispersos  zona_urbana  \n",
       "4     abundantes       pastos  \n",
       "...          ...          ...  \n",
       "8119   agrupados        hojas  \n",
       "8120      varios        hojas  \n",
       "8121   agrupados        hojas  \n",
       "8122      varios        hojas  \n",
       "8123   agrupados        hojas  \n",
       "\n",
       "[8124 rows x 22 columns]"
      ]
     },
     "execution_count": 18,
     "metadata": {},
     "output_type": "execute_result"
    }
   ],
   "source": [
    "hongos"
   ]
  },
  {
   "cell_type": "markdown",
   "metadata": {},
   "source": [
    "* Guardar otros archivos con agrupaciones"
   ]
  },
  {
   "cell_type": "code",
   "execution_count": 19,
   "metadata": {},
   "outputs": [
    {
     "data": {
      "text/plain": [
       "array(['venenoso', 'comestible'], dtype=object)"
      ]
     },
     "execution_count": 19,
     "metadata": {},
     "output_type": "execute_result"
    }
   ],
   "source": [
    "hongos.Clase.unique()"
   ]
  },
  {
   "cell_type": "code",
   "execution_count": 20,
   "metadata": {},
   "outputs": [],
   "source": [
    "venenoso=hongos[hongos['Clase']=='venenoso']\n",
    "venenoso.to_csv('Venenoso.csv', index=False)"
   ]
  },
  {
   "cell_type": "code",
   "execution_count": 21,
   "metadata": {},
   "outputs": [],
   "source": [
    "comestible=hongos[hongos['Clase']=='comestible']\n",
    "comestible.to_csv('Comestible.csv', index=False)"
   ]
  },
  {
   "cell_type": "markdown",
   "metadata": {},
   "source": [
    "#### PREGUNTAS DE INTERES:\n",
    "\n",
    "- ¿Para que me puede servir estas agrupaciones para la práctica siguiente?\n",
    "\n",
    "Hacer estas agrupaciones nos ayudará a interpretar de una manera más comprensible cuales son las caracteristicas que prevalencen en los hongos venenosos y comestibles respectivamente, ademas podríamos determinar si existen valores únicos en estas agrupaciones.\n",
    "\n",
    "- Importancia del análisis previo de los datos antes de iniciar modificaciones\n",
    "\n",
    "El análisis de nuestros datos antes de modificarla nos ayuda a determinar las características que muestra la base de datos, interpretar el tipo de variables que tenemos para reconocer de que forma trabajaremos con ella y saber si contamos con datos nulos o columnas que no nos proporcionen información para conocer si debemos eliminarlas o modificarlas."
   ]
  },
  {
   "cell_type": "markdown",
   "metadata": {},
   "source": [
    "### Tarea de preprocesamiento no mencionada\n",
    "* Deteccion de filas duplicadas"
   ]
  },
  {
   "cell_type": "code",
   "execution_count": 22,
   "metadata": {},
   "outputs": [
    {
     "data": {
      "text/plain": [
       "8124"
      ]
     },
     "execution_count": 22,
     "metadata": {},
     "output_type": "execute_result"
    }
   ],
   "source": [
    "len(hongos)"
   ]
  },
  {
   "cell_type": "code",
   "execution_count": 23,
   "metadata": {},
   "outputs": [
    {
     "data": {
      "text/plain": [
       "8124"
      ]
     },
     "execution_count": 23,
     "metadata": {},
     "output_type": "execute_result"
    }
   ],
   "source": [
    "hongos.drop_duplicates()\n",
    "len(hongos.drop_duplicates())"
   ]
  },
  {
   "cell_type": "markdown",
   "metadata": {},
   "source": [
    "Con el resultado de la prueba anterior podemos afirmar que no contamos con filas duplicadas, esto nos quiere decir que todos los hongos dentro de la base de datos son distintos en al menos una caracteristica, por lo que no será imposible darle una clasificación a un hongo en especifico."
   ]
  },
  {
   "cell_type": "markdown",
   "metadata": {},
   "source": [
    "### Tarea de investigación\n",
    "* Investigar los comandos df.dropna() y df.astype()\n",
    "\n",
    "DataFrame.dropna(axis=0, how='any', thresh=None, subset=None, inplace=False) \n",
    "\n",
    "Elimina valores faltantes o nulos. \n",
    "\n",
    "* axis: Determina si se eliminan las filas o columnas que contienen valores faltantes, 0 (default)-filas, 1-columnas. \n",
    "* how: Determina si la fila o columna se eliminan cuando tenemos al menos un NA o todos son NA, 'any'-si hay valores NA presentes o 'all'- si todos son NA se elimina la fila o columna.\n",
    "* thresh: Mantiene unicamente las filas con al menos un número determinado de valores no nulos.\n",
    "* subset: Define en cual columna se revisarán los valores faltantes.\n",
    "* inplace: Mantiene el DataFrame con entradas validas en la misma variable.\n",
    "\n",
    "Link: https://pandas.pydata.org/pandas-docs/stable/reference/api/pandas.DataFrame.dropna.html\n",
    "\n",
    "DataFrame.astype(dtype, copy=True, errors='raise')\n",
    "\n",
    "Combierte un objeto pandas a un especifico tipo de dato (dtype)\n",
    "\n",
    "* dtype: Utiliza un numpy.dtype o un Python type para transformar todo el objeto pandas a un mismo tipo de dato. Alternativamente, se utiliza {col: dtype, …}, donde col es una etiqueta y dtype es un numpy.dtype o un Python type para transformar una o varias columnas del DataFrame a columnas con un determinado tipo de dato.\n",
    "* copy: Regresa una copia cuando copy = True.\n",
    "* errors: Controla la aparición de excepciones sobre datos no válidos para el tipo de datos proporcionado, raise: permite que se generen excepciones, y ignore: suprime las excepciones.\n",
    "\n",
    "Link: https://pandas.pydata.org/pandas-docs/stable/reference/api/pandas.DataFrame.astype.html"
   ]
  },
  {
   "cell_type": "markdown",
   "metadata": {},
   "source": [
    "### 2. Estadística Básica de los datos"
   ]
  },
  {
   "cell_type": "markdown",
   "metadata": {},
   "source": [
    "Debido a que nuestros datos son categoricos, decidimos utilizar una tabla de frecuencias para la parte de la estadística básica y la visualización gráficas."
   ]
  },
  {
   "cell_type": "code",
   "execution_count": 24,
   "metadata": {},
   "outputs": [
    {
     "data": {
      "text/html": [
       "<div>\n",
       "<style scoped>\n",
       "    .dataframe tbody tr th:only-of-type {\n",
       "        vertical-align: middle;\n",
       "    }\n",
       "\n",
       "    .dataframe tbody tr th {\n",
       "        vertical-align: top;\n",
       "    }\n",
       "\n",
       "    .dataframe thead th {\n",
       "        text-align: right;\n",
       "    }\n",
       "</style>\n",
       "<table border=\"1\" class=\"dataframe\">\n",
       "  <thead>\n",
       "    <tr style=\"text-align: right;\">\n",
       "      <th>Color_Sombrero</th>\n",
       "      <th>amarillo</th>\n",
       "      <th>ante</th>\n",
       "      <th>blanco</th>\n",
       "      <th>canela</th>\n",
       "      <th>gris</th>\n",
       "      <th>marron</th>\n",
       "      <th>rojo</th>\n",
       "      <th>rosa</th>\n",
       "      <th>verde</th>\n",
       "      <th>violeta</th>\n",
       "    </tr>\n",
       "    <tr>\n",
       "      <th>Forma_Sombrero</th>\n",
       "      <th></th>\n",
       "      <th></th>\n",
       "      <th></th>\n",
       "      <th></th>\n",
       "      <th></th>\n",
       "      <th></th>\n",
       "      <th></th>\n",
       "      <th></th>\n",
       "      <th></th>\n",
       "      <th></th>\n",
       "    </tr>\n",
       "  </thead>\n",
       "  <tbody>\n",
       "    <tr>\n",
       "      <th>campana</th>\n",
       "      <td>134</td>\n",
       "      <td>12</td>\n",
       "      <td>190</td>\n",
       "      <td>0</td>\n",
       "      <td>48</td>\n",
       "      <td>56</td>\n",
       "      <td>0</td>\n",
       "      <td>12</td>\n",
       "      <td>0</td>\n",
       "      <td>0</td>\n",
       "    </tr>\n",
       "    <tr>\n",
       "      <th>conica</th>\n",
       "      <td>2</td>\n",
       "      <td>0</td>\n",
       "      <td>2</td>\n",
       "      <td>0</td>\n",
       "      <td>0</td>\n",
       "      <td>0</td>\n",
       "      <td>0</td>\n",
       "      <td>0</td>\n",
       "      <td>0</td>\n",
       "      <td>0</td>\n",
       "    </tr>\n",
       "    <tr>\n",
       "      <th>convexa</th>\n",
       "      <td>528</td>\n",
       "      <td>64</td>\n",
       "      <td>512</td>\n",
       "      <td>16</td>\n",
       "      <td>920</td>\n",
       "      <td>920</td>\n",
       "      <td>596</td>\n",
       "      <td>84</td>\n",
       "      <td>8</td>\n",
       "      <td>8</td>\n",
       "    </tr>\n",
       "    <tr>\n",
       "      <th>hundido</th>\n",
       "      <td>0</td>\n",
       "      <td>0</td>\n",
       "      <td>0</td>\n",
       "      <td>0</td>\n",
       "      <td>16</td>\n",
       "      <td>16</td>\n",
       "      <td>0</td>\n",
       "      <td>0</td>\n",
       "      <td>0</td>\n",
       "      <td>0</td>\n",
       "    </tr>\n",
       "    <tr>\n",
       "      <th>mamelonado</th>\n",
       "      <td>6</td>\n",
       "      <td>16</td>\n",
       "      <td>50</td>\n",
       "      <td>12</td>\n",
       "      <td>48</td>\n",
       "      <td>372</td>\n",
       "      <td>308</td>\n",
       "      <td>16</td>\n",
       "      <td>0</td>\n",
       "      <td>0</td>\n",
       "    </tr>\n",
       "    <tr>\n",
       "      <th>plana</th>\n",
       "      <td>402</td>\n",
       "      <td>76</td>\n",
       "      <td>286</td>\n",
       "      <td>16</td>\n",
       "      <td>808</td>\n",
       "      <td>920</td>\n",
       "      <td>596</td>\n",
       "      <td>32</td>\n",
       "      <td>8</td>\n",
       "      <td>8</td>\n",
       "    </tr>\n",
       "  </tbody>\n",
       "</table>\n",
       "</div>"
      ],
      "text/plain": [
       "Color_Sombrero  amarillo  ante  blanco  canela  gris  marron  rojo  rosa  \\\n",
       "Forma_Sombrero                                                             \n",
       "campana              134    12     190       0    48      56     0    12   \n",
       "conica                 2     0       2       0     0       0     0     0   \n",
       "convexa              528    64     512      16   920     920   596    84   \n",
       "hundido                0     0       0       0    16      16     0     0   \n",
       "mamelonado             6    16      50      12    48     372   308    16   \n",
       "plana                402    76     286      16   808     920   596    32   \n",
       "\n",
       "Color_Sombrero  verde  violeta  \n",
       "Forma_Sombrero                  \n",
       "campana             0        0  \n",
       "conica              0        0  \n",
       "convexa             8        8  \n",
       "hundido             0        0  \n",
       "mamelonado          0        0  \n",
       "plana               8        8  "
      ]
     },
     "execution_count": 24,
     "metadata": {},
     "output_type": "execute_result"
    }
   ],
   "source": [
    "EstB = pd.crosstab(index=hongos['Forma_Sombrero'], columns = hongos['Color_Sombrero'])\n",
    "EstB"
   ]
  },
  {
   "cell_type": "code",
   "execution_count": 25,
   "metadata": {},
   "outputs": [
    {
     "data": {
      "text/plain": [
       "1072"
      ]
     },
     "execution_count": 25,
     "metadata": {},
     "output_type": "execute_result"
    }
   ],
   "source": [
    "EstB[\"amarillo\"].sum()"
   ]
  },
  {
   "cell_type": "code",
   "execution_count": 26,
   "metadata": {},
   "outputs": [
    {
     "data": {
      "text/plain": [
       "28.0"
      ]
     },
     "execution_count": 26,
     "metadata": {},
     "output_type": "execute_result"
    }
   ],
   "source": [
    "EstB[\"ante\"].mean()"
   ]
  },
  {
   "cell_type": "code",
   "execution_count": 27,
   "metadata": {},
   "outputs": [
    {
     "data": {
      "text/plain": [
       "Forma_Sombrero\n",
       "campana        190\n",
       "conica         192\n",
       "convexa        704\n",
       "hundido        704\n",
       "mamelonado     754\n",
       "plana         1040\n",
       "Name: blanco, dtype: int64"
      ]
     },
     "execution_count": 27,
     "metadata": {},
     "output_type": "execute_result"
    }
   ],
   "source": [
    "EstB[\"blanco\"].cumsum()"
   ]
  },
  {
   "cell_type": "code",
   "execution_count": 28,
   "metadata": {},
   "outputs": [
    {
     "data": {
      "text/plain": [
       "count     6.000000\n",
       "mean      7.333333\n",
       "std       8.164966\n",
       "min       0.000000\n",
       "25%       0.000000\n",
       "50%       6.000000\n",
       "75%      15.000000\n",
       "max      16.000000\n",
       "Name: canela, dtype: float64"
      ]
     },
     "execution_count": 28,
     "metadata": {},
     "output_type": "execute_result"
    }
   ],
   "source": [
    "EstB[\"canela\"].describe()"
   ]
  },
  {
   "cell_type": "code",
   "execution_count": 29,
   "metadata": {},
   "outputs": [
    {
     "data": {
      "text/plain": [
       "6"
      ]
     },
     "execution_count": 29,
     "metadata": {},
     "output_type": "execute_result"
    }
   ],
   "source": [
    "EstB[\"gris\"].count()"
   ]
  },
  {
   "cell_type": "code",
   "execution_count": 30,
   "metadata": {},
   "outputs": [
    {
     "data": {
      "text/plain": [
       "0"
      ]
     },
     "execution_count": 30,
     "metadata": {},
     "output_type": "execute_result"
    }
   ],
   "source": [
    "EstB[\"marron\"].min()"
   ]
  },
  {
   "cell_type": "code",
   "execution_count": 31,
   "metadata": {},
   "outputs": [
    {
     "data": {
      "text/plain": [
       "920"
      ]
     },
     "execution_count": 31,
     "metadata": {},
     "output_type": "execute_result"
    }
   ],
   "source": [
    "EstB[\"marron\"].max()"
   ]
  },
  {
   "cell_type": "code",
   "execution_count": 32,
   "metadata": {},
   "outputs": [
    {
     "data": {
      "text/plain": [
       "154.0"
      ]
     },
     "execution_count": 32,
     "metadata": {},
     "output_type": "execute_result"
    }
   ],
   "source": [
    "EstB[\"rojo\"].median()"
   ]
  },
  {
   "cell_type": "code",
   "execution_count": 33,
   "metadata": {},
   "outputs": [
    {
     "data": {
      "text/plain": [
       "86059.2"
      ]
     },
     "execution_count": 33,
     "metadata": {},
     "output_type": "execute_result"
    }
   ],
   "source": [
    "EstB[\"rojo\"].var()"
   ]
  },
  {
   "cell_type": "code",
   "execution_count": 34,
   "metadata": {},
   "outputs": [
    {
     "data": {
      "text/plain": [
       "293.358483770284"
      ]
     },
     "execution_count": 34,
     "metadata": {},
     "output_type": "execute_result"
    }
   ],
   "source": [
    "EstB[\"rojo\"].std()"
   ]
  },
  {
   "cell_type": "code",
   "execution_count": 35,
   "metadata": {},
   "outputs": [
    {
     "data": {
      "text/plain": [
       "1.7577993873065691"
      ]
     },
     "execution_count": 35,
     "metadata": {},
     "output_type": "execute_result"
    }
   ],
   "source": [
    "EstB[\"rosa\"].skew()"
   ]
  },
  {
   "cell_type": "code",
   "execution_count": 36,
   "metadata": {},
   "outputs": [
    {
     "data": {
      "text/plain": [
       "-1.8749999999999991"
      ]
     },
     "execution_count": 36,
     "metadata": {},
     "output_type": "execute_result"
    }
   ],
   "source": [
    "EstB[\"verde\"].kurt()"
   ]
  },
  {
   "cell_type": "code",
   "execution_count": 37,
   "metadata": {},
   "outputs": [
    {
     "data": {
      "text/html": [
       "<div>\n",
       "<style scoped>\n",
       "    .dataframe tbody tr th:only-of-type {\n",
       "        vertical-align: middle;\n",
       "    }\n",
       "\n",
       "    .dataframe tbody tr th {\n",
       "        vertical-align: top;\n",
       "    }\n",
       "\n",
       "    .dataframe thead th {\n",
       "        text-align: right;\n",
       "    }\n",
       "</style>\n",
       "<table border=\"1\" class=\"dataframe\">\n",
       "  <thead>\n",
       "    <tr style=\"text-align: right;\">\n",
       "      <th>Color_Sombrero</th>\n",
       "      <th>amarillo</th>\n",
       "      <th>ante</th>\n",
       "      <th>blanco</th>\n",
       "      <th>canela</th>\n",
       "      <th>gris</th>\n",
       "      <th>marron</th>\n",
       "      <th>rojo</th>\n",
       "      <th>rosa</th>\n",
       "      <th>verde</th>\n",
       "      <th>violeta</th>\n",
       "    </tr>\n",
       "    <tr>\n",
       "      <th>Color_Sombrero</th>\n",
       "      <th></th>\n",
       "      <th></th>\n",
       "      <th></th>\n",
       "      <th></th>\n",
       "      <th></th>\n",
       "      <th></th>\n",
       "      <th></th>\n",
       "      <th></th>\n",
       "      <th></th>\n",
       "      <th></th>\n",
       "    </tr>\n",
       "  </thead>\n",
       "  <tbody>\n",
       "    <tr>\n",
       "      <th>amarillo</th>\n",
       "      <td>1.000000</td>\n",
       "      <td>0.934765</td>\n",
       "      <td>0.969553</td>\n",
       "      <td>0.751816</td>\n",
       "      <td>0.975529</td>\n",
       "      <td>0.901020</td>\n",
       "      <td>0.850287</td>\n",
       "      <td>0.906509</td>\n",
       "      <td>0.960055</td>\n",
       "      <td>0.960055</td>\n",
       "    </tr>\n",
       "    <tr>\n",
       "      <th>ante</th>\n",
       "      <td>0.934765</td>\n",
       "      <td>1.000000</td>\n",
       "      <td>0.848150</td>\n",
       "      <td>0.880830</td>\n",
       "      <td>0.969194</td>\n",
       "      <td>0.974973</td>\n",
       "      <td>0.947295</td>\n",
       "      <td>0.789562</td>\n",
       "      <td>0.974901</td>\n",
       "      <td>0.974901</td>\n",
       "    </tr>\n",
       "    <tr>\n",
       "      <th>blanco</th>\n",
       "      <td>0.969553</td>\n",
       "      <td>0.848150</td>\n",
       "      <td>1.000000</td>\n",
       "      <td>0.699197</td>\n",
       "      <td>0.905269</td>\n",
       "      <td>0.831760</td>\n",
       "      <td>0.783014</td>\n",
       "      <td>0.949855</td>\n",
       "      <td>0.869069</td>\n",
       "      <td>0.869069</td>\n",
       "    </tr>\n",
       "    <tr>\n",
       "      <th>canela</th>\n",
       "      <td>0.751816</td>\n",
       "      <td>0.880830</td>\n",
       "      <td>0.699197</td>\n",
       "      <td>1.000000</td>\n",
       "      <td>0.832245</td>\n",
       "      <td>0.956421</td>\n",
       "      <td>0.982606</td>\n",
       "      <td>0.766562</td>\n",
       "      <td>0.822192</td>\n",
       "      <td>0.822192</td>\n",
       "    </tr>\n",
       "    <tr>\n",
       "      <th>gris</th>\n",
       "      <td>0.975529</td>\n",
       "      <td>0.969194</td>\n",
       "      <td>0.905269</td>\n",
       "      <td>0.832245</td>\n",
       "      <td>1.000000</td>\n",
       "      <td>0.955607</td>\n",
       "      <td>0.919384</td>\n",
       "      <td>0.877818</td>\n",
       "      <td>0.995735</td>\n",
       "      <td>0.995735</td>\n",
       "    </tr>\n",
       "    <tr>\n",
       "      <th>marron</th>\n",
       "      <td>0.901020</td>\n",
       "      <td>0.974973</td>\n",
       "      <td>0.831760</td>\n",
       "      <td>0.956421</td>\n",
       "      <td>0.955607</td>\n",
       "      <td>1.000000</td>\n",
       "      <td>0.993457</td>\n",
       "      <td>0.840515</td>\n",
       "      <td>0.950877</td>\n",
       "      <td>0.950877</td>\n",
       "    </tr>\n",
       "    <tr>\n",
       "      <th>rojo</th>\n",
       "      <td>0.850287</td>\n",
       "      <td>0.947295</td>\n",
       "      <td>0.783014</td>\n",
       "      <td>0.982606</td>\n",
       "      <td>0.919384</td>\n",
       "      <td>0.993457</td>\n",
       "      <td>1.000000</td>\n",
       "      <td>0.818664</td>\n",
       "      <td>0.913594</td>\n",
       "      <td>0.913594</td>\n",
       "    </tr>\n",
       "    <tr>\n",
       "      <th>rosa</th>\n",
       "      <td>0.906509</td>\n",
       "      <td>0.789562</td>\n",
       "      <td>0.949855</td>\n",
       "      <td>0.766562</td>\n",
       "      <td>0.877818</td>\n",
       "      <td>0.840515</td>\n",
       "      <td>0.818664</td>\n",
       "      <td>1.000000</td>\n",
       "      <td>0.830835</td>\n",
       "      <td>0.830835</td>\n",
       "    </tr>\n",
       "    <tr>\n",
       "      <th>verde</th>\n",
       "      <td>0.960055</td>\n",
       "      <td>0.974901</td>\n",
       "      <td>0.869069</td>\n",
       "      <td>0.822192</td>\n",
       "      <td>0.995735</td>\n",
       "      <td>0.950877</td>\n",
       "      <td>0.913594</td>\n",
       "      <td>0.830835</td>\n",
       "      <td>1.000000</td>\n",
       "      <td>1.000000</td>\n",
       "    </tr>\n",
       "    <tr>\n",
       "      <th>violeta</th>\n",
       "      <td>0.960055</td>\n",
       "      <td>0.974901</td>\n",
       "      <td>0.869069</td>\n",
       "      <td>0.822192</td>\n",
       "      <td>0.995735</td>\n",
       "      <td>0.950877</td>\n",
       "      <td>0.913594</td>\n",
       "      <td>0.830835</td>\n",
       "      <td>1.000000</td>\n",
       "      <td>1.000000</td>\n",
       "    </tr>\n",
       "  </tbody>\n",
       "</table>\n",
       "</div>"
      ],
      "text/plain": [
       "Color_Sombrero  amarillo      ante    blanco    canela      gris    marron  \\\n",
       "Color_Sombrero                                                               \n",
       "amarillo        1.000000  0.934765  0.969553  0.751816  0.975529  0.901020   \n",
       "ante            0.934765  1.000000  0.848150  0.880830  0.969194  0.974973   \n",
       "blanco          0.969553  0.848150  1.000000  0.699197  0.905269  0.831760   \n",
       "canela          0.751816  0.880830  0.699197  1.000000  0.832245  0.956421   \n",
       "gris            0.975529  0.969194  0.905269  0.832245  1.000000  0.955607   \n",
       "marron          0.901020  0.974973  0.831760  0.956421  0.955607  1.000000   \n",
       "rojo            0.850287  0.947295  0.783014  0.982606  0.919384  0.993457   \n",
       "rosa            0.906509  0.789562  0.949855  0.766562  0.877818  0.840515   \n",
       "verde           0.960055  0.974901  0.869069  0.822192  0.995735  0.950877   \n",
       "violeta         0.960055  0.974901  0.869069  0.822192  0.995735  0.950877   \n",
       "\n",
       "Color_Sombrero      rojo      rosa     verde   violeta  \n",
       "Color_Sombrero                                          \n",
       "amarillo        0.850287  0.906509  0.960055  0.960055  \n",
       "ante            0.947295  0.789562  0.974901  0.974901  \n",
       "blanco          0.783014  0.949855  0.869069  0.869069  \n",
       "canela          0.982606  0.766562  0.822192  0.822192  \n",
       "gris            0.919384  0.877818  0.995735  0.995735  \n",
       "marron          0.993457  0.840515  0.950877  0.950877  \n",
       "rojo            1.000000  0.818664  0.913594  0.913594  \n",
       "rosa            0.818664  1.000000  0.830835  0.830835  \n",
       "verde           0.913594  0.830835  1.000000  1.000000  \n",
       "violeta         0.913594  0.830835  1.000000  1.000000  "
      ]
     },
     "execution_count": 37,
     "metadata": {},
     "output_type": "execute_result"
    }
   ],
   "source": [
    "EstB.corr()"
   ]
  },
  {
   "cell_type": "code",
   "execution_count": 38,
   "metadata": {},
   "outputs": [
    {
     "data": {
      "text/html": [
       "<div>\n",
       "<style scoped>\n",
       "    .dataframe tbody tr th:only-of-type {\n",
       "        vertical-align: middle;\n",
       "    }\n",
       "\n",
       "    .dataframe tbody tr th {\n",
       "        vertical-align: top;\n",
       "    }\n",
       "\n",
       "    .dataframe thead th {\n",
       "        text-align: right;\n",
       "    }\n",
       "</style>\n",
       "<table border=\"1\" class=\"dataframe\">\n",
       "  <thead>\n",
       "    <tr style=\"text-align: right;\">\n",
       "      <th>Color_Sombrero</th>\n",
       "      <th>amarillo</th>\n",
       "      <th>ante</th>\n",
       "      <th>blanco</th>\n",
       "      <th>canela</th>\n",
       "      <th>gris</th>\n",
       "      <th>marron</th>\n",
       "      <th>rojo</th>\n",
       "      <th>rosa</th>\n",
       "      <th>verde</th>\n",
       "      <th>violeta</th>\n",
       "    </tr>\n",
       "    <tr>\n",
       "      <th>Color_Sombrero</th>\n",
       "      <th></th>\n",
       "      <th></th>\n",
       "      <th></th>\n",
       "      <th></th>\n",
       "      <th></th>\n",
       "      <th></th>\n",
       "      <th></th>\n",
       "      <th></th>\n",
       "      <th></th>\n",
       "      <th></th>\n",
       "    </tr>\n",
       "  </thead>\n",
       "  <tbody>\n",
       "    <tr>\n",
       "      <th>amarillo</th>\n",
       "      <td>53370.666667</td>\n",
       "      <td>7206.4</td>\n",
       "      <td>45051.733333</td>\n",
       "      <td>1418.133333</td>\n",
       "      <td>97709.866667</td>\n",
       "      <td>91452.266667</td>\n",
       "      <td>57625.6</td>\n",
       "      <td>6638.4</td>\n",
       "      <td>916.266667</td>\n",
       "      <td>916.266667</td>\n",
       "    </tr>\n",
       "    <tr>\n",
       "      <th>ante</th>\n",
       "      <td>7206.400000</td>\n",
       "      <td>1113.6</td>\n",
       "      <td>5692.800000</td>\n",
       "      <td>240.000000</td>\n",
       "      <td>14022.400000</td>\n",
       "      <td>14294.400000</td>\n",
       "      <td>9273.6</td>\n",
       "      <td>835.2</td>\n",
       "      <td>134.400000</td>\n",
       "      <td>134.400000</td>\n",
       "    </tr>\n",
       "    <tr>\n",
       "      <th>blanco</th>\n",
       "      <td>45051.733333</td>\n",
       "      <td>5692.8</td>\n",
       "      <td>40455.466667</td>\n",
       "      <td>1148.266667</td>\n",
       "      <td>78942.933333</td>\n",
       "      <td>73501.333333</td>\n",
       "      <td>46201.6</td>\n",
       "      <td>6056.0</td>\n",
       "      <td>722.133333</td>\n",
       "      <td>722.133333</td>\n",
       "    </tr>\n",
       "    <tr>\n",
       "      <th>canela</th>\n",
       "      <td>1418.133333</td>\n",
       "      <td>240.0</td>\n",
       "      <td>1148.266667</td>\n",
       "      <td>66.666667</td>\n",
       "      <td>2946.133333</td>\n",
       "      <td>3430.933333</td>\n",
       "      <td>2353.6</td>\n",
       "      <td>198.4</td>\n",
       "      <td>27.733333</td>\n",
       "      <td>27.733333</td>\n",
       "    </tr>\n",
       "    <tr>\n",
       "      <th>gris</th>\n",
       "      <td>97709.866667</td>\n",
       "      <td>14022.4</td>\n",
       "      <td>78942.933333</td>\n",
       "      <td>2946.133333</td>\n",
       "      <td>187972.266667</td>\n",
       "      <td>182026.666667</td>\n",
       "      <td>116934.4</td>\n",
       "      <td>12064.0</td>\n",
       "      <td>1783.466667</td>\n",
       "      <td>1783.466667</td>\n",
       "    </tr>\n",
       "    <tr>\n",
       "      <th>marron</th>\n",
       "      <td>91452.266667</td>\n",
       "      <td>14294.4</td>\n",
       "      <td>73501.333333</td>\n",
       "      <td>3430.933333</td>\n",
       "      <td>182026.666667</td>\n",
       "      <td>193026.666667</td>\n",
       "      <td>128043.2</td>\n",
       "      <td>11705.6</td>\n",
       "      <td>1725.866667</td>\n",
       "      <td>1725.866667</td>\n",
       "    </tr>\n",
       "    <tr>\n",
       "      <th>rojo</th>\n",
       "      <td>57625.600000</td>\n",
       "      <td>9273.6</td>\n",
       "      <td>46201.600000</td>\n",
       "      <td>2353.600000</td>\n",
       "      <td>116934.400000</td>\n",
       "      <td>128043.200000</td>\n",
       "      <td>86059.2</td>\n",
       "      <td>7612.8</td>\n",
       "      <td>1107.200000</td>\n",
       "      <td>1107.200000</td>\n",
       "    </tr>\n",
       "    <tr>\n",
       "      <th>rosa</th>\n",
       "      <td>6638.400000</td>\n",
       "      <td>835.2</td>\n",
       "      <td>6056.000000</td>\n",
       "      <td>198.400000</td>\n",
       "      <td>12064.000000</td>\n",
       "      <td>11705.600000</td>\n",
       "      <td>7612.8</td>\n",
       "      <td>1004.8</td>\n",
       "      <td>108.800000</td>\n",
       "      <td>108.800000</td>\n",
       "    </tr>\n",
       "    <tr>\n",
       "      <th>verde</th>\n",
       "      <td>916.266667</td>\n",
       "      <td>134.4</td>\n",
       "      <td>722.133333</td>\n",
       "      <td>27.733333</td>\n",
       "      <td>1783.466667</td>\n",
       "      <td>1725.866667</td>\n",
       "      <td>1107.2</td>\n",
       "      <td>108.8</td>\n",
       "      <td>17.066667</td>\n",
       "      <td>17.066667</td>\n",
       "    </tr>\n",
       "    <tr>\n",
       "      <th>violeta</th>\n",
       "      <td>916.266667</td>\n",
       "      <td>134.4</td>\n",
       "      <td>722.133333</td>\n",
       "      <td>27.733333</td>\n",
       "      <td>1783.466667</td>\n",
       "      <td>1725.866667</td>\n",
       "      <td>1107.2</td>\n",
       "      <td>108.8</td>\n",
       "      <td>17.066667</td>\n",
       "      <td>17.066667</td>\n",
       "    </tr>\n",
       "  </tbody>\n",
       "</table>\n",
       "</div>"
      ],
      "text/plain": [
       "Color_Sombrero      amarillo     ante        blanco       canela  \\\n",
       "Color_Sombrero                                                     \n",
       "amarillo        53370.666667   7206.4  45051.733333  1418.133333   \n",
       "ante             7206.400000   1113.6   5692.800000   240.000000   \n",
       "blanco          45051.733333   5692.8  40455.466667  1148.266667   \n",
       "canela           1418.133333    240.0   1148.266667    66.666667   \n",
       "gris            97709.866667  14022.4  78942.933333  2946.133333   \n",
       "marron          91452.266667  14294.4  73501.333333  3430.933333   \n",
       "rojo            57625.600000   9273.6  46201.600000  2353.600000   \n",
       "rosa             6638.400000    835.2   6056.000000   198.400000   \n",
       "verde             916.266667    134.4    722.133333    27.733333   \n",
       "violeta           916.266667    134.4    722.133333    27.733333   \n",
       "\n",
       "Color_Sombrero           gris         marron      rojo     rosa        verde  \\\n",
       "Color_Sombrero                                                                 \n",
       "amarillo         97709.866667   91452.266667   57625.6   6638.4   916.266667   \n",
       "ante             14022.400000   14294.400000    9273.6    835.2   134.400000   \n",
       "blanco           78942.933333   73501.333333   46201.6   6056.0   722.133333   \n",
       "canela            2946.133333    3430.933333    2353.6    198.4    27.733333   \n",
       "gris            187972.266667  182026.666667  116934.4  12064.0  1783.466667   \n",
       "marron          182026.666667  193026.666667  128043.2  11705.6  1725.866667   \n",
       "rojo            116934.400000  128043.200000   86059.2   7612.8  1107.200000   \n",
       "rosa             12064.000000   11705.600000    7612.8   1004.8   108.800000   \n",
       "verde             1783.466667    1725.866667    1107.2    108.8    17.066667   \n",
       "violeta           1783.466667    1725.866667    1107.2    108.8    17.066667   \n",
       "\n",
       "Color_Sombrero      violeta  \n",
       "Color_Sombrero               \n",
       "amarillo         916.266667  \n",
       "ante             134.400000  \n",
       "blanco           722.133333  \n",
       "canela            27.733333  \n",
       "gris            1783.466667  \n",
       "marron          1725.866667  \n",
       "rojo            1107.200000  \n",
       "rosa             108.800000  \n",
       "verde             17.066667  \n",
       "violeta           17.066667  "
      ]
     },
     "execution_count": 38,
     "metadata": {},
     "output_type": "execute_result"
    }
   ],
   "source": [
    "EstB.cov()"
   ]
  },
  {
   "cell_type": "markdown",
   "metadata": {},
   "source": [
    "Los resultados mostrados no nos mostraron información valiosa para la resolución de nuestros objetivos."
   ]
  },
  {
   "cell_type": "markdown",
   "metadata": {},
   "source": [
    "### Gráfica de datos univariantes\n",
    "#### Gráfica de barra y datos categóricos"
   ]
  },
  {
   "cell_type": "code",
   "execution_count": 39,
   "metadata": {
    "scrolled": true
   },
   "outputs": [
    {
     "data": {
      "text/plain": [
       "<matplotlib.axes._subplots.AxesSubplot at 0x26c5ecf92b0>"
      ]
     },
     "execution_count": 39,
     "metadata": {},
     "output_type": "execute_result"
    },
    {
     "data": {
      "image/png": "[encoded data removed]",
      "text/plain": [
       "<Figure size 432x288 with 1 Axes>"
      ]
     },
     "metadata": {
      "needs_background": "light"
     },
     "output_type": "display_data"
    }
   ],
   "source": [
    "hongos['Poblacion'].value_counts().plot.bar()"
   ]
  },
  {
   "cell_type": "markdown",
   "metadata": {},
   "source": [
    "En esta gráfica representamos la frecuencia de la columna población, en donde podemos observar que en su mayoria se agrupan en varios hongos, seguido por los hongos solitarios y dispersos.  "
   ]
  },
  {
   "cell_type": "code",
   "execution_count": 45,
   "metadata": {
    "scrolled": true
   },
   "outputs": [
    {
     "data": {
      "text/plain": [
       "<matplotlib.axes._subplots.AxesSubplot at 0x26c5f1d14f0>"
      ]
     },
     "execution_count": 45,
     "metadata": {},
     "output_type": "execute_result"
    },
    {
     "data": {
      "image/png": "[encoded data removed]",
      "text/plain": [
       "<Figure size 432x288 with 1 Axes>"
      ]
     },
     "metadata": {
      "needs_background": "light"
     },
     "output_type": "display_data"
    }
   ],
   "source": [
    "hongos['Color_Laminas'].value_counts().head(4).plot.bar()"
   ]
  },
  {
   "cell_type": "markdown",
   "metadata": {},
   "source": [
    "En esta gráfica podemos ver que los 4 colores más comunes en las laminas de los hongos son ante, rosa, blanco y marrón."
   ]
  },
  {
   "cell_type": "code",
   "execution_count": 46,
   "metadata": {},
   "outputs": [
    {
     "data": {
      "text/plain": [
       "<matplotlib.axes._subplots.AxesSubplot at 0x26c601f0160>"
      ]
     },
     "execution_count": 46,
     "metadata": {},
     "output_type": "execute_result"
    },
    {
     "data": {
      "image/png": "[encoded data removed]",
      "text/plain": [
       "<Figure size 432x288 with 1 Axes>"
      ]
     },
     "metadata": {
      "needs_background": "light"
     },
     "output_type": "display_data"
    }
   ],
   "source": [
    "(hongos['Poblacion'].value_counts() / len(hongos)).plot.bar()"
   ]
  },
  {
   "cell_type": "markdown",
   "metadata": {},
   "source": [
    "Los hongos agrupados en varios representan el 50% de nuestra base de datos."
   ]
  },
  {
   "cell_type": "code",
   "execution_count": 47,
   "metadata": {},
   "outputs": [
    {
     "data": {
      "text/plain": [
       "<matplotlib.axes._subplots.AxesSubplot at 0x26c6020a9a0>"
      ]
     },
     "execution_count": 47,
     "metadata": {},
     "output_type": "execute_result"
    },
    {
     "data": {
      "image/png": "[encoded data removed]",
      "text/plain": [
       "<Figure size 432x288 with 1 Axes>"
      ]
     },
     "metadata": {
      "needs_background": "light"
     },
     "output_type": "display_data"
    }
   ],
   "source": [
    "hongos['Habitat'].value_counts().plot.bar()"
   ]
  },
  {
   "cell_type": "code",
   "execution_count": 48,
   "metadata": {},
   "outputs": [
    {
     "data": {
      "text/plain": [
       "<matplotlib.axes._subplots.AxesSubplot at 0x26c602b59d0>"
      ]
     },
     "execution_count": 48,
     "metadata": {},
     "output_type": "execute_result"
    },
    {
     "data": {
      "image/png": "[encoded data removed]",
      "text/plain": [
       "<Figure size 432x288 with 1 Axes>"
      ]
     },
     "metadata": {
      "needs_background": "light"
     },
     "output_type": "display_data"
    }
   ],
   "source": [
    "(hongos['Habitat'].value_counts() / len(hongos)).plot.bar()"
   ]
  },
  {
   "cell_type": "markdown",
   "metadata": {},
   "source": [
    "La mayoria de los hongos se encuentran en los bosques y la minoria en los residuos."
   ]
  },
  {
   "cell_type": "code",
   "execution_count": 49,
   "metadata": {},
   "outputs": [
    {
     "data": {
      "text/plain": [
       "<matplotlib.axes._subplots.AxesSubplot at 0x26c6031b070>"
      ]
     },
     "execution_count": 49,
     "metadata": {},
     "output_type": "execute_result"
    },
    {
     "data": {
      "image/png": "[encoded data removed]",
      "text/plain": [
       "<Figure size 432x288 with 1 Axes>"
      ]
     },
     "metadata": {
      "needs_background": "light"
     },
     "output_type": "display_data"
    }
   ],
   "source": [
    "hongos['Magulladura'].value_counts().sort_index().plot.bar()"
   ]
  },
  {
   "cell_type": "markdown",
   "metadata": {},
   "source": [
    "En esta gráfica podemos ver que existen más hongos que no tienen magulladura en comparación de los que si tienen magulladura."
   ]
  },
  {
   "cell_type": "code",
   "execution_count": 44,
   "metadata": {},
   "outputs": [
    {
     "data": {
      "text/plain": [
       "<matplotlib.axes._subplots.AxesSubplot at 0x26c5f16aa90>"
      ]
     },
     "execution_count": 44,
     "metadata": {},
     "output_type": "execute_result"
    },
    {
     "data": {
      "image/png": "[encoded data removed]",
      "text/plain": [
       "<Figure size 432x288 with 1 Axes>"
      ]
     },
     "metadata": {
      "needs_background": "light"
     },
     "output_type": "display_data"
    }
   ],
   "source": [
    "hongos[\"Olor\"].value_counts().sort_index().plot.line()"
   ]
  },
  {
   "cell_type": "code",
   "execution_count": 50,
   "metadata": {},
   "outputs": [
    {
     "data": {
      "text/plain": [
       "<matplotlib.axes._subplots.AxesSubplot at 0x26c60371b20>"
      ]
     },
     "execution_count": 50,
     "metadata": {},
     "output_type": "execute_result"
    },
    {
     "data": {
      "image/png": "[encoded data removed]",
      "text/plain": [
       "<Figure size 432x288 with 1 Axes>"
      ]
     },
     "metadata": {
      "needs_background": "light"
     },
     "output_type": "display_data"
    }
   ],
   "source": [
    "hongos[\"Olor\"].value_counts().sort_index().plot.area()"
   ]
  },
  {
   "cell_type": "markdown",
   "metadata": {},
   "source": [
    "En su mayoria nos encontraremos con hongos que no presentan un olor."
   ]
  },
  {
   "cell_type": "code",
   "execution_count": 51,
   "metadata": {},
   "outputs": [
    {
     "data": {
      "text/plain": [
       "<matplotlib.axes._subplots.AxesSubplot at 0x26c603d47f0>"
      ]
     },
     "execution_count": 51,
     "metadata": {},
     "output_type": "execute_result"
    },
    {
     "data": {
      "image/png": "[encoded data removed]",
      "text/plain": [
       "<Figure size 432x288 with 1 Axes>"
      ]
     },
     "metadata": {
      "needs_background": "light"
     },
     "output_type": "display_data"
    }
   ],
   "source": [
    "EstB['rojo'].plot.hist()"
   ]
  },
  {
   "cell_type": "markdown",
   "metadata": {},
   "source": [
    "Esta gráfico no representa información util para el proyecto."
   ]
  },
  {
   "cell_type": "markdown",
   "metadata": {},
   "source": [
    "### Gráfica de datos bi-variantes"
   ]
  },
  {
   "cell_type": "code",
   "execution_count": 52,
   "metadata": {},
   "outputs": [
    {
     "data": {
      "text/plain": [
       "<matplotlib.axes._subplots.AxesSubplot at 0x26c604448e0>"
      ]
     },
     "execution_count": 52,
     "metadata": {},
     "output_type": "execute_result"
    },
    {
     "data": {
      "image/png": "[encoded data removed]",
      "text/plain": [
       "<Figure size 432x288 with 1 Axes>"
      ]
     },
     "metadata": {
      "needs_background": "light"
     },
     "output_type": "display_data"
    }
   ],
   "source": [
    "hongos[hongos['Olor'] == \"ninguno\"].sample(1000).plot.scatter(x='Olor', y='Color_Sombrero')"
   ]
  },
  {
   "cell_type": "code",
   "execution_count": 53,
   "metadata": {},
   "outputs": [
    {
     "data": {
      "text/plain": [
       "<matplotlib.axes._subplots.AxesSubplot at 0x26c6049f4c0>"
      ]
     },
     "execution_count": 53,
     "metadata": {},
     "output_type": "execute_result"
    },
    {
     "data": {
      "image/png": "[encoded data removed]",
      "text/plain": [
       "<Figure size 432x288 with 1 Axes>"
      ]
     },
     "metadata": {
      "needs_background": "light"
     },
     "output_type": "display_data"
    }
   ],
   "source": [
    "EstB[EstB['marron'] > 0].plot.scatter(x='marron', y='gris')"
   ]
  },
  {
   "cell_type": "code",
   "execution_count": 54,
   "metadata": {
    "scrolled": true
   },
   "outputs": [
    {
     "data": {
      "text/plain": [
       "<matplotlib.axes._subplots.AxesSubplot at 0x26c604ed0a0>"
      ]
     },
     "execution_count": 54,
     "metadata": {},
     "output_type": "execute_result"
    },
    {
     "data": {
      "image/png": "[encoded data removed]",
      "text/plain": [
       "<Figure size 432x288 with 2 Axes>"
      ]
     },
     "metadata": {
      "needs_background": "light"
     },
     "output_type": "display_data"
    }
   ],
   "source": [
    "EstB[EstB['marron'] > 0].plot.hexbin(x='marron', y='gris', gridsize=15)"
   ]
  },
  {
   "cell_type": "code",
   "execution_count": 55,
   "metadata": {},
   "outputs": [
    {
     "data": {
      "text/plain": [
       "<matplotlib.axes._subplots.AxesSubplot at 0x26c605941c0>"
      ]
     },
     "execution_count": 55,
     "metadata": {},
     "output_type": "execute_result"
    },
    {
     "data": {
      "image/png": "[encoded data removed]",
      "text/plain": [
       "<Figure size 432x288 with 2 Axes>"
      ]
     },
     "metadata": {
      "needs_background": "light"
     },
     "output_type": "display_data"
    }
   ],
   "source": [
    "EstB[EstB['marron'] > 0].plot.hexbin(x='marron', y='gris', gridsize=5)"
   ]
  },
  {
   "cell_type": "markdown",
   "metadata": {},
   "source": [
    "Los gráficos anteriores no representaron información util para el proyecto."
   ]
  },
  {
   "cell_type": "code",
   "execution_count": 59,
   "metadata": {
    "scrolled": true
   },
   "outputs": [
    {
     "data": {
      "text/plain": [
       "<matplotlib.axes._subplots.AxesSubplot at 0x26c60615250>"
      ]
     },
     "execution_count": 59,
     "metadata": {},
     "output_type": "execute_result"
    },
    {
     "data": {
      "image/png": "[encoded data removed]",
      "text/plain": [
       "<Figure size 432x288 with 1 Axes>"
      ]
     },
     "metadata": {
      "needs_background": "light"
     },
     "output_type": "display_data"
    }
   ],
   "source": [
    "EstB.plot.area()"
   ]
  },
  {
   "cell_type": "code",
   "execution_count": 60,
   "metadata": {},
   "outputs": [
    {
     "data": {
      "text/plain": [
       "<matplotlib.axes._subplots.AxesSubplot at 0x26c60afe790>"
      ]
     },
     "execution_count": 60,
     "metadata": {},
     "output_type": "execute_result"
    },
    {
     "data": {
      "image/png": "[encoded data removed]",
      "text/plain": [
       "<Figure size 432x288 with 1 Axes>"
      ]
     },
     "metadata": {
      "needs_background": "light"
     },
     "output_type": "display_data"
    }
   ],
   "source": [
    "EstB.plot.line()"
   ]
  },
  {
   "cell_type": "code",
   "execution_count": 61,
   "metadata": {
    "scrolled": true
   },
   "outputs": [
    {
     "data": {
      "text/plain": [
       "<matplotlib.axes._subplots.AxesSubplot at 0x26c60b8ec70>"
      ]
     },
     "execution_count": 61,
     "metadata": {},
     "output_type": "execute_result"
    },
    {
     "data": {
      "image/png": "[encoded data removed]",
      "text/plain": [
       "<Figure size 432x288 with 1 Axes>"
      ]
     },
     "metadata": {
      "needs_background": "light"
     },
     "output_type": "display_data"
    }
   ],
   "source": [
    "EstB.plot.bar(stacked=True)"
   ]
  },
  {
   "cell_type": "markdown",
   "metadata": {},
   "source": [
    "En las gráficas anteriores apreciamos las frecuencias de las formas del sombrero donde la convexa y plana son las más comunes, de estas formas los colores del sombrero que más se representan son el gris, marrón y rojo"
   ]
  },
  {
   "cell_type": "markdown",
   "metadata": {},
   "source": [
    "#### Boxplot"
   ]
  },
  {
   "cell_type": "code",
   "execution_count": 62,
   "metadata": {},
   "outputs": [],
   "source": [
    "import math\n",
    "from collections import Counter\n",
    "import numpy as np\n",
    "import seaborn as sns\n",
    "import pandas as pd\n",
    "import scipy.stats as ss\n",
    "import matplotlib.pyplot as plt\n",
    "import sklearn.preprocessing as sp\n",
    "from sklearn.tree import DecisionTreeClassifier\n",
    "from sklearn.model_selection import train_test_split\n",
    "from sklearn.metrics import classification_report, confusion_matrix, accuracy_score\n",
    "from subprocess import check_output"
   ]
  },
  {
   "cell_type": "code",
   "execution_count": 65,
   "metadata": {
    "scrolled": false
   },
   "outputs": [
    {
     "data": {
      "text/plain": [
       "<matplotlib.axes._subplots.AxesSubplot at 0x26c63435ca0>"
      ]
     },
     "execution_count": 65,
     "metadata": {},
     "output_type": "execute_result"
    },
    {
     "data": {
      "image/png": "[encoded data removed]",
      "text/plain": [
       "<Figure size 432x288 with 1 Axes>"
      ]
     },
     "metadata": {
      "needs_background": "light"
     },
     "output_type": "display_data"
    }
   ],
   "source": [
    "sns.boxplot(\n",
    "    data=EstB\n",
    ")"
   ]
  },
  {
   "cell_type": "markdown",
   "metadata": {},
   "source": [
    "El gráfico de los boxplots se nota las frecuencias estan cargadas en valores pequeños pero no representa información importante para nuestro análisis."
   ]
  },
  {
   "cell_type": "code",
   "execution_count": 66,
   "metadata": {},
   "outputs": [
    {
     "data": {
      "text/plain": [
       "<seaborn.axisgrid.PairGrid at 0x26c6342b790>"
      ]
     },
     "execution_count": 66,
     "metadata": {},
     "output_type": "execute_result"
    },
    {
     "data": {
      "image/png": "[encoded data removed]",
      "text/plain": [
       "<Figure size 720x720 with 20 Axes>"
      ]
     },
     "metadata": {
      "needs_background": "light"
     },
     "output_type": "display_data"
    }
   ],
   "source": [
    "sns.pairplot(EstB[['amarillo', 'marron', 'rojo', 'verde']])"
   ]
  },
  {
   "cell_type": "markdown",
   "metadata": {},
   "source": [
    "Las relaciones de los colores no son importantes para nuestro proyecto."
   ]
  },
  {
   "cell_type": "markdown",
   "metadata": {},
   "source": [
    "### Gráficas multivariadas"
   ]
  },
  {
   "cell_type": "markdown",
   "metadata": {},
   "source": [
    "#### Uncertainty coefficient o Coeficente de Incertidumbre\n",
    "\n",
    "En estadística es coeficiente de incertidumbre, también conocido como *coeficiente de entropía*, es una medida de asociación nominal. Este es útil para medir la validez de un algritmo de clasificación estadística. El coeficiente de incertidumbre toma valores entre 0 y 1, donde 0 significa que la característica y no provee información acerca de la característica x, y 1 significa que y provee de toda la información acerca del valor de la característica x.\n",
    "\n",
    "Link: https://en.wikipedia.org/wiki/Uncertainty_coefficient"
   ]
  },
  {
   "cell_type": "code",
   "execution_count": 67,
   "metadata": {},
   "outputs": [],
   "source": [
    "def condicional_entropia(x,y):\n",
    "    y_contador = Counter(y)\n",
    "    xy_contador = Counter(list(zip(x,y)))\n",
    "    T_ocurrencias = sum(y_contador.values())\n",
    "    entropia = 0\n",
    "    for i in xy_contador.keys():\n",
    "        p_xy = xy_contador[i] / T_ocurrencias\n",
    "        p_y = y_contador[i[1]] / T_ocurrencias\n",
    "        entropia = entropia + (p_xy * math.log(p_y/p_xy))\n",
    "    return entropia\n",
    "\n",
    "def Coef_In(x,y):\n",
    "    s_xy = condicional_entropia(x,y)\n",
    "    x_contador = Counter(x)\n",
    "    T_ocurrencias = sum(x_contador.values())\n",
    "    p_x = list(map(lambda n: n/T_ocurrencias, x_contador.values()))\n",
    "    s_x = ss.entropy(p_x)\n",
    "    if s_x == 0:\n",
    "        return 1\n",
    "    else:\n",
    "        return (s_x - s_xy) / s_x"
   ]
  },
  {
   "cell_type": "code",
   "execution_count": 68,
   "metadata": {},
   "outputs": [
    {
     "data": {
      "image/png": "[encoded data removed]",
      "text/plain": [
       "<Figure size 1584x72 with 2 Axes>"
      ]
     },
     "metadata": {
      "needs_background": "light"
     },
     "output_type": "display_data"
    }
   ],
   "source": [
    "CI = pd.DataFrame(index=['Clase'],columns=hongos.columns)\n",
    "columns = hongos.columns\n",
    "for j in range(0,len(columns)):\n",
    "    u = Coef_In(hongos['Clase'].tolist(),hongos[columns[j]].tolist())\n",
    "    CI.loc[:,columns[j]] = u\n",
    "CI.fillna(value=np.nan,inplace=True)\n",
    "plt.figure(figsize=(22,1))\n",
    "sns.heatmap(CI,annot=True,fmt='.3f', cmap = \"YlGnBu\")\n",
    "plt.title(\"Coeficiente de Incertidumbre con respecto a la Clase\")\n",
    "plt.show()"
   ]
  },
  {
   "cell_type": "markdown",
   "metadata": {},
   "source": [
    "Como podemos observar las características que más influyen en el hecho de que un hongo sea venenoso o comestible son el olor, el color de las láminas y el color de las esporas, por lo que para nuestros siguientes análisis nos enfocaremos en estas tres características."
   ]
  },
  {
   "cell_type": "markdown",
   "metadata": {},
   "source": [
    "Nos apoyamos en el código de Raul E. Lopez Briega para la realización de los siguientes análisis\n",
    "\n",
    "Link: https://relopezbriega.github.io/blog/2016/02/29/analisis-de-datos-categoricos-con-python/"
   ]
  },
  {
   "cell_type": "code",
   "execution_count": 69,
   "metadata": {},
   "outputs": [
    {
     "data": {
      "text/plain": [
       "comestible    51.797144\n",
       "venenoso      48.202856\n",
       "Name: Clase, dtype: float64"
      ]
     },
     "execution_count": 69,
     "metadata": {},
     "output_type": "execute_result"
    }
   ],
   "source": [
    "100*hongos['Clase'].value_counts()/len(hongos['Clase'])"
   ]
  },
  {
   "cell_type": "code",
   "execution_count": 70,
   "metadata": {},
   "outputs": [
    {
     "data": {
      "text/plain": [
       "<matplotlib.axes._subplots.AxesSubplot at 0x26c6360c3a0>"
      ]
     },
     "execution_count": 70,
     "metadata": {},
     "output_type": "execute_result"
    },
    {
     "data": {
      "image/png": "[encoded data removed]",
      "text/plain": [
       "<Figure size 432x432 with 1 Axes>"
      ]
     },
     "metadata": {},
     "output_type": "display_data"
    }
   ],
   "source": [
    "hongos['Clase'].value_counts().plot(kind = \"pie\",  autopct='%.2f', figsize=(6, 6), title='Porcentaje de Venenosos y Comestibles')"
   ]
  },
  {
   "cell_type": "markdown",
   "metadata": {},
   "source": [
    "Con este gráfico de pastel podemos darnos cuenta que las proporciones de hongos venenosos y comestibles dentro de la base de datos son muy similares."
   ]
  },
  {
   "cell_type": "code",
   "execution_count": 71,
   "metadata": {},
   "outputs": [
    {
     "data": {
      "text/html": [
       "<div>\n",
       "<style scoped>\n",
       "    .dataframe tbody tr th:only-of-type {\n",
       "        vertical-align: middle;\n",
       "    }\n",
       "\n",
       "    .dataframe tbody tr th {\n",
       "        vertical-align: top;\n",
       "    }\n",
       "\n",
       "    .dataframe thead th {\n",
       "        text-align: right;\n",
       "    }\n",
       "</style>\n",
       "<table border=\"1\" class=\"dataframe\">\n",
       "  <thead>\n",
       "    <tr style=\"text-align: right;\">\n",
       "      <th>Olor</th>\n",
       "      <th>acre</th>\n",
       "      <th>almendra</th>\n",
       "      <th>anis</th>\n",
       "      <th>creosota</th>\n",
       "      <th>mohoso</th>\n",
       "      <th>ninguno</th>\n",
       "      <th>pescado</th>\n",
       "      <th>picante</th>\n",
       "      <th>sucio</th>\n",
       "      <th>All</th>\n",
       "    </tr>\n",
       "    <tr>\n",
       "      <th>Clase</th>\n",
       "      <th></th>\n",
       "      <th></th>\n",
       "      <th></th>\n",
       "      <th></th>\n",
       "      <th></th>\n",
       "      <th></th>\n",
       "      <th></th>\n",
       "      <th></th>\n",
       "      <th></th>\n",
       "      <th></th>\n",
       "    </tr>\n",
       "  </thead>\n",
       "  <tbody>\n",
       "    <tr>\n",
       "      <th>comestible</th>\n",
       "      <td>0</td>\n",
       "      <td>400</td>\n",
       "      <td>400</td>\n",
       "      <td>0</td>\n",
       "      <td>0</td>\n",
       "      <td>3408</td>\n",
       "      <td>0</td>\n",
       "      <td>0</td>\n",
       "      <td>0</td>\n",
       "      <td>4208</td>\n",
       "    </tr>\n",
       "    <tr>\n",
       "      <th>venenoso</th>\n",
       "      <td>256</td>\n",
       "      <td>0</td>\n",
       "      <td>0</td>\n",
       "      <td>192</td>\n",
       "      <td>36</td>\n",
       "      <td>120</td>\n",
       "      <td>576</td>\n",
       "      <td>576</td>\n",
       "      <td>2160</td>\n",
       "      <td>3916</td>\n",
       "    </tr>\n",
       "    <tr>\n",
       "      <th>All</th>\n",
       "      <td>256</td>\n",
       "      <td>400</td>\n",
       "      <td>400</td>\n",
       "      <td>192</td>\n",
       "      <td>36</td>\n",
       "      <td>3528</td>\n",
       "      <td>576</td>\n",
       "      <td>576</td>\n",
       "      <td>2160</td>\n",
       "      <td>8124</td>\n",
       "    </tr>\n",
       "  </tbody>\n",
       "</table>\n",
       "</div>"
      ],
      "text/plain": [
       "Olor        acre  almendra  anis  creosota  mohoso  ninguno  pescado  picante  \\\n",
       "Clase                                                                           \n",
       "comestible     0       400   400         0       0     3408        0        0   \n",
       "venenoso     256         0     0       192      36      120      576      576   \n",
       "All          256       400   400       192      36     3528      576      576   \n",
       "\n",
       "Olor        sucio   All  \n",
       "Clase                    \n",
       "comestible      0  4208  \n",
       "venenoso     2160  3916  \n",
       "All          2160  8124  "
      ]
     },
     "execution_count": 71,
     "metadata": {},
     "output_type": "execute_result"
    }
   ],
   "source": [
    "pd.crosstab(index=hongos['Clase'], columns = hongos['Olor'], margins=True)"
   ]
  },
  {
   "cell_type": "code",
   "execution_count": 72,
   "metadata": {},
   "outputs": [
    {
     "data": {
      "text/html": [
       "<div>\n",
       "<style scoped>\n",
       "    .dataframe tbody tr th:only-of-type {\n",
       "        vertical-align: middle;\n",
       "    }\n",
       "\n",
       "    .dataframe tbody tr th {\n",
       "        vertical-align: top;\n",
       "    }\n",
       "\n",
       "    .dataframe thead th {\n",
       "        text-align: right;\n",
       "    }\n",
       "</style>\n",
       "<table border=\"1\" class=\"dataframe\">\n",
       "  <thead>\n",
       "    <tr style=\"text-align: right;\">\n",
       "      <th>Olor</th>\n",
       "      <th>acre</th>\n",
       "      <th>almendra</th>\n",
       "      <th>anis</th>\n",
       "      <th>creosota</th>\n",
       "      <th>mohoso</th>\n",
       "      <th>ninguno</th>\n",
       "      <th>pescado</th>\n",
       "      <th>picante</th>\n",
       "      <th>sucio</th>\n",
       "      <th>All</th>\n",
       "    </tr>\n",
       "    <tr>\n",
       "      <th>Clase</th>\n",
       "      <th></th>\n",
       "      <th></th>\n",
       "      <th></th>\n",
       "      <th></th>\n",
       "      <th></th>\n",
       "      <th></th>\n",
       "      <th></th>\n",
       "      <th></th>\n",
       "      <th></th>\n",
       "      <th></th>\n",
       "    </tr>\n",
       "  </thead>\n",
       "  <tbody>\n",
       "    <tr>\n",
       "      <th>comestible</th>\n",
       "      <td>0.000000</td>\n",
       "      <td>4.923683</td>\n",
       "      <td>4.923683</td>\n",
       "      <td>0.000000</td>\n",
       "      <td>0.000000</td>\n",
       "      <td>41.949778</td>\n",
       "      <td>0.000000</td>\n",
       "      <td>0.000000</td>\n",
       "      <td>0.000000</td>\n",
       "      <td>51.797144</td>\n",
       "    </tr>\n",
       "    <tr>\n",
       "      <th>venenoso</th>\n",
       "      <td>3.151157</td>\n",
       "      <td>0.000000</td>\n",
       "      <td>0.000000</td>\n",
       "      <td>2.363368</td>\n",
       "      <td>0.443131</td>\n",
       "      <td>1.477105</td>\n",
       "      <td>7.090103</td>\n",
       "      <td>7.090103</td>\n",
       "      <td>26.587888</td>\n",
       "      <td>48.202856</td>\n",
       "    </tr>\n",
       "    <tr>\n",
       "      <th>All</th>\n",
       "      <td>3.151157</td>\n",
       "      <td>4.923683</td>\n",
       "      <td>4.923683</td>\n",
       "      <td>2.363368</td>\n",
       "      <td>0.443131</td>\n",
       "      <td>43.426883</td>\n",
       "      <td>7.090103</td>\n",
       "      <td>7.090103</td>\n",
       "      <td>26.587888</td>\n",
       "      <td>100.000000</td>\n",
       "    </tr>\n",
       "  </tbody>\n",
       "</table>\n",
       "</div>"
      ],
      "text/plain": [
       "Olor            acre  almendra      anis  creosota    mohoso    ninguno  \\\n",
       "Clase                                                                     \n",
       "comestible  0.000000  4.923683  4.923683  0.000000  0.000000  41.949778   \n",
       "venenoso    3.151157  0.000000  0.000000  2.363368  0.443131   1.477105   \n",
       "All         3.151157  4.923683  4.923683  2.363368  0.443131  43.426883   \n",
       "\n",
       "Olor         pescado   picante      sucio         All  \n",
       "Clase                                                  \n",
       "comestible  0.000000  0.000000   0.000000   51.797144  \n",
       "venenoso    7.090103  7.090103  26.587888   48.202856  \n",
       "All         7.090103  7.090103  26.587888  100.000000  "
      ]
     },
     "execution_count": 72,
     "metadata": {},
     "output_type": "execute_result"
    }
   ],
   "source": [
    "pd.crosstab(index=hongos['Clase'], columns = hongos['Olor'], margins=True).apply(lambda r: r/len(hongos) *100, axis=1)"
   ]
  },
  {
   "cell_type": "code",
   "execution_count": 73,
   "metadata": {},
   "outputs": [
    {
     "data": {
      "text/plain": [
       "<matplotlib.axes._subplots.AxesSubplot at 0x26c6503a9a0>"
      ]
     },
     "execution_count": 73,
     "metadata": {},
     "output_type": "execute_result"
    },
    {
     "data": {
      "image/png": "[encoded data removed]",
      "text/plain": [
       "<Figure size 720x360 with 1 Axes>"
      ]
     },
     "metadata": {
      "needs_background": "light"
     },
     "output_type": "display_data"
    }
   ],
   "source": [
    "pd.crosstab(index=hongos['Clase'], columns = hongos['Olor']).plot(kind = \"bar\", figsize = (10, 5))"
   ]
  },
  {
   "cell_type": "markdown",
   "metadata": {},
   "source": [
    "Por la distribución de las frecuencias en la tablas de contingencia y analizando el gráfico de barras notamos que los hongos venesosos y comestibles tienen olores muy caracteristicos, como por ejemplo los hongos comestibles tienen olores similares a almendras y anís, en cambio los hongos venenosos tienen un aroma similar a acre, creosota y pescado. El problema será cuando el hongo no presente ningunos de los olores mencionados anteriormente, ya que los hongos venenosos y comestibles comparten esta caracteristica"
   ]
  },
  {
   "cell_type": "code",
   "execution_count": 74,
   "metadata": {},
   "outputs": [
    {
     "data": {
      "text/html": [
       "<div>\n",
       "<style scoped>\n",
       "    .dataframe tbody tr th:only-of-type {\n",
       "        vertical-align: middle;\n",
       "    }\n",
       "\n",
       "    .dataframe tbody tr th {\n",
       "        vertical-align: top;\n",
       "    }\n",
       "\n",
       "    .dataframe thead th {\n",
       "        text-align: right;\n",
       "    }\n",
       "</style>\n",
       "<table border=\"1\" class=\"dataframe\">\n",
       "  <thead>\n",
       "    <tr style=\"text-align: right;\">\n",
       "      <th>Color_Espora</th>\n",
       "      <th>amarillo</th>\n",
       "      <th>ante</th>\n",
       "      <th>blanco</th>\n",
       "      <th>chocolate</th>\n",
       "      <th>marron</th>\n",
       "      <th>naranja</th>\n",
       "      <th>negro</th>\n",
       "      <th>verde</th>\n",
       "      <th>violeta</th>\n",
       "      <th>All</th>\n",
       "    </tr>\n",
       "    <tr>\n",
       "      <th>Clase</th>\n",
       "      <th></th>\n",
       "      <th></th>\n",
       "      <th></th>\n",
       "      <th></th>\n",
       "      <th></th>\n",
       "      <th></th>\n",
       "      <th></th>\n",
       "      <th></th>\n",
       "      <th></th>\n",
       "      <th></th>\n",
       "    </tr>\n",
       "  </thead>\n",
       "  <tbody>\n",
       "    <tr>\n",
       "      <th>comestible</th>\n",
       "      <td>48</td>\n",
       "      <td>48</td>\n",
       "      <td>576</td>\n",
       "      <td>48</td>\n",
       "      <td>1744</td>\n",
       "      <td>48</td>\n",
       "      <td>1648</td>\n",
       "      <td>0</td>\n",
       "      <td>48</td>\n",
       "      <td>4208</td>\n",
       "    </tr>\n",
       "    <tr>\n",
       "      <th>venenoso</th>\n",
       "      <td>0</td>\n",
       "      <td>0</td>\n",
       "      <td>1812</td>\n",
       "      <td>1584</td>\n",
       "      <td>224</td>\n",
       "      <td>0</td>\n",
       "      <td>224</td>\n",
       "      <td>72</td>\n",
       "      <td>0</td>\n",
       "      <td>3916</td>\n",
       "    </tr>\n",
       "    <tr>\n",
       "      <th>All</th>\n",
       "      <td>48</td>\n",
       "      <td>48</td>\n",
       "      <td>2388</td>\n",
       "      <td>1632</td>\n",
       "      <td>1968</td>\n",
       "      <td>48</td>\n",
       "      <td>1872</td>\n",
       "      <td>72</td>\n",
       "      <td>48</td>\n",
       "      <td>8124</td>\n",
       "    </tr>\n",
       "  </tbody>\n",
       "</table>\n",
       "</div>"
      ],
      "text/plain": [
       "Color_Espora  amarillo  ante  blanco  chocolate  marron  naranja  negro  \\\n",
       "Clase                                                                     \n",
       "comestible          48    48     576         48    1744       48   1648   \n",
       "venenoso             0     0    1812       1584     224        0    224   \n",
       "All                 48    48    2388       1632    1968       48   1872   \n",
       "\n",
       "Color_Espora  verde  violeta   All  \n",
       "Clase                               \n",
       "comestible        0       48  4208  \n",
       "venenoso         72        0  3916  \n",
       "All              72       48  8124  "
      ]
     },
     "execution_count": 74,
     "metadata": {},
     "output_type": "execute_result"
    }
   ],
   "source": [
    "pd.crosstab(index=hongos['Clase'], columns = hongos['Color_Espora'], margins=True)"
   ]
  },
  {
   "cell_type": "code",
   "execution_count": 75,
   "metadata": {},
   "outputs": [
    {
     "data": {
      "text/html": [
       "<div>\n",
       "<style scoped>\n",
       "    .dataframe tbody tr th:only-of-type {\n",
       "        vertical-align: middle;\n",
       "    }\n",
       "\n",
       "    .dataframe tbody tr th {\n",
       "        vertical-align: top;\n",
       "    }\n",
       "\n",
       "    .dataframe thead th {\n",
       "        text-align: right;\n",
       "    }\n",
       "</style>\n",
       "<table border=\"1\" class=\"dataframe\">\n",
       "  <thead>\n",
       "    <tr style=\"text-align: right;\">\n",
       "      <th>Color_Espora</th>\n",
       "      <th>amarillo</th>\n",
       "      <th>ante</th>\n",
       "      <th>blanco</th>\n",
       "      <th>chocolate</th>\n",
       "      <th>marron</th>\n",
       "      <th>naranja</th>\n",
       "      <th>negro</th>\n",
       "      <th>verde</th>\n",
       "      <th>violeta</th>\n",
       "      <th>All</th>\n",
       "    </tr>\n",
       "    <tr>\n",
       "      <th>Clase</th>\n",
       "      <th></th>\n",
       "      <th></th>\n",
       "      <th></th>\n",
       "      <th></th>\n",
       "      <th></th>\n",
       "      <th></th>\n",
       "      <th></th>\n",
       "      <th></th>\n",
       "      <th></th>\n",
       "      <th></th>\n",
       "    </tr>\n",
       "  </thead>\n",
       "  <tbody>\n",
       "    <tr>\n",
       "      <th>comestible</th>\n",
       "      <td>0.590842</td>\n",
       "      <td>0.590842</td>\n",
       "      <td>7.090103</td>\n",
       "      <td>0.590842</td>\n",
       "      <td>21.467258</td>\n",
       "      <td>0.590842</td>\n",
       "      <td>20.285574</td>\n",
       "      <td>0.000000</td>\n",
       "      <td>0.590842</td>\n",
       "      <td>51.797144</td>\n",
       "    </tr>\n",
       "    <tr>\n",
       "      <th>venenoso</th>\n",
       "      <td>0.000000</td>\n",
       "      <td>0.000000</td>\n",
       "      <td>22.304284</td>\n",
       "      <td>19.497784</td>\n",
       "      <td>2.757262</td>\n",
       "      <td>0.000000</td>\n",
       "      <td>2.757262</td>\n",
       "      <td>0.886263</td>\n",
       "      <td>0.000000</td>\n",
       "      <td>48.202856</td>\n",
       "    </tr>\n",
       "    <tr>\n",
       "      <th>All</th>\n",
       "      <td>0.590842</td>\n",
       "      <td>0.590842</td>\n",
       "      <td>29.394387</td>\n",
       "      <td>20.088626</td>\n",
       "      <td>24.224520</td>\n",
       "      <td>0.590842</td>\n",
       "      <td>23.042836</td>\n",
       "      <td>0.886263</td>\n",
       "      <td>0.590842</td>\n",
       "      <td>100.000000</td>\n",
       "    </tr>\n",
       "  </tbody>\n",
       "</table>\n",
       "</div>"
      ],
      "text/plain": [
       "Color_Espora  amarillo      ante     blanco  chocolate     marron   naranja  \\\n",
       "Clase                                                                         \n",
       "comestible    0.590842  0.590842   7.090103   0.590842  21.467258  0.590842   \n",
       "venenoso      0.000000  0.000000  22.304284  19.497784   2.757262  0.000000   \n",
       "All           0.590842  0.590842  29.394387  20.088626  24.224520  0.590842   \n",
       "\n",
       "Color_Espora      negro     verde   violeta         All  \n",
       "Clase                                                    \n",
       "comestible    20.285574  0.000000  0.590842   51.797144  \n",
       "venenoso       2.757262  0.886263  0.000000   48.202856  \n",
       "All           23.042836  0.886263  0.590842  100.000000  "
      ]
     },
     "execution_count": 75,
     "metadata": {},
     "output_type": "execute_result"
    }
   ],
   "source": [
    "pd.crosstab(index=hongos['Clase'], columns = hongos['Color_Espora'], margins=True).apply(lambda r: r/len(hongos) *100, axis=1)"
   ]
  },
  {
   "cell_type": "code",
   "execution_count": 76,
   "metadata": {
    "scrolled": true
   },
   "outputs": [
    {
     "data": {
      "text/plain": [
       "<matplotlib.axes._subplots.AxesSubplot at 0x26c650e4e50>"
      ]
     },
     "execution_count": 76,
     "metadata": {},
     "output_type": "execute_result"
    },
    {
     "data": {
      "image/png": "[encoded data removed]",
      "text/plain": [
       "<Figure size 720x360 with 1 Axes>"
      ]
     },
     "metadata": {
      "needs_background": "light"
     },
     "output_type": "display_data"
    }
   ],
   "source": [
    "pd.crosstab(index=hongos['Clase'], columns = hongos['Color_Espora']).plot(kind = \"bar\", figsize = (10, 5))"
   ]
  },
  {
   "cell_type": "markdown",
   "metadata": {},
   "source": [
    "Con la ayuda de la tabla de frecuencia y el gráfico identificamos si existen carecteristicas únicas o diferenciadoras con respecto al color de sus esporas, ya que si son de color amarillo, ante, naranja o violeta podemos suponer que el hongo es comesible, en cambio si son de color verde podemos suponer que se trata de un hongo venenoso."
   ]
  },
  {
   "cell_type": "code",
   "execution_count": 77,
   "metadata": {},
   "outputs": [
    {
     "data": {
      "text/html": [
       "<div>\n",
       "<style scoped>\n",
       "    .dataframe tbody tr th:only-of-type {\n",
       "        vertical-align: middle;\n",
       "    }\n",
       "\n",
       "    .dataframe tbody tr th {\n",
       "        vertical-align: top;\n",
       "    }\n",
       "\n",
       "    .dataframe thead th {\n",
       "        text-align: right;\n",
       "    }\n",
       "</style>\n",
       "<table border=\"1\" class=\"dataframe\">\n",
       "  <thead>\n",
       "    <tr style=\"text-align: right;\">\n",
       "      <th>Color_Laminas</th>\n",
       "      <th>amarillo</th>\n",
       "      <th>ante</th>\n",
       "      <th>blanco</th>\n",
       "      <th>chocolate</th>\n",
       "      <th>gris</th>\n",
       "      <th>marron</th>\n",
       "      <th>naranja</th>\n",
       "      <th>negro</th>\n",
       "      <th>rojo</th>\n",
       "      <th>rosa</th>\n",
       "      <th>verde</th>\n",
       "      <th>violeta</th>\n",
       "      <th>All</th>\n",
       "    </tr>\n",
       "    <tr>\n",
       "      <th>Clase</th>\n",
       "      <th></th>\n",
       "      <th></th>\n",
       "      <th></th>\n",
       "      <th></th>\n",
       "      <th></th>\n",
       "      <th></th>\n",
       "      <th></th>\n",
       "      <th></th>\n",
       "      <th></th>\n",
       "      <th></th>\n",
       "      <th></th>\n",
       "      <th></th>\n",
       "      <th></th>\n",
       "    </tr>\n",
       "  </thead>\n",
       "  <tbody>\n",
       "    <tr>\n",
       "      <th>comestible</th>\n",
       "      <td>64</td>\n",
       "      <td>0</td>\n",
       "      <td>956</td>\n",
       "      <td>204</td>\n",
       "      <td>248</td>\n",
       "      <td>936</td>\n",
       "      <td>64</td>\n",
       "      <td>344</td>\n",
       "      <td>96</td>\n",
       "      <td>852</td>\n",
       "      <td>0</td>\n",
       "      <td>444</td>\n",
       "      <td>4208</td>\n",
       "    </tr>\n",
       "    <tr>\n",
       "      <th>venenoso</th>\n",
       "      <td>22</td>\n",
       "      <td>1728</td>\n",
       "      <td>246</td>\n",
       "      <td>528</td>\n",
       "      <td>504</td>\n",
       "      <td>112</td>\n",
       "      <td>0</td>\n",
       "      <td>64</td>\n",
       "      <td>0</td>\n",
       "      <td>640</td>\n",
       "      <td>24</td>\n",
       "      <td>48</td>\n",
       "      <td>3916</td>\n",
       "    </tr>\n",
       "    <tr>\n",
       "      <th>All</th>\n",
       "      <td>86</td>\n",
       "      <td>1728</td>\n",
       "      <td>1202</td>\n",
       "      <td>732</td>\n",
       "      <td>752</td>\n",
       "      <td>1048</td>\n",
       "      <td>64</td>\n",
       "      <td>408</td>\n",
       "      <td>96</td>\n",
       "      <td>1492</td>\n",
       "      <td>24</td>\n",
       "      <td>492</td>\n",
       "      <td>8124</td>\n",
       "    </tr>\n",
       "  </tbody>\n",
       "</table>\n",
       "</div>"
      ],
      "text/plain": [
       "Color_Laminas  amarillo  ante  blanco  chocolate  gris  marron  naranja  \\\n",
       "Clase                                                                     \n",
       "comestible           64     0     956        204   248     936       64   \n",
       "venenoso             22  1728     246        528   504     112        0   \n",
       "All                  86  1728    1202        732   752    1048       64   \n",
       "\n",
       "Color_Laminas  negro  rojo  rosa  verde  violeta   All  \n",
       "Clase                                                   \n",
       "comestible       344    96   852      0      444  4208  \n",
       "venenoso          64     0   640     24       48  3916  \n",
       "All              408    96  1492     24      492  8124  "
      ]
     },
     "execution_count": 77,
     "metadata": {},
     "output_type": "execute_result"
    }
   ],
   "source": [
    "pd.crosstab(index=hongos['Clase'], columns = hongos['Color_Laminas'], margins=True)"
   ]
  },
  {
   "cell_type": "code",
   "execution_count": 78,
   "metadata": {},
   "outputs": [
    {
     "data": {
      "text/html": [
       "<div>\n",
       "<style scoped>\n",
       "    .dataframe tbody tr th:only-of-type {\n",
       "        vertical-align: middle;\n",
       "    }\n",
       "\n",
       "    .dataframe tbody tr th {\n",
       "        vertical-align: top;\n",
       "    }\n",
       "\n",
       "    .dataframe thead th {\n",
       "        text-align: right;\n",
       "    }\n",
       "</style>\n",
       "<table border=\"1\" class=\"dataframe\">\n",
       "  <thead>\n",
       "    <tr style=\"text-align: right;\">\n",
       "      <th>Color_Laminas</th>\n",
       "      <th>amarillo</th>\n",
       "      <th>ante</th>\n",
       "      <th>blanco</th>\n",
       "      <th>chocolate</th>\n",
       "      <th>gris</th>\n",
       "      <th>marron</th>\n",
       "      <th>naranja</th>\n",
       "      <th>negro</th>\n",
       "      <th>rojo</th>\n",
       "      <th>rosa</th>\n",
       "      <th>verde</th>\n",
       "      <th>violeta</th>\n",
       "      <th>All</th>\n",
       "    </tr>\n",
       "    <tr>\n",
       "      <th>Clase</th>\n",
       "      <th></th>\n",
       "      <th></th>\n",
       "      <th></th>\n",
       "      <th></th>\n",
       "      <th></th>\n",
       "      <th></th>\n",
       "      <th></th>\n",
       "      <th></th>\n",
       "      <th></th>\n",
       "      <th></th>\n",
       "      <th></th>\n",
       "      <th></th>\n",
       "      <th></th>\n",
       "    </tr>\n",
       "  </thead>\n",
       "  <tbody>\n",
       "    <tr>\n",
       "      <th>comestible</th>\n",
       "      <td>0.787789</td>\n",
       "      <td>0.00000</td>\n",
       "      <td>11.767602</td>\n",
       "      <td>2.511078</td>\n",
       "      <td>3.052683</td>\n",
       "      <td>11.521418</td>\n",
       "      <td>0.787789</td>\n",
       "      <td>4.234367</td>\n",
       "      <td>1.181684</td>\n",
       "      <td>10.487445</td>\n",
       "      <td>0.000000</td>\n",
       "      <td>5.465288</td>\n",
       "      <td>51.797144</td>\n",
       "    </tr>\n",
       "    <tr>\n",
       "      <th>venenoso</th>\n",
       "      <td>0.270803</td>\n",
       "      <td>21.27031</td>\n",
       "      <td>3.028065</td>\n",
       "      <td>6.499261</td>\n",
       "      <td>6.203840</td>\n",
       "      <td>1.378631</td>\n",
       "      <td>0.000000</td>\n",
       "      <td>0.787789</td>\n",
       "      <td>0.000000</td>\n",
       "      <td>7.877893</td>\n",
       "      <td>0.295421</td>\n",
       "      <td>0.590842</td>\n",
       "      <td>48.202856</td>\n",
       "    </tr>\n",
       "    <tr>\n",
       "      <th>All</th>\n",
       "      <td>1.058592</td>\n",
       "      <td>21.27031</td>\n",
       "      <td>14.795667</td>\n",
       "      <td>9.010340</td>\n",
       "      <td>9.256524</td>\n",
       "      <td>12.900049</td>\n",
       "      <td>0.787789</td>\n",
       "      <td>5.022157</td>\n",
       "      <td>1.181684</td>\n",
       "      <td>18.365337</td>\n",
       "      <td>0.295421</td>\n",
       "      <td>6.056130</td>\n",
       "      <td>100.000000</td>\n",
       "    </tr>\n",
       "  </tbody>\n",
       "</table>\n",
       "</div>"
      ],
      "text/plain": [
       "Color_Laminas  amarillo      ante     blanco  chocolate      gris     marron  \\\n",
       "Clase                                                                          \n",
       "comestible     0.787789   0.00000  11.767602   2.511078  3.052683  11.521418   \n",
       "venenoso       0.270803  21.27031   3.028065   6.499261  6.203840   1.378631   \n",
       "All            1.058592  21.27031  14.795667   9.010340  9.256524  12.900049   \n",
       "\n",
       "Color_Laminas   naranja     negro      rojo       rosa     verde   violeta  \\\n",
       "Clase                                                                        \n",
       "comestible     0.787789  4.234367  1.181684  10.487445  0.000000  5.465288   \n",
       "venenoso       0.000000  0.787789  0.000000   7.877893  0.295421  0.590842   \n",
       "All            0.787789  5.022157  1.181684  18.365337  0.295421  6.056130   \n",
       "\n",
       "Color_Laminas         All  \n",
       "Clase                      \n",
       "comestible      51.797144  \n",
       "venenoso        48.202856  \n",
       "All            100.000000  "
      ]
     },
     "execution_count": 78,
     "metadata": {},
     "output_type": "execute_result"
    }
   ],
   "source": [
    "pd.crosstab(index=hongos['Clase'], columns = hongos['Color_Laminas'], margins=True).apply(lambda r: r/len(hongos) *100, axis=1)"
   ]
  },
  {
   "cell_type": "code",
   "execution_count": 79,
   "metadata": {},
   "outputs": [
    {
     "data": {
      "text/plain": [
       "<matplotlib.axes._subplots.AxesSubplot at 0x26c65192640>"
      ]
     },
     "execution_count": 79,
     "metadata": {},
     "output_type": "execute_result"
    },
    {
     "data": {
      "image/png": "[encoded data removed]",
      "text/plain": [
       "<Figure size 720x360 with 1 Axes>"
      ]
     },
     "metadata": {
      "needs_background": "light"
     },
     "output_type": "display_data"
    }
   ],
   "source": [
    "pd.crosstab(index=hongos['Clase'], columns = hongos['Color_Laminas']).plot(kind = \"bar\", figsize = (10, 5))"
   ]
  },
  {
   "cell_type": "markdown",
   "metadata": {},
   "source": [
    "Con la ayuda de la tabla de frecuencia y el gráfico identificamos si existen carecteristicas únicas o diferenciadoras con respecto al color de sus laminas, ya que si un hongo tiene sus laminas de color naranja y rojo puede tratarse de un hongo comestible y cuando sus laminas de color ante y verde se trata de un hongo venenoso."
   ]
  },
  {
   "cell_type": "markdown",
   "metadata": {},
   "source": [
    "- Realizar una comparacion entre scatter plot y hexbin plot. Cual es mejor en cual caso y explicar porque."
   ]
  },
  {
   "cell_type": "markdown",
   "metadata": {},
   "source": [
    "Hexbin: Es utilizado para representar la relación que existe entre 2 variables numéricas cuando tenemos una gran cantidad de datos. En lugar de sobrescribrirlos, se crea una ventana en forma de varios hexágonos y el número de puntos por hexágo es contado. Su color denota el número de puntos que hay dentro del hexágono, puede ser utilizado usando la funcion hexbin de Matplotlib, ademas de que podemos cambiar el tamaño de los contenedores usando el argumento gridsize, cuando el tamaño de gridsize es menor, los hexagonos serán más grandes y podríamos perder información.Como desventaja este tipo de gráfica no es muy preciso para representar cantidades pequeñas de datos.\n",
    "\n",
    "En cambio el scatter plot,muestra el cada pun es muy util para representar como se distribuyen datos precisos.\n",
    "Scatterplot: Muestra el valor de 2 conjuntos de datos en un gráfico de 2 dimensiones. Cada punto representa una observación. La posición en el eje X (horizontal) e Y (vertical) representa los valores de 2 variables y es realmente útil para estudiar la relación entre ambas variables. Si la cantidad de puntos es muy grande, tendremos problemas de sobreimpresión, por lo que deberíamos de considerar utilizar hexbin.\n",
    "\n",
    "\n",
    "Links:\n",
    "\n",
    "https://python-graph-gallery.com/84-hexbin-plot-with-matplotlib/\n",
    "\n",
    "https://python-graph-gallery.com/scatter-plot/\n",
    "\n",
    "\n"
   ]
  },
  {
   "cell_type": "code",
   "execution_count": null,
   "metadata": {},
   "outputs": [],
   "source": []
  }
 ],
 "metadata": {
  "kernelspec": {
   "display_name": "Python 3",
   "language": "python",
   "name": "python3"
  },
  "language_info": {
   "codemirror_mode": {
    "name": "ipython",
    "version": 3
   },
   "file_extension": ".py",
   "mimetype": "text/x-python",
   "name": "python",
   "nbconvert_exporter": "python",
   "pygments_lexer": "ipython3",
   "version": "3.8.3"
  }
 },
 "nbformat": 4,
 "nbformat_minor": 4
}
